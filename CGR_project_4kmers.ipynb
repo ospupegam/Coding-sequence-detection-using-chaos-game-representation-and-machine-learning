{
  "nbformat": 4,
  "nbformat_minor": 0,
  "metadata": {
    "colab": {
      "name": "CGR_project_4kmers.ipynb",
      "provenance": [],
      "toc_visible": true
    },
    "kernelspec": {
      "display_name": "Python 3",
      "language": "python",
      "name": "python3"
    },
    "language_info": {
      "codemirror_mode": {
        "name": "ipython",
        "version": 3
      },
      "file_extension": ".py",
      "mimetype": "text/x-python",
      "name": "python",
      "nbconvert_exporter": "python",
      "pygments_lexer": "ipython3",
      "version": "3.7.3"
    }
  },
  "cells": [
    {
      "cell_type": "markdown",
      "metadata": {
        "colab_type": "text",
        "id": "4RwUrCdZrFNp"
      },
      "source": [
        "# ***C/NC DNA Detecting Code***\n",
        "\n",
        "---\n",
        "\n",
        "\n",
        "\n",
        "> This code to detect the coding and noncoding sequances (4-kmers) using chaos game representation, Chaos game representation (CGR) is an iterative mapping technique that assigns each nucleotide in a DNA sequence to a respective position on the plane in a one-to-one manner. **bold text\n",
        "\n",
        "Name:\n",
        "\n",
        "Mohamed Ahmed Mohamed Emam 1910038\n",
        "\n",
        "Amna Ali Shaheen Mohamed   1920053\n",
        "\n",
        "Master students, faculty of computer science, Nile University\n",
        "\n",
        "\n",
        "\n",
        "\n"
      ]
    },
    {
      "cell_type": "code",
      "metadata": {
        "colab_type": "code",
        "id": "WC6O1E3MmPCK",
        "colab": {}
      },
      "source": [
        "#Importing_reqiured_libraries\n",
        "%matplotlib inline\n",
        "import numpy as np\n",
        "import os\n",
        "import imageio\n",
        "import matplotlib.pylab as plt\n",
        "import math\n",
        "import pandas as pd\n",
        "from collections import defaultdict\n",
        "from pathlib import Path\n",
        "from numpy.random import seed\n",
        "import sys\n",
        "import matplotlib.cm as cm\n",
        "import pylab\n",
        "ep = sys.float_info.epsilon\n",
        "import seaborn as sn\n",
        "from sklearn import metrics\n",
        "from sklearn import model_selection\n",
        "from IPython.core.interactiveshell import InteractiveShell\n",
        "InteractiveShell.ast_node_interactivity = \"all\""
      ],
      "execution_count": 7,
      "outputs": []
    },
    {
      "cell_type": "code",
      "metadata": {
        "colab_type": "code",
        "id": "Tppjl72LktYk",
        "colab": {
          "base_uri": "https://localhost:8080/",
          "height": 54
        },
        "outputId": "36e19b04-df7f-4a33-fd52-fd41e3e7a1fb"
      },
      "source": [
        "#Retrieve_the_data\n",
        "from google.colab import drive\n",
        "drive.mount('/content/drive')"
      ],
      "execution_count": 8,
      "outputs": [
        {
          "output_type": "stream",
          "text": [
            "Drive already mounted at /content/drive; to attempt to forcibly remount, call drive.mount(\"/content/drive\", force_remount=True).\n"
          ],
          "name": "stdout"
        }
      ]
    },
    {
      "cell_type": "markdown",
      "metadata": {
        "colab_type": "text",
        "id": "JfM1kfIrbosE"
      },
      "source": [
        "We collected a total of 80 sequences as training data from 10 mammalian species(40 coding sequence and 40 non-coding intron parts) \n",
        "\n",
        "Gene names: CSN1S1, IL2, LCE6A and SMCP\n",
        "\n",
        "We collected also total of 40 sequences as testing data from 10 mammalian species(20 coding sequence and 20 non-coding intron parts) \n",
        "\n",
        "Gene names: STK11 and TP53\n",
        "\n"
      ]
    },
    {
      "cell_type": "code",
      "metadata": {
        "colab_type": "code",
        "id": "HAUxlU-5c9Js",
        "colab": {}
      },
      "source": [
        "#chaos_game_representation_images_constractucted_using_the_following_cgr_pakage_out_source_from_https://github.com/dognjen/chaos-game-representation/blob/master/ChaosGameRepresentation.py\n",
        "#We_generated_cgr_image_data_twice_with_k(n)=3_and_k(n)=4\n",
        "def cgr(inputdir,outputdir):\n",
        "    k=4             # number of combinations\n",
        "    s=2**k          # size of the matrix\n",
        "\n",
        "    bases = [\"A\", \"C\", \"G\", \"T\"]\n",
        "    def cartesian(nucleotides):\n",
        "        \"\"\" Create a cartesian product from variable nucleotides. \"\"\"\n",
        "        if not nucleotides:\n",
        "            yield \"\"\n",
        "        else:\n",
        "            for a in nucleotides[0]:\n",
        "                for b in cartesian(nucleotides[1:]):\n",
        "                    yield a + b\n",
        "\n",
        "\n",
        "    def count(sequence, sub):\n",
        "        counter = 0\n",
        "        for i in range(len(sequence) - len(sub) + 1):\n",
        "            if sequence[i:i + len(sub)] == sub:\n",
        "                counter += 1\n",
        "        return counter\n",
        "\n",
        "\n",
        "    def k_mer_probability(sequence, bases):\n",
        "        probabilities = {}\n",
        "        for b in bases:\n",
        "            probabilities[b] = count(sequence, b) / float(len(sequence) - len(b) + 1)\n",
        "        return probabilities\n",
        "\n",
        "\n",
        "    def fill_matrix_with_probabilities(bases, depth, row, column, nuk):\n",
        "\n",
        "        if depth == 0:\n",
        "            mat[column[0]][row[0]] = (ver[nuk])\n",
        "            return []\n",
        "        else:\n",
        "            for b in bases:\n",
        "                if b in ['A', 'C']:\n",
        "                    r = row[:len(row)//2]\n",
        "                else:\n",
        "                    r = row[len(row)//2:]\n",
        "                if b in ['A', 'T']:\n",
        "                    c = column[:len(column)//2]\n",
        "                else:\n",
        "                    c = column[len(column)//2:]\n",
        "                fill_matrix_with_probabilities(bases, depth - 1, r, c, nuk + b)\n",
        "            return []\n",
        "\n",
        "\n",
        "    if __name__ == \"__main__\":\n",
        "        fasta = open(inputdir)\n",
        "        fasta = fasta.read()\n",
        "\n",
        "        # create a matrix in which to represent the combinations\n",
        "        mat = np.array([[0.0 for i in range(s)] for j in range(s)], float)\n",
        "\n",
        "        # fill the matrix with probabilities, as you can tell by the function name\n",
        "        sequence = \"\".join(fasta.split(\"\\n\")[1:])\n",
        "\n",
        "        # remove unknown nucleotides\n",
        "        sequence = sequence.replace(\"N\", \"\")\n",
        "\n",
        "        # Create all possible k combinations of base nucleotides\n",
        "        combinations = list(cartesian([bases] * k))\n",
        "\n",
        "        # Calculate the probability (k-mer) of all combinations in a given sequence\n",
        "        ver = k_mer_probability(sequence, combinations)\n",
        "\n",
        "        print(ver,\"\\n\")\n",
        "        print(fasta,\"\\n\")\n",
        "        fill_matrix_with_probabilities(bases, k, [int(i) for i in range(s)], [int(i) for i in range(s)], '')\n",
        "\n",
        "        # visualization, \n",
        "        pylab.imshow(mat, extent=[0, s, 0, s], interpolation='nearest', cmap=cm.gray)\n",
        "        x_os = [a + 0.4 for a in range(s)]\n",
        "        y_os = [a + 0.4 for a in range(s)]\n",
        "        label_x = [str(i) for i in range(s)]\n",
        "        label_y = [str(i) for i in range(s-1, -1, -1)]\n",
        "        pylab.xticks(x_os, label_x)\n",
        "        pylab.yticks(y_os, label_y)\n",
        "        return pylab.savefig(outputdir)\n",
        "\n"
      ],
      "execution_count": null,
      "outputs": []
    },
    {
      "cell_type": "code",
      "metadata": {
        "colab_type": "code",
        "id": "_MaQry7WdqVM",
        "colab": {}
      },
      "source": [
        "#Constracution_of_training_coding_seq\n",
        "path=\"/content/drive/My Drive/project/ML_cgr_data/train/coding_seq/seq\"\n",
        "os.chdir(path)\n",
        "coding_test_seq=os.listdir()\n",
        "for i in coding_test_seq:\n",
        "    cgr(path+i, path+i+'.png')\n",
        "\n",
        "#Constracution_of_training_non_coding_seq\n",
        "path=\"/content/drive/My Drive/project/ML_cgr_data/train/non_codingseq/seq\"\n",
        "os.chdir(path)\n",
        "coding_test_seq=os.listdir()\n",
        "for i in coding_test_seq:\n",
        "    cgr(path+i, path+i+'.png')\n",
        "\n",
        "#Constracution_of_testing_coding_seq\n",
        "path=\"/content/drive/My Drive/project/ML_cgr_data/test/coding/seq\"\n",
        "os.chdir(path)\n",
        "coding_test_seq=os.listdir()\n",
        "for i in coding_test_seq:\n",
        "    cgr(path+i, path+i+'.png')\n",
        "\n",
        "#Constracution_of_testing_coding_seq\n",
        "path=\"/content/drive/My Drive/project/ML_cgr_data/test/noncoding/seq\"\n",
        "os.chdir(path)\n",
        "coding_test_seq=os.listdir()\n",
        "for i in coding_test_seq:\n",
        "    cgr(path+i, path+i+'.png')\n",
        "\n",
        "#We_will_attach_the_output_cgr_data_on_Nile_university_module_and_you_can_find_it_on_google_drive_in_the_link_below:\n",
        "#https://drive.google.com/drive/folders/1cAMKoKg03kKOmxaggMFxnCBhobF8Xddt?usp=sharing"
      ],
      "execution_count": null,
      "outputs": []
    },
    {
      "cell_type": "markdown",
      "metadata": {
        "colab_type": "text",
        "id": "wDMGbb8LRgz7"
      },
      "source": [
        "after start anything, we must create two lists : \n",
        "\n",
        "---\n",
        "\n",
        "\n",
        "\n",
        "1. inp_out_needed list : contains all data frame that, we will create in the next step that contain coding & noncoding of train & test cgr images.\n",
        "\n",
        "2. paths list : that contain path of each data (coding & noncoding of train & test cgr images) on your google drive.\n",
        "\n",
        "\n",
        " "
      ]
    },
    {
      "cell_type": "code",
      "metadata": {
        "colab_type": "code",
        "id": "49rzQUhlB7Nu",
        "colab": {}
      },
      "source": [
        "inp_out_needed=['train_coding_df1','train_noncoding_df1','test_coding_df1','test_noncoding_df1']\n",
        "paths={'train_coding_df1':'/content/drive/My Drive/project/ML_cgr_data/train/coding_seq','train_noncoding_df1':'/content/drive/My Drive/project/ML_cgr_data/train/non_codingseq','test_coding_df1':'/content/drive/My Drive/project/ML_cgr_data/test/coding','test_noncoding_df1':'/content/drive/My Drive/project/ML_cgr_data/test/noncoding'}"
      ],
      "execution_count": 9,
      "outputs": []
    },
    {
      "cell_type": "markdown",
      "metadata": {
        "colab_type": "text",
        "id": "IMAMZqUmH5s-"
      },
      "source": [
        "***First*** : read each CGR image and flat it to row in data frame to intilization machine learning processing\n"
      ]
    },
    {
      "cell_type": "code",
      "metadata": {
        "colab_type": "code",
        "id": "mnvVW912B7jE",
        "colab": {}
      },
      "source": [
        "# df_image is a subfunction to create data frame from read each CGR image where each row is one image"
      ],
      "execution_count": null,
      "outputs": []
    },
    {
      "cell_type": "code",
      "metadata": {
        "colab_type": "code",
        "id": "s5_ts-YkB7yJ",
        "colab": {}
      },
      "source": [
        "def df_image(Images):\n",
        "  Images1=sorted(Images) # sort them ascendingly \n",
        "  ImagF=np.zeros((len(Images),497664))  # All Images\n",
        "  for i in range(len(Images1)):\n",
        "      ImagF_1=imageio.imread(Images1[i])\n",
        "      ImagF[i,:]=ImagF_1.reshape((1,497664))\n",
        "  return pd.DataFrame(ImagF)"
      ],
      "execution_count": 10,
      "outputs": []
    },
    {
      "cell_type": "markdown",
      "metadata": {
        "colab_type": "text",
        "id": "u3ihN3LcJpXF"
      },
      "source": [
        "***Second*** : Assgin class to coding and noncoding images to can make classification"
      ]
    },
    {
      "cell_type": "code",
      "metadata": {
        "colab_type": "code",
        "id": "y0OGITH1B8DX",
        "colab": {}
      },
      "source": [
        "# clas_assign is a subfunction to assign class 1 (one) to each coding cgr images data frame and class 0 (zero) to  noncoding cgr images data frame"
      ],
      "execution_count": null,
      "outputs": []
    },
    {
      "cell_type": "code",
      "metadata": {
        "colab_type": "code",
        "id": "iKXOjexjB8Sa",
        "colab": {}
      },
      "source": [
        "def clas_assign(Images,c,b):\n",
        "  c= df_image(Images)\n",
        "  if b.split('_')[1] =='coding':\n",
        "    c['y']=np.ones((len(c)))\n",
        "  elif b.split('_')[1] =='noncoding':\n",
        "    c['y']=np.zeros((len(c)))\n",
        "  return c"
      ],
      "execution_count": 11,
      "outputs": []
    },
    {
      "cell_type": "markdown",
      "metadata": {
        "colab_type": "text",
        "id": "Vs2Pv7vGLBpk"
      },
      "source": [
        "***Third***: Create Train & Test Data Frame that contain coding and noncoding images :\n",
        "\n",
        "train data frame = train coding cgr image (with class one ) + train noncoding cgr image (with class zero )\n",
        "\n",
        " &\n",
        "  test data frame = test coding cgr image (with class one ) + test noncoding cgr image (with class zero )\n",
        "  \n",
        "  \n",
        "  By two step A & B & C"
      ]
    },
    {
      "cell_type": "code",
      "metadata": {
        "colab_type": "code",
        "id": "0-TyPYc8B8fy",
        "colab": {}
      },
      "source": [
        "#A- For loop to make data frame from taking different types of images (coding & noncoding) from different folder (tain & test)  "
      ],
      "execution_count": null,
      "outputs": []
    },
    {
      "cell_type": "code",
      "metadata": {
        "colab_type": "code",
        "id": "wfolnJN_B8uZ",
        "colab": {}
      },
      "source": [
        "for c in inp_out_needed:\n",
        "  b=c\n",
        "  home_path = os.getcwd()\n",
        "  path=paths[c]\n",
        "  os.chdir(path)\n",
        "  Images=os.listdir()\n",
        "  exec('{} = clas_assign(Images,c,b)'.format(c))"
      ],
      "execution_count": 12,
      "outputs": []
    },
    {
      "cell_type": "code",
      "metadata": {
        "colab_type": "code",
        "id": "CsBeSmTlG01L",
        "colab": {}
      },
      "source": [
        "# B- Merge codind & noncoding traing data (after assign class to each one ) in one train data frame and\n",
        "# codind & noncoding testing data (after assign class to each one ) in one test data frame "
      ],
      "execution_count": null,
      "outputs": []
    },
    {
      "cell_type": "code",
      "metadata": {
        "colab_type": "code",
        "id": "P5rK3ebmG1Bv",
        "colab": {}
      },
      "source": [
        "# merge coding sequence of train data to noncoding sequence of train data to obtain training sequence data frame\n",
        "train_coding_noncoding1=pd.concat([train_coding_df1,train_noncoding_df1])\n",
        "# merge coding sequence of test data to noncoding sequence of test data to obtain testing sequence data frame\n",
        "test_coding_noncoding1=pd.concat([test_coding_df1,test_noncoding_df1])"
      ],
      "execution_count": 13,
      "outputs": []
    },
    {
      "cell_type": "code",
      "metadata": {
        "colab_type": "code",
        "id": "K0o-Jg16G09X",
        "colab": {}
      },
      "source": [
        "# C - split train dataframe (from step B ) to X_train (data) & y_train (labeles) variables to can start machine learning classification"
      ],
      "execution_count": null,
      "outputs": []
    },
    {
      "cell_type": "code",
      "metadata": {
        "colab_type": "code",
        "id": "EbymK4HKic6Z",
        "colab": {}
      },
      "source": [
        "X_train=train_coding_noncoding1.iloc[:,:-1]\n",
        "X_test=test_coding_noncoding1.iloc[:,:-1]\n",
        "y_train=train_coding_noncoding1.iloc[:,-1]\n",
        "y_test=test_coding_noncoding1.iloc[:,-1]"
      ],
      "execution_count": 14,
      "outputs": []
    },
    {
      "cell_type": "code",
      "metadata": {
        "colab_type": "code",
        "id": "51-ngb1YAF-4",
        "colab": {}
      },
      "source": [
        "# D- Statistical Data Analysis :"
      ],
      "execution_count": null,
      "outputs": []
    },
    {
      "cell_type": "code",
      "metadata": {
        "colab_type": "code",
        "id": "3O9IOuZ6AN3U",
        "colab": {
          "base_uri": "https://localhost:8080/",
          "height": 243
        },
        "outputId": "ed444676-3cd4-4416-b80f-8c41d9b99b77"
      },
      "source": [
        "X_train_mean=np.mean(X_train)\n",
        "print('mean = ',X_train_mean)\n",
        "X_train_median=np.median(X_train)\n",
        "print('median =',X_train_median)"
      ],
      "execution_count": 15,
      "outputs": [
        {
          "output_type": "stream",
          "text": [
            "mean =  0         255.0\n",
            "1         255.0\n",
            "2         255.0\n",
            "3         255.0\n",
            "4         255.0\n",
            "          ...  \n",
            "497659    255.0\n",
            "497660    255.0\n",
            "497661    255.0\n",
            "497662    255.0\n",
            "497663    255.0\n",
            "Length: 497664, dtype: float64\n",
            "median = 255.0\n"
          ],
          "name": "stdout"
        }
      ]
    },
    {
      "cell_type": "code",
      "metadata": {
        "colab_type": "code",
        "id": "GrBIKC2cz-do",
        "colab": {}
      },
      "source": [
        "df_resultcol=['NaiveBayes','logistic regression','KNN','Perceptron','SVM']\n",
        "df_resultrow=['Accuracy','Cross_Validation','Confusion_Matrix','Sensitivity','Specificity']"
      ],
      "execution_count": 16,
      "outputs": []
    },
    {
      "cell_type": "code",
      "metadata": {
        "colab_type": "code",
        "id": "8sYsgkq24xXq",
        "colab": {
          "base_uri": "https://localhost:8080/",
          "height": 206
        },
        "outputId": "34df8317-164e-462c-8881-759b0e0fa029"
      },
      "source": [
        "df_result=pd.DataFrame(columns=df_resultcol,index=df_resultrow)\n",
        "df_result"
      ],
      "execution_count": 17,
      "outputs": [
        {
          "output_type": "execute_result",
          "data": {
            "text/html": [
              "<div>\n",
              "<style scoped>\n",
              "    .dataframe tbody tr th:only-of-type {\n",
              "        vertical-align: middle;\n",
              "    }\n",
              "\n",
              "    .dataframe tbody tr th {\n",
              "        vertical-align: top;\n",
              "    }\n",
              "\n",
              "    .dataframe thead th {\n",
              "        text-align: right;\n",
              "    }\n",
              "</style>\n",
              "<table border=\"1\" class=\"dataframe\">\n",
              "  <thead>\n",
              "    <tr style=\"text-align: right;\">\n",
              "      <th></th>\n",
              "      <th>NaiveBayes</th>\n",
              "      <th>logistic regression</th>\n",
              "      <th>KNN</th>\n",
              "      <th>Perceptron</th>\n",
              "      <th>SVM</th>\n",
              "    </tr>\n",
              "  </thead>\n",
              "  <tbody>\n",
              "    <tr>\n",
              "      <th>Accuracy</th>\n",
              "      <td>NaN</td>\n",
              "      <td>NaN</td>\n",
              "      <td>NaN</td>\n",
              "      <td>NaN</td>\n",
              "      <td>NaN</td>\n",
              "    </tr>\n",
              "    <tr>\n",
              "      <th>Cross_Validation</th>\n",
              "      <td>NaN</td>\n",
              "      <td>NaN</td>\n",
              "      <td>NaN</td>\n",
              "      <td>NaN</td>\n",
              "      <td>NaN</td>\n",
              "    </tr>\n",
              "    <tr>\n",
              "      <th>Confusion_Matrix</th>\n",
              "      <td>NaN</td>\n",
              "      <td>NaN</td>\n",
              "      <td>NaN</td>\n",
              "      <td>NaN</td>\n",
              "      <td>NaN</td>\n",
              "    </tr>\n",
              "    <tr>\n",
              "      <th>Sensitivity</th>\n",
              "      <td>NaN</td>\n",
              "      <td>NaN</td>\n",
              "      <td>NaN</td>\n",
              "      <td>NaN</td>\n",
              "      <td>NaN</td>\n",
              "    </tr>\n",
              "    <tr>\n",
              "      <th>Specificity</th>\n",
              "      <td>NaN</td>\n",
              "      <td>NaN</td>\n",
              "      <td>NaN</td>\n",
              "      <td>NaN</td>\n",
              "      <td>NaN</td>\n",
              "    </tr>\n",
              "  </tbody>\n",
              "</table>\n",
              "</div>"
            ],
            "text/plain": [
              "                 NaiveBayes logistic regression  KNN Perceptron  SVM\n",
              "Accuracy                NaN                 NaN  NaN        NaN  NaN\n",
              "Cross_Validation        NaN                 NaN  NaN        NaN  NaN\n",
              "Confusion_Matrix        NaN                 NaN  NaN        NaN  NaN\n",
              "Sensitivity             NaN                 NaN  NaN        NaN  NaN\n",
              "Specificity             NaN                 NaN  NaN        NaN  NaN"
            ]
          },
          "metadata": {
            "tags": []
          },
          "execution_count": 17
        }
      ]
    },
    {
      "cell_type": "code",
      "metadata": {
        "colab_type": "code",
        "id": "V2uFGFtf-F98",
        "colab": {}
      },
      "source": [
        "# F- Statistical Data Analysis after Scalling:"
      ],
      "execution_count": null,
      "outputs": []
    },
    {
      "cell_type": "code",
      "metadata": {
        "colab_type": "code",
        "id": "GiA_0TON-ClL",
        "colab": {
          "base_uri": "https://localhost:8080/",
          "height": 243
        },
        "outputId": "80b3b54a-f99d-409e-ebb2-3b10ec8e846d"
      },
      "source": [
        "X_train_mean=np.mean(X_train)\n",
        "print('mean = ',X_train_mean)\n",
        "X_train_median=np.median(X_train)\n",
        "print('median =',X_train_median)"
      ],
      "execution_count": 18,
      "outputs": [
        {
          "output_type": "stream",
          "text": [
            "mean =  0         255.0\n",
            "1         255.0\n",
            "2         255.0\n",
            "3         255.0\n",
            "4         255.0\n",
            "          ...  \n",
            "497659    255.0\n",
            "497660    255.0\n",
            "497661    255.0\n",
            "497662    255.0\n",
            "497663    255.0\n",
            "Length: 497664, dtype: float64\n",
            "median = 255.0\n"
          ],
          "name": "stdout"
        }
      ]
    },
    {
      "cell_type": "markdown",
      "metadata": {
        "colab_type": "text",
        "id": "RraTMda3PGXl"
      },
      "source": [
        "***Forth*** : Apply different type of classification :\n",
        "\n",
        "1- Naive Bayes Classifier (supervised linear classifier)\n",
        "\n",
        "2- Logistic regression (supervised linear classifier)\n",
        "\n",
        "3- k-nearst neighbor classifier ( supervised nonlinear classifier)\n",
        "\n",
        "4- perceptron (supervised linear classifier)\n",
        "\n"
      ]
    },
    {
      "cell_type": "code",
      "metadata": {
        "colab_type": "code",
        "id": "CjLik5cxLXBo",
        "colab": {}
      },
      "source": [
        "#1- Naive Bayes Classifier"
      ],
      "execution_count": null,
      "outputs": []
    },
    {
      "cell_type": "code",
      "metadata": {
        "id": "MCfrgm5Hh7tD",
        "colab_type": "code",
        "colab": {}
      },
      "source": [
        "X_train=train_coding_noncoding1.iloc[:,:-1]\n",
        "X_test=test_coding_noncoding1.iloc[:,:-1]\n",
        "y_train=train_coding_noncoding1.iloc[:,-1]\n",
        "y_test=test_coding_noncoding1.iloc[:,-1]"
      ],
      "execution_count": 19,
      "outputs": []
    },
    {
      "cell_type": "code",
      "metadata": {
        "id": "0U5wv0HcwVYI",
        "colab_type": "code",
        "colab": {}
      },
      "source": [
        "# E- feature scaling\n",
        "from sklearn.preprocessing import StandardScaler\n",
        "sc= StandardScaler()\n",
        "X_train=sc.fit_transform(X_train)\n",
        "X_test=sc.transform(X_test)"
      ],
      "execution_count": 20,
      "outputs": []
    },
    {
      "cell_type": "code",
      "metadata": {
        "colab_type": "code",
        "id": "4r69jARAl2lK",
        "colab": {
          "base_uri": "https://localhost:8080/",
          "height": 34
        },
        "outputId": "2ed56b31-2533-4e95-c4f2-c3631b924d51"
      },
      "source": [
        "#Import Gaussian Naive Bayes model\n",
        "from sklearn.naive_bayes import GaussianNB\n",
        "\n",
        "#Create a Gaussian Classifier\n",
        "model_n = GaussianNB()\n",
        "\n",
        "# Train the model using the training sets\n",
        "model_n.fit(X_train, y_train)\n",
        "\n",
        "#Predict Output\n",
        "y_pred_nai = model_n.predict(X_test) "
      ],
      "execution_count": 21,
      "outputs": [
        {
          "output_type": "execute_result",
          "data": {
            "text/plain": [
              "GaussianNB(priors=None, var_smoothing=1e-09)"
            ]
          },
          "metadata": {
            "tags": []
          },
          "execution_count": 21
        }
      ]
    },
    {
      "cell_type": "code",
      "metadata": {
        "colab_type": "code",
        "id": "uuBkSeuIl26R",
        "colab": {
          "base_uri": "https://localhost:8080/",
          "height": 52
        },
        "outputId": "ee9d34a9-86f0-4b8c-b4e0-be4684eac61f"
      },
      "source": [
        "# confusion matrix\n",
        "os.chdir(home_path)\n",
        "from sklearn.metrics import confusion_matrix\n",
        "cm_naiv=confusion_matrix(y_test,y_pred_nai)\n",
        "cm_naiv"
      ],
      "execution_count": 22,
      "outputs": [
        {
          "output_type": "execute_result",
          "data": {
            "text/plain": [
              "array([[ 5, 15],\n",
              "       [ 2, 18]])"
            ]
          },
          "metadata": {
            "tags": []
          },
          "execution_count": 22
        }
      ]
    },
    {
      "cell_type": "code",
      "metadata": {
        "id": "Aq0gJdTcJVUT",
        "colab_type": "code",
        "colab": {
          "base_uri": "https://localhost:8080/",
          "height": 34
        },
        "outputId": "8ef7f72c-8614-44df-b537-bfce137eb74a"
      },
      "source": [
        "#Sensitivity_(True positive rate TPR) \n",
        "TP_nav= cm_naiv[0][0]\n",
        "FN_nav= cm_naiv[1][0]\n",
        "TPR_nav= TP_nav/(TP_nav+FN_nav) * 100\n",
        "print(\"Sensitivity \"+str(TPR_nav)+'%')"
      ],
      "execution_count": 23,
      "outputs": [
        {
          "output_type": "stream",
          "text": [
            "Sensitivity 71.42857142857143%\n"
          ],
          "name": "stdout"
        }
      ]
    },
    {
      "cell_type": "code",
      "metadata": {
        "id": "D4m-RHeUJVgq",
        "colab_type": "code",
        "colab": {
          "base_uri": "https://localhost:8080/",
          "height": 34
        },
        "outputId": "eece1568-465a-45ba-f9c3-e3f25e9156d0"
      },
      "source": [
        "#Specificity(Total Negative Result TNR)\n",
        "TN_nav= cm_naiv[1][1]\n",
        "FP_nav= cm_naiv[0][1] \n",
        "TNR_nav = TN_nav/(TN_nav+FP_nav) * 100\n",
        "print(\"Specificity \"+str(TNR_nav)+'%')"
      ],
      "execution_count": 24,
      "outputs": [
        {
          "output_type": "stream",
          "text": [
            "Specificity 54.54545454545454%\n"
          ],
          "name": "stdout"
        }
      ]
    },
    {
      "cell_type": "code",
      "metadata": {
        "colab_type": "code",
        "id": "UUB413aiqXMY",
        "colab": {
          "base_uri": "https://localhost:8080/",
          "height": 298
        },
        "outputId": "494e19ac-951d-4895-91a3-408079561b9a"
      },
      "source": [
        "os.chdir(home_path)\n",
        "cm_picture_nav=sn.heatmap(pd.DataFrame(cm_naiv),cmap=\"Blues\", annot=True)\n",
        "figure1 = cm_picture_nav.get_figure()   \n",
        "plt.title(\"Confusion Matrix Naive Bayes\")\n",
        "figure1.savefig('/content/drive/My Drive/project/ML_cgr_data/Confusion_NaiveBayes_4kmers.jpg', dpi=400)"
      ],
      "execution_count": 25,
      "outputs": [
        {
          "output_type": "execute_result",
          "data": {
            "text/plain": [
              "Text(0.5, 1.0, 'Confusion Matrix Naive Bayes')"
            ]
          },
          "metadata": {
            "tags": []
          },
          "execution_count": 25
        },
        {
          "output_type": "display_data",
          "data": {
            "image/png": "[encoded data removed]",
            "text/plain": [
              "<Figure size 432x288 with 2 Axes>"
            ]
          },
          "metadata": {
            "tags": [],
            "needs_background": "light"
          }
        }
      ]
    },
    {
      "cell_type": "code",
      "metadata": {
        "colab_type": "code",
        "id": "nq8z-yx_qvQP",
        "colab": {
          "base_uri": "https://localhost:8080/",
          "height": 34
        },
        "outputId": "93cdb4f0-165a-41ac-fda1-d8553eb1b50e"
      },
      "source": [
        "model_n.score(X_test, y_test)"
      ],
      "execution_count": 26,
      "outputs": [
        {
          "output_type": "execute_result",
          "data": {
            "text/plain": [
              "0.575"
            ]
          },
          "metadata": {
            "tags": []
          },
          "execution_count": 26
        }
      ]
    },
    {
      "cell_type": "code",
      "metadata": {
        "colab_type": "code",
        "id": "PsIoZRO6snrY",
        "colab": {
          "base_uri": "https://localhost:8080/",
          "height": 34
        },
        "outputId": "85b6bee7-31b7-4472-c5cd-37e81c8c8c3b"
      },
      "source": [
        "#Calculate Accuracy and Print it\n",
        "accu_navie=sum([1 for i, j in zip(y_pred_nai, y_test) if i == j])/len(y_test)\n",
        "print(\"Accuracy = \" ,accu_navie*100, \"%\")"
      ],
      "execution_count": 27,
      "outputs": [
        {
          "output_type": "stream",
          "text": [
            "Accuracy =  57.49999999999999 %\n"
          ],
          "name": "stdout"
        }
      ]
    },
    {
      "cell_type": "code",
      "metadata": {
        "colab_type": "code",
        "id": "mL_Kf-HmDx-9",
        "colab": {
          "base_uri": "https://localhost:8080/",
          "height": 34
        },
        "outputId": "c0590e10-7073-4b9f-aef6-b9c57ae23b6a"
      },
      "source": [
        "# calculating the mean R^2 for a set of predictions:\n",
        "results_naiv = model_selection.cross_val_score(model_n, X_train, y_train,cv=None)\n",
        "results_naiv"
      ],
      "execution_count": 28,
      "outputs": [
        {
          "output_type": "execute_result",
          "data": {
            "text/plain": [
              "array([0.875 , 1.    , 0.9375, 0.8125, 0.625 ])"
            ]
          },
          "metadata": {
            "tags": []
          },
          "execution_count": 28
        }
      ]
    },
    {
      "cell_type": "code",
      "metadata": {
        "colab_type": "code",
        "id": "vgOMOspg1xV4",
        "colab": {
          "base_uri": "https://localhost:8080/",
          "height": 206
        },
        "outputId": "ad5a0291-6a0c-49f8-fb1a-686c48d37461"
      },
      "source": [
        "df_result['NaiveBayes']=pd.Series({'Accuracy':accu_navie,'Cross_Validation':results_naiv,'Confusion_Matrix':cm_naiv,'Sensitivity':TPR_nav,'Specificity':TNR_nav})\n",
        "df_result"
      ],
      "execution_count": 29,
      "outputs": [
        {
          "output_type": "execute_result",
          "data": {
            "text/html": [
              "<div>\n",
              "<style scoped>\n",
              "    .dataframe tbody tr th:only-of-type {\n",
              "        vertical-align: middle;\n",
              "    }\n",
              "\n",
              "    .dataframe tbody tr th {\n",
              "        vertical-align: top;\n",
              "    }\n",
              "\n",
              "    .dataframe thead th {\n",
              "        text-align: right;\n",
              "    }\n",
              "</style>\n",
              "<table border=\"1\" class=\"dataframe\">\n",
              "  <thead>\n",
              "    <tr style=\"text-align: right;\">\n",
              "      <th></th>\n",
              "      <th>NaiveBayes</th>\n",
              "      <th>logistic regression</th>\n",
              "      <th>KNN</th>\n",
              "      <th>Perceptron</th>\n",
              "      <th>SVM</th>\n",
              "    </tr>\n",
              "  </thead>\n",
              "  <tbody>\n",
              "    <tr>\n",
              "      <th>Accuracy</th>\n",
              "      <td>0.575</td>\n",
              "      <td>NaN</td>\n",
              "      <td>NaN</td>\n",
              "      <td>NaN</td>\n",
              "      <td>NaN</td>\n",
              "    </tr>\n",
              "    <tr>\n",
              "      <th>Cross_Validation</th>\n",
              "      <td>[0.875, 1.0, 0.9375, 0.8125, 0.625]</td>\n",
              "      <td>NaN</td>\n",
              "      <td>NaN</td>\n",
              "      <td>NaN</td>\n",
              "      <td>NaN</td>\n",
              "    </tr>\n",
              "    <tr>\n",
              "      <th>Confusion_Matrix</th>\n",
              "      <td>[[5, 15], [2, 18]]</td>\n",
              "      <td>NaN</td>\n",
              "      <td>NaN</td>\n",
              "      <td>NaN</td>\n",
              "      <td>NaN</td>\n",
              "    </tr>\n",
              "    <tr>\n",
              "      <th>Sensitivity</th>\n",
              "      <td>71.4286</td>\n",
              "      <td>NaN</td>\n",
              "      <td>NaN</td>\n",
              "      <td>NaN</td>\n",
              "      <td>NaN</td>\n",
              "    </tr>\n",
              "    <tr>\n",
              "      <th>Specificity</th>\n",
              "      <td>54.5455</td>\n",
              "      <td>NaN</td>\n",
              "      <td>NaN</td>\n",
              "      <td>NaN</td>\n",
              "      <td>NaN</td>\n",
              "    </tr>\n",
              "  </tbody>\n",
              "</table>\n",
              "</div>"
            ],
            "text/plain": [
              "                                           NaiveBayes  ...  SVM\n",
              "Accuracy                                        0.575  ...  NaN\n",
              "Cross_Validation  [0.875, 1.0, 0.9375, 0.8125, 0.625]  ...  NaN\n",
              "Confusion_Matrix                   [[5, 15], [2, 18]]  ...  NaN\n",
              "Sensitivity                                   71.4286  ...  NaN\n",
              "Specificity                                   54.5455  ...  NaN\n",
              "\n",
              "[5 rows x 5 columns]"
            ]
          },
          "metadata": {
            "tags": []
          },
          "execution_count": 29
        }
      ]
    },
    {
      "cell_type": "code",
      "metadata": {
        "colab_type": "code",
        "id": "fe1RlAJn8HYx",
        "colab": {}
      },
      "source": [
        "#2- logistic regression"
      ],
      "execution_count": null,
      "outputs": []
    },
    {
      "cell_type": "code",
      "metadata": {
        "colab_type": "code",
        "id": "WfVnmtZYFlDX",
        "colab": {}
      },
      "source": [
        "from sklearn.linear_model import LogisticRegression\n",
        "from sklearn import linear_model"
      ],
      "execution_count": 30,
      "outputs": []
    },
    {
      "cell_type": "code",
      "metadata": {
        "id": "_KbsH_WugtNg",
        "colab_type": "code",
        "colab": {}
      },
      "source": [
        "X_train=train_coding_noncoding1.iloc[:,:-1]\n",
        "X_test=test_coding_noncoding1.iloc[:,:-1]\n",
        "y_train=train_coding_noncoding1.iloc[:,-1]\n",
        "y_test=test_coding_noncoding1.iloc[:,-1]"
      ],
      "execution_count": 31,
      "outputs": []
    },
    {
      "cell_type": "code",
      "metadata": {
        "colab_type": "code",
        "id": "QlCUHpETFoKq",
        "colab": {}
      },
      "source": [
        "clf =linear_model.LogisticRegression().fit(X_train, y_train)"
      ],
      "execution_count": 32,
      "outputs": []
    },
    {
      "cell_type": "code",
      "metadata": {
        "colab_type": "code",
        "id": "z1CU1Bl5Fo1K",
        "colab": {}
      },
      "source": [
        "y_pred_log1=clf.predict(X_test)"
      ],
      "execution_count": 33,
      "outputs": []
    },
    {
      "cell_type": "code",
      "metadata": {
        "colab_type": "code",
        "id": "cbLHoghiUlH0",
        "colab": {
          "base_uri": "https://localhost:8080/",
          "height": 52
        },
        "outputId": "b861112f-3d6b-4c66-8775-3dae6e3c5cad"
      },
      "source": [
        "# confusion matrix\n",
        "os.chdir(home_path)\n",
        "from sklearn.metrics import confusion_matrix\n",
        "cm_logistic=confusion_matrix(y_test,y_pred_log1)\n",
        "cm_logistic"
      ],
      "execution_count": 34,
      "outputs": [
        {
          "output_type": "execute_result",
          "data": {
            "text/plain": [
              "array([[20,  0],\n",
              "       [ 3, 17]])"
            ]
          },
          "metadata": {
            "tags": []
          },
          "execution_count": 34
        }
      ]
    },
    {
      "cell_type": "code",
      "metadata": {
        "id": "wOdEl8TbJrLb",
        "colab_type": "code",
        "colab": {
          "base_uri": "https://localhost:8080/",
          "height": 34
        },
        "outputId": "374bf645-df7c-4704-8c57-d306ceef1afc"
      },
      "source": [
        "#Sensitivity_(True positive rate TPR) \n",
        "TP_log= cm_logistic[0][0]\n",
        "FN_log= cm_logistic[1][0]\n",
        "TPR_log= TP_log/(TP_log+FN_log) * 100\n",
        "print(\"Sensitivity \"+str(TPR_log)+'%')"
      ],
      "execution_count": 35,
      "outputs": [
        {
          "output_type": "stream",
          "text": [
            "Sensitivity 86.95652173913044%\n"
          ],
          "name": "stdout"
        }
      ]
    },
    {
      "cell_type": "code",
      "metadata": {
        "id": "3uJ8dMB1JrYG",
        "colab_type": "code",
        "colab": {
          "base_uri": "https://localhost:8080/",
          "height": 34
        },
        "outputId": "9f82b648-5c90-48ac-c9c3-78a5ceead612"
      },
      "source": [
        "#Specificity(Total Negative Result TNR)\n",
        "TN_log= cm_logistic[1][1]\n",
        "FP_log= cm_logistic[0][1] \n",
        "TNR_log = TN_log/(TN_log+FP_log) * 100\n",
        "print(\"Specificity \"+str(TNR_log)+'%')"
      ],
      "execution_count": 36,
      "outputs": [
        {
          "output_type": "stream",
          "text": [
            "Specificity 100.0%\n"
          ],
          "name": "stdout"
        }
      ]
    },
    {
      "cell_type": "code",
      "metadata": {
        "colab_type": "code",
        "id": "U_7iZgxdU839",
        "colab": {
          "base_uri": "https://localhost:8080/",
          "height": 298
        },
        "outputId": "fa5d6f3b-20d7-4783-d366-7ee6cc989c0d"
      },
      "source": [
        "os.chdir(home_path)\n",
        "cm_picture_logistic=sn.heatmap(pd.DataFrame(cm_logistic),cmap=\"Blues\", annot=True)\n",
        "figure1 = cm_picture_logistic.get_figure()   \n",
        "plt.title(\"Confusion Matrix Logistic Regression\")\n",
        "figure1.savefig('/content/drive/My Drive/project/ML_cgr_data/Confusion_Logistic_4kmers.jpg', dpi=400)"
      ],
      "execution_count": 37,
      "outputs": [
        {
          "output_type": "execute_result",
          "data": {
            "text/plain": [
              "Text(0.5, 1.0, 'Confusion Matrix Logistic Regression')"
            ]
          },
          "metadata": {
            "tags": []
          },
          "execution_count": 37
        },
        {
          "output_type": "display_data",
          "data": {
            "image/png": "[encoded data removed]",
            "text/plain": [
              "<Figure size 432x288 with 2 Axes>"
            ]
          },
          "metadata": {
            "tags": [],
            "needs_background": "light"
          }
        }
      ]
    },
    {
      "cell_type": "code",
      "metadata": {
        "colab_type": "code",
        "id": "UVSc0_eSVzgf",
        "colab": {
          "base_uri": "https://localhost:8080/",
          "height": 34
        },
        "outputId": "eec3cd33-c31f-473e-cdea-753ef8df48ed"
      },
      "source": [
        "#Calculate Accuracy and Print it\n",
        "accu_log=sum([1 for i, j in zip(y_pred_log1, y_test) if i == j])/len(y_test)\n",
        "print(\"Accuracy = \" ,accu_log*100, \"%\")"
      ],
      "execution_count": 38,
      "outputs": [
        {
          "output_type": "stream",
          "text": [
            "Accuracy =  92.5 %\n"
          ],
          "name": "stdout"
        }
      ]
    },
    {
      "cell_type": "code",
      "metadata": {
        "colab_type": "code",
        "id": "KekT3KqoFo5i",
        "colab": {
          "base_uri": "https://localhost:8080/",
          "height": 34
        },
        "outputId": "09aba7a2-7624-4232-e88a-cc5edef4bd75"
      },
      "source": [
        "clf.score(X_test, y_test)"
      ],
      "execution_count": 39,
      "outputs": [
        {
          "output_type": "execute_result",
          "data": {
            "text/plain": [
              "0.925"
            ]
          },
          "metadata": {
            "tags": []
          },
          "execution_count": 39
        }
      ]
    },
    {
      "cell_type": "code",
      "metadata": {
        "colab_type": "code",
        "id": "6mK8nioeLBh1",
        "colab": {
          "base_uri": "https://localhost:8080/",
          "height": 34
        },
        "outputId": "eef6bf3d-58e2-49eb-8ebe-74e352e34a97"
      },
      "source": [
        "# calculating the mean R^2 for a set of predictions:\n",
        "results_log = model_selection.cross_val_score(clf, X_train, y_train,cv=5, scoring='r2')\n",
        "results_log"
      ],
      "execution_count": 40,
      "outputs": [
        {
          "output_type": "execute_result",
          "data": {
            "text/plain": [
              "array([0.75, 1.  , 1.  , 1.  , 1.  ])"
            ]
          },
          "metadata": {
            "tags": []
          },
          "execution_count": 40
        }
      ]
    },
    {
      "cell_type": "code",
      "metadata": {
        "colab_type": "code",
        "id": "OymQu9hT2T1C",
        "colab": {
          "base_uri": "https://localhost:8080/",
          "height": 206
        },
        "outputId": "203d1f49-a5b8-4985-fc32-21950e5d1756"
      },
      "source": [
        "df_result['logistic regression']=pd.Series({'Accuracy': accu_log,'Cross_Validation':results_log,'Confusion_Matrix':cm_logistic,'Sensitivity':TPR_log,'Specificity':TNR_log})\n",
        "df_result"
      ],
      "execution_count": 41,
      "outputs": [
        {
          "output_type": "execute_result",
          "data": {
            "text/html": [
              "<div>\n",
              "<style scoped>\n",
              "    .dataframe tbody tr th:only-of-type {\n",
              "        vertical-align: middle;\n",
              "    }\n",
              "\n",
              "    .dataframe tbody tr th {\n",
              "        vertical-align: top;\n",
              "    }\n",
              "\n",
              "    .dataframe thead th {\n",
              "        text-align: right;\n",
              "    }\n",
              "</style>\n",
              "<table border=\"1\" class=\"dataframe\">\n",
              "  <thead>\n",
              "    <tr style=\"text-align: right;\">\n",
              "      <th></th>\n",
              "      <th>NaiveBayes</th>\n",
              "      <th>logistic regression</th>\n",
              "      <th>KNN</th>\n",
              "      <th>Perceptron</th>\n",
              "      <th>SVM</th>\n",
              "    </tr>\n",
              "  </thead>\n",
              "  <tbody>\n",
              "    <tr>\n",
              "      <th>Accuracy</th>\n",
              "      <td>0.575</td>\n",
              "      <td>0.925</td>\n",
              "      <td>NaN</td>\n",
              "      <td>NaN</td>\n",
              "      <td>NaN</td>\n",
              "    </tr>\n",
              "    <tr>\n",
              "      <th>Cross_Validation</th>\n",
              "      <td>[0.875, 1.0, 0.9375, 0.8125, 0.625]</td>\n",
              "      <td>[0.75, 1.0, 1.0, 1.0, 1.0]</td>\n",
              "      <td>NaN</td>\n",
              "      <td>NaN</td>\n",
              "      <td>NaN</td>\n",
              "    </tr>\n",
              "    <tr>\n",
              "      <th>Confusion_Matrix</th>\n",
              "      <td>[[5, 15], [2, 18]]</td>\n",
              "      <td>[[20, 0], [3, 17]]</td>\n",
              "      <td>NaN</td>\n",
              "      <td>NaN</td>\n",
              "      <td>NaN</td>\n",
              "    </tr>\n",
              "    <tr>\n",
              "      <th>Sensitivity</th>\n",
              "      <td>71.4286</td>\n",
              "      <td>86.9565</td>\n",
              "      <td>NaN</td>\n",
              "      <td>NaN</td>\n",
              "      <td>NaN</td>\n",
              "    </tr>\n",
              "    <tr>\n",
              "      <th>Specificity</th>\n",
              "      <td>54.5455</td>\n",
              "      <td>100</td>\n",
              "      <td>NaN</td>\n",
              "      <td>NaN</td>\n",
              "      <td>NaN</td>\n",
              "    </tr>\n",
              "  </tbody>\n",
              "</table>\n",
              "</div>"
            ],
            "text/plain": [
              "                                           NaiveBayes  ...  SVM\n",
              "Accuracy                                        0.575  ...  NaN\n",
              "Cross_Validation  [0.875, 1.0, 0.9375, 0.8125, 0.625]  ...  NaN\n",
              "Confusion_Matrix                   [[5, 15], [2, 18]]  ...  NaN\n",
              "Sensitivity                                   71.4286  ...  NaN\n",
              "Specificity                                   54.5455  ...  NaN\n",
              "\n",
              "[5 rows x 5 columns]"
            ]
          },
          "metadata": {
            "tags": []
          },
          "execution_count": 41
        }
      ]
    },
    {
      "cell_type": "code",
      "metadata": {
        "colab_type": "code",
        "id": "xSFeTpuuLZYS",
        "colab": {}
      },
      "source": [
        "# 3- KNN:"
      ],
      "execution_count": null,
      "outputs": []
    },
    {
      "cell_type": "code",
      "metadata": {
        "id": "rTr7Zi7Yh5Do",
        "colab_type": "code",
        "colab": {}
      },
      "source": [
        "X_train=train_coding_noncoding1.iloc[:,:-1]\n",
        "X_test=test_coding_noncoding1.iloc[:,:-1]\n",
        "y_train=train_coding_noncoding1.iloc[:,-1]\n",
        "y_test=test_coding_noncoding1.iloc[:,-1]"
      ],
      "execution_count": 42,
      "outputs": []
    },
    {
      "cell_type": "code",
      "metadata": {
        "id": "Up6eUz5th5TN",
        "colab_type": "code",
        "colab": {}
      },
      "source": [
        "# E- feature scaling\n",
        "from sklearn.preprocessing import StandardScaler\n",
        "sc= StandardScaler()\n",
        "X_train=sc.fit_transform(X_train)\n",
        "X_test=sc.transform(X_test)"
      ],
      "execution_count": 43,
      "outputs": []
    },
    {
      "cell_type": "code",
      "metadata": {
        "colab_type": "code",
        "id": "kHwQE46PLfQo",
        "colab": {
          "base_uri": "https://localhost:8080/",
          "height": 69
        },
        "outputId": "b4e1241b-6805-4433-ea18-327743c52189"
      },
      "source": [
        "from sklearn.neighbors import KNeighborsClassifier\n",
        "from sklearn.model_selection import cross_val_score\n",
        "neigh = KNeighborsClassifier(n_neighbors=25, metric= 'euclidean')\n",
        "neigh.fit(X_train, y_train)\n",
        "\n",
        "preds1 = neigh.predict(X_test)\n",
        "preds1.shape\n"
      ],
      "execution_count": 44,
      "outputs": [
        {
          "output_type": "execute_result",
          "data": {
            "text/plain": [
              "KNeighborsClassifier(algorithm='auto', leaf_size=30, metric='euclidean',\n",
              "                     metric_params=None, n_jobs=None, n_neighbors=25, p=2,\n",
              "                     weights='uniform')"
            ]
          },
          "metadata": {
            "tags": []
          },
          "execution_count": 44
        },
        {
          "output_type": "execute_result",
          "data": {
            "text/plain": [
              "(40,)"
            ]
          },
          "metadata": {
            "tags": []
          },
          "execution_count": 44
        }
      ]
    },
    {
      "cell_type": "code",
      "metadata": {
        "colab_type": "code",
        "id": "vlcsrAjIMIZV",
        "colab": {
          "base_uri": "https://localhost:8080/",
          "height": 52
        },
        "outputId": "ec3cda84-0c18-4a16-b149-daaab8539176"
      },
      "source": [
        "# confusion matrix\n",
        "os.chdir(home_path)\n",
        "from sklearn.metrics import confusion_matrix\n",
        "cm_knn=confusion_matrix(y_test,preds1)\n",
        "cm_knn"
      ],
      "execution_count": 45,
      "outputs": [
        {
          "output_type": "execute_result",
          "data": {
            "text/plain": [
              "array([[15,  5],\n",
              "       [ 0, 20]])"
            ]
          },
          "metadata": {
            "tags": []
          },
          "execution_count": 45
        }
      ]
    },
    {
      "cell_type": "code",
      "metadata": {
        "id": "jYOAB1rlJ6vr",
        "colab_type": "code",
        "colab": {
          "base_uri": "https://localhost:8080/",
          "height": 34
        },
        "outputId": "a6091ff9-3d1f-41de-e368-f23de0d79237"
      },
      "source": [
        "#Sensitivity_(True positive rate TPR) \n",
        "TP_knn= cm_knn[0][0]\n",
        "FN_knn= cm_knn[1][0]\n",
        "TPR_knn= TP_knn/(TP_knn+FN_knn) * 100\n",
        "print(\"Sensitivity \"+str(TPR_knn)+'%')"
      ],
      "execution_count": 46,
      "outputs": [
        {
          "output_type": "stream",
          "text": [
            "Sensitivity 100.0%\n"
          ],
          "name": "stdout"
        }
      ]
    },
    {
      "cell_type": "code",
      "metadata": {
        "id": "ozvuOhJ_J69z",
        "colab_type": "code",
        "colab": {
          "base_uri": "https://localhost:8080/",
          "height": 34
        },
        "outputId": "62905477-3b99-4b82-bc5c-08f5c7896e3a"
      },
      "source": [
        "#Specificity(Total Negative Result TNR)\n",
        "TN_knn= cm_knn[1][1]\n",
        "FP_knn= cm_knn[0][1] \n",
        "TNR_knn = TN_knn/(TN_knn+FP_knn) * 100\n",
        "print(\"Specificity \"+str(TNR_knn)+'%')"
      ],
      "execution_count": 47,
      "outputs": [
        {
          "output_type": "stream",
          "text": [
            "Specificity 80.0%\n"
          ],
          "name": "stdout"
        }
      ]
    },
    {
      "cell_type": "code",
      "metadata": {
        "colab_type": "code",
        "id": "k78ClrVxOx-w",
        "colab": {
          "base_uri": "https://localhost:8080/",
          "height": 298
        },
        "outputId": "ad357716-cb32-468b-e89a-1c337d996635"
      },
      "source": [
        "os.chdir(home_path)\n",
        "cm_picture2=sn.heatmap(pd.DataFrame(cm_knn),cmap=\"Blues\", annot=True)\n",
        "figure2 = cm_picture2.get_figure()   \n",
        "plt.title(\"Confusion Matrix KNN\")\n",
        "figure2.savefig('/content/drive/My Drive/project/ML_cgr_data/Confusion_KNN_4kmers.jpg', dpi=400)"
      ],
      "execution_count": 48,
      "outputs": [
        {
          "output_type": "execute_result",
          "data": {
            "text/plain": [
              "Text(0.5, 1.0, 'Confusion Matrix KNN')"
            ]
          },
          "metadata": {
            "tags": []
          },
          "execution_count": 48
        },
        {
          "output_type": "display_data",
          "data": {
            "image/png": "[encoded data removed]",
            "text/plain": [
              "<Figure size 432x288 with 2 Axes>"
            ]
          },
          "metadata": {
            "tags": [],
            "needs_background": "light"
          }
        }
      ]
    },
    {
      "cell_type": "code",
      "metadata": {
        "colab_type": "code",
        "id": "KZVoxk6OMfNW",
        "colab": {
          "base_uri": "https://localhost:8080/",
          "height": 34
        },
        "outputId": "337b5965-a412-42ca-e009-a4fe32a30792"
      },
      "source": [
        "#Calculate Accuracy and Print it\n",
        "accu_knn=sum([1 for i, j in zip(preds1, y_test) if i == j])/len(y_test)\n",
        "print(\"Accuracy = \" ,accu_knn*100, \"%\")"
      ],
      "execution_count": 49,
      "outputs": [
        {
          "output_type": "stream",
          "text": [
            "Accuracy =  87.5 %\n"
          ],
          "name": "stdout"
        }
      ]
    },
    {
      "cell_type": "code",
      "metadata": {
        "colab_type": "code",
        "id": "RX3zlRt5Nzm5",
        "colab": {
          "base_uri": "https://localhost:8080/",
          "height": 34
        },
        "outputId": "28a9fb52-56bb-4008-e6fd-8175ed003b63"
      },
      "source": [
        "neigh.score(X_test, y_test)"
      ],
      "execution_count": 50,
      "outputs": [
        {
          "output_type": "execute_result",
          "data": {
            "text/plain": [
              "0.875"
            ]
          },
          "metadata": {
            "tags": []
          },
          "execution_count": 50
        }
      ]
    },
    {
      "cell_type": "markdown",
      "metadata": {
        "colab_type": "text",
        "id": "12qbBiTp1Bda"
      },
      "source": [
        "**Cross Validation**"
      ]
    },
    {
      "cell_type": "markdown",
      "metadata": {
        "colab_type": "text",
        "id": "gStJc8Xt1Z48"
      },
      "source": [
        "Cross-validation consists in repetively splitting the data in pairs of train and test sets, called ‘folds’. Scikit-learn comes with a function to automatically compute score on all these folds. Here we do KFold with k=5."
      ]
    },
    {
      "cell_type": "code",
      "metadata": {
        "colab_type": "code",
        "id": "vgu2dEwq1MvT",
        "colab": {}
      },
      "source": [
        "np.random.shuffle(train_coding_noncoding1)\n",
        "np.random.shuffle(test_coding_noncoding1)"
      ],
      "execution_count": 51,
      "outputs": []
    },
    {
      "cell_type": "code",
      "metadata": {
        "colab_type": "code",
        "id": "ulwRSk8R1QHb",
        "colab": {}
      },
      "source": [
        "X_train=train_coding_noncoding1.iloc[:,:-1]\n",
        "X_test=test_coding_noncoding1.iloc[:,:-1]\n",
        "y_train=train_coding_noncoding1.iloc[:,-1]\n",
        "y_test=test_coding_noncoding1.iloc[:,-1]"
      ],
      "execution_count": 52,
      "outputs": []
    },
    {
      "cell_type": "code",
      "metadata": {
        "colab_type": "code",
        "id": "ncRADgwy06d7",
        "colab": {
          "base_uri": "https://localhost:8080/",
          "height": 34
        },
        "outputId": "e2beeea1-ac1b-4f8e-a465-352d5f3f74cb"
      },
      "source": [
        "from sklearn.model_selection import ShuffleSplit\n",
        "cv = ShuffleSplit(n_splits=5)\n",
        "cross_val_knn=cross_val_score(neigh,X_train, y_train, cv=cv)\n",
        "cross_val_knn"
      ],
      "execution_count": 53,
      "outputs": [
        {
          "output_type": "execute_result",
          "data": {
            "text/plain": [
              "array([0.625, 0.625, 0.875, 0.625, 0.875])"
            ]
          },
          "metadata": {
            "tags": []
          },
          "execution_count": 53
        }
      ]
    },
    {
      "cell_type": "code",
      "metadata": {
        "colab_type": "code",
        "id": "S_LiZSJ95nf8",
        "colab": {
          "base_uri": "https://localhost:8080/",
          "height": 206
        },
        "outputId": "c9bde2fd-b315-474e-d814-b8aabd314388"
      },
      "source": [
        "df_result['KNN']=pd.Series({'Accuracy':accu_knn,'Cross_Validation':cross_val_knn,'Confusion_Matrix':cm_knn,'Sensitivity':TPR_knn,'Specificity':TNR_knn})\n",
        "df_result"
      ],
      "execution_count": 54,
      "outputs": [
        {
          "output_type": "execute_result",
          "data": {
            "text/html": [
              "<div>\n",
              "<style scoped>\n",
              "    .dataframe tbody tr th:only-of-type {\n",
              "        vertical-align: middle;\n",
              "    }\n",
              "\n",
              "    .dataframe tbody tr th {\n",
              "        vertical-align: top;\n",
              "    }\n",
              "\n",
              "    .dataframe thead th {\n",
              "        text-align: right;\n",
              "    }\n",
              "</style>\n",
              "<table border=\"1\" class=\"dataframe\">\n",
              "  <thead>\n",
              "    <tr style=\"text-align: right;\">\n",
              "      <th></th>\n",
              "      <th>NaiveBayes</th>\n",
              "      <th>logistic regression</th>\n",
              "      <th>KNN</th>\n",
              "      <th>Perceptron</th>\n",
              "      <th>SVM</th>\n",
              "    </tr>\n",
              "  </thead>\n",
              "  <tbody>\n",
              "    <tr>\n",
              "      <th>Accuracy</th>\n",
              "      <td>0.575</td>\n",
              "      <td>0.925</td>\n",
              "      <td>0.875</td>\n",
              "      <td>NaN</td>\n",
              "      <td>NaN</td>\n",
              "    </tr>\n",
              "    <tr>\n",
              "      <th>Cross_Validation</th>\n",
              "      <td>[0.875, 1.0, 0.9375, 0.8125, 0.625]</td>\n",
              "      <td>[0.75, 1.0, 1.0, 1.0, 1.0]</td>\n",
              "      <td>[0.625, 0.625, 0.875, 0.625, 0.875]</td>\n",
              "      <td>NaN</td>\n",
              "      <td>NaN</td>\n",
              "    </tr>\n",
              "    <tr>\n",
              "      <th>Confusion_Matrix</th>\n",
              "      <td>[[5, 15], [2, 18]]</td>\n",
              "      <td>[[20, 0], [3, 17]]</td>\n",
              "      <td>[[15, 5], [0, 20]]</td>\n",
              "      <td>NaN</td>\n",
              "      <td>NaN</td>\n",
              "    </tr>\n",
              "    <tr>\n",
              "      <th>Sensitivity</th>\n",
              "      <td>71.4286</td>\n",
              "      <td>86.9565</td>\n",
              "      <td>100</td>\n",
              "      <td>NaN</td>\n",
              "      <td>NaN</td>\n",
              "    </tr>\n",
              "    <tr>\n",
              "      <th>Specificity</th>\n",
              "      <td>54.5455</td>\n",
              "      <td>100</td>\n",
              "      <td>80</td>\n",
              "      <td>NaN</td>\n",
              "      <td>NaN</td>\n",
              "    </tr>\n",
              "  </tbody>\n",
              "</table>\n",
              "</div>"
            ],
            "text/plain": [
              "                                           NaiveBayes  ...  SVM\n",
              "Accuracy                                        0.575  ...  NaN\n",
              "Cross_Validation  [0.875, 1.0, 0.9375, 0.8125, 0.625]  ...  NaN\n",
              "Confusion_Matrix                   [[5, 15], [2, 18]]  ...  NaN\n",
              "Sensitivity                                   71.4286  ...  NaN\n",
              "Specificity                                   54.5455  ...  NaN\n",
              "\n",
              "[5 rows x 5 columns]"
            ]
          },
          "metadata": {
            "tags": []
          },
          "execution_count": 54
        }
      ]
    },
    {
      "cell_type": "code",
      "metadata": {
        "colab_type": "code",
        "id": "tQTgc_bsRNa0",
        "colab": {}
      },
      "source": [
        "# 4- Perceptron"
      ],
      "execution_count": null,
      "outputs": []
    },
    {
      "cell_type": "code",
      "metadata": {
        "id": "p_PEye-L2xt9",
        "colab_type": "code",
        "colab": {}
      },
      "source": [
        "np.random.shuffle(train_coding_noncoding1)\n",
        "np.random.shuffle(test_coding_noncoding1)"
      ],
      "execution_count": 55,
      "outputs": []
    },
    {
      "cell_type": "code",
      "metadata": {
        "id": "nHUCtdyyigAa",
        "colab_type": "code",
        "colab": {}
      },
      "source": [
        "X_train=train_coding_noncoding1.iloc[:,:-1]\n",
        "X_test=test_coding_noncoding1.iloc[:,:-1]\n",
        "y_train=train_coding_noncoding1.iloc[:,-1]\n",
        "y_test=test_coding_noncoding1.iloc[:,-1]"
      ],
      "execution_count": 56,
      "outputs": []
    },
    {
      "cell_type": "code",
      "metadata": {
        "colab_type": "code",
        "id": "R7zfY1s4_R4e",
        "colab": {
          "base_uri": "https://localhost:8080/",
          "height": 86
        },
        "outputId": "826cf17d-b9fe-4512-e659-a9cbff25aca7"
      },
      "source": [
        "from sklearn.linear_model import Perceptron\n",
        "per=Perceptron(max_iter=100, eta0=0.01,shuffle=True)\n",
        "per.fit(X_train, y_train)\n",
        "Test_y=pd.Series(per.predict(X_test), name='y')"
      ],
      "execution_count": 57,
      "outputs": [
        {
          "output_type": "execute_result",
          "data": {
            "text/plain": [
              "Perceptron(alpha=0.0001, class_weight=None, early_stopping=False, eta0=0.01,\n",
              "           fit_intercept=True, max_iter=100, n_iter_no_change=5, n_jobs=None,\n",
              "           penalty=None, random_state=0, shuffle=True, tol=0.001,\n",
              "           validation_fraction=0.1, verbose=0, warm_start=False)"
            ]
          },
          "metadata": {
            "tags": []
          },
          "execution_count": 57
        }
      ]
    },
    {
      "cell_type": "code",
      "metadata": {
        "colab_type": "code",
        "id": "MSjJVaaoXwJa",
        "colab": {
          "base_uri": "https://localhost:8080/",
          "height": 52
        },
        "outputId": "5394a62b-06bc-4fd5-817a-33e3a1814f0a"
      },
      "source": [
        "# confusion matrix\n",
        "os.chdir(home_path)\n",
        "from sklearn.metrics import confusion_matrix\n",
        "cm_per=confusion_matrix(y_test,Test_y)\n",
        "cm_per"
      ],
      "execution_count": 58,
      "outputs": [
        {
          "output_type": "execute_result",
          "data": {
            "text/plain": [
              "array([[20,  0],\n",
              "       [ 3, 17]])"
            ]
          },
          "metadata": {
            "tags": []
          },
          "execution_count": 58
        }
      ]
    },
    {
      "cell_type": "code",
      "metadata": {
        "id": "LDGJw2TCKSba",
        "colab_type": "code",
        "colab": {
          "base_uri": "https://localhost:8080/",
          "height": 34
        },
        "outputId": "ec90d1dc-7ffd-4512-9754-50c40875f08d"
      },
      "source": [
        "#Sensitivity_(True positive rate TPR) \n",
        "TP_per= cm_per[0][0]\n",
        "FN_per= cm_per[1][0]\n",
        "TPR_per= TP_per/(TP_per+FN_per) * 100\n",
        "print(\"Sensitivity \"+str(TPR_per)+'%')"
      ],
      "execution_count": 59,
      "outputs": [
        {
          "output_type": "stream",
          "text": [
            "Sensitivity 86.95652173913044%\n"
          ],
          "name": "stdout"
        }
      ]
    },
    {
      "cell_type": "code",
      "metadata": {
        "id": "BKeCvymBKSob",
        "colab_type": "code",
        "colab": {
          "base_uri": "https://localhost:8080/",
          "height": 34
        },
        "outputId": "a617eae5-c57f-4ac5-c2c4-87b0d4f3bd30"
      },
      "source": [
        "#Specificity(Total Negative Result TNR)\n",
        "TN_per= cm_per[1][1]\n",
        "FP_per= cm_per[0][1] \n",
        "TNR_per = TN_per/(TN_per+FP_per) * 100\n",
        "print(\"Specificity \"+str(TNR_per)+'%')"
      ],
      "execution_count": 60,
      "outputs": [
        {
          "output_type": "stream",
          "text": [
            "Specificity 100.0%\n"
          ],
          "name": "stdout"
        }
      ]
    },
    {
      "cell_type": "code",
      "metadata": {
        "colab_type": "code",
        "id": "HY3q7HLOXwfX",
        "colab": {
          "base_uri": "https://localhost:8080/",
          "height": 298
        },
        "outputId": "a189c9c5-66f0-4327-bd41-cfd012ff4e8f"
      },
      "source": [
        "os.chdir(home_path)\n",
        "cm_picture4=sn.heatmap(pd.DataFrame(cm_per),cmap=\"Blues\", annot=True)\n",
        "figure4 = cm_picture4.get_figure()   \n",
        "plt.title(\"Confusion Matrix Perceptron\")\n",
        "figure4.savefig('/content/drive/My Drive/project/ML_cgr_data/Confusion_Perceptron_4kmers.jpg', dpi=400)"
      ],
      "execution_count": 61,
      "outputs": [
        {
          "output_type": "execute_result",
          "data": {
            "text/plain": [
              "Text(0.5, 1.0, 'Confusion Matrix Perceptron')"
            ]
          },
          "metadata": {
            "tags": []
          },
          "execution_count": 61
        },
        {
          "output_type": "display_data",
          "data": {
            "image/png": "[encoded data removed]",
            "text/plain": [
              "<Figure size 432x288 with 2 Axes>"
            ]
          },
          "metadata": {
            "tags": [],
            "needs_background": "light"
          }
        }
      ]
    },
    {
      "cell_type": "code",
      "metadata": {
        "colab_type": "code",
        "id": "OqiFjvW7XwrJ",
        "colab": {
          "base_uri": "https://localhost:8080/",
          "height": 34
        },
        "outputId": "bec10491-fcd6-4bfe-d654-fe4e0498f937"
      },
      "source": [
        "per.score(X_test, y_test)"
      ],
      "execution_count": 62,
      "outputs": [
        {
          "output_type": "execute_result",
          "data": {
            "text/plain": [
              "0.925"
            ]
          },
          "metadata": {
            "tags": []
          },
          "execution_count": 62
        }
      ]
    },
    {
      "cell_type": "code",
      "metadata": {
        "colab_type": "code",
        "id": "qF5rDQ8dBiHc",
        "colab": {
          "base_uri": "https://localhost:8080/",
          "height": 34
        },
        "outputId": "eed60b35-a150-4d66-da3d-5c1e251d38c7"
      },
      "source": [
        "#Calculate Accuracy and Print it\n",
        "accu_per=sum([1 for i, j in zip(Test_y, y_test) if i == j])/len(y_test)\n",
        "print(\"Accuracy = \" ,accu_per*100, \"%\")"
      ],
      "execution_count": 63,
      "outputs": [
        {
          "output_type": "stream",
          "text": [
            "Accuracy =  92.5 %\n"
          ],
          "name": "stdout"
        }
      ]
    },
    {
      "cell_type": "code",
      "metadata": {
        "colab_type": "code",
        "id": "XR_e6qziHvFR",
        "colab": {
          "base_uri": "https://localhost:8080/",
          "height": 34
        },
        "outputId": "62996085-195a-4f79-937b-e8963c81ddf3"
      },
      "source": [
        "# calculating the mean R^2 for a set of predictions:\n",
        "results_per = model_selection.cross_val_score(per, X_train, y_train,cv=5, scoring='r2')\n",
        "results_per"
      ],
      "execution_count": 64,
      "outputs": [
        {
          "output_type": "execute_result",
          "data": {
            "text/plain": [
              "array([-0.25,  1.  ,  0.75,  1.  ,  0.75])"
            ]
          },
          "metadata": {
            "tags": []
          },
          "execution_count": 64
        }
      ]
    },
    {
      "cell_type": "code",
      "metadata": {
        "colab_type": "code",
        "id": "9tWp80la6P5U",
        "colab": {
          "base_uri": "https://localhost:8080/",
          "height": 206
        },
        "outputId": "f1c5b1a4-43d1-49d7-af35-b9542bcbaddf"
      },
      "source": [
        "df_result['Perceptron']=pd.Series({'Accuracy':accu_per,'Cross_Validation':results_per,'Confusion_Matrix':cm_per,'Sensitivity':TPR_per,'Specificity':TNR_per})\n",
        "df_result"
      ],
      "execution_count": 66,
      "outputs": [
        {
          "output_type": "execute_result",
          "data": {
            "text/html": [
              "<div>\n",
              "<style scoped>\n",
              "    .dataframe tbody tr th:only-of-type {\n",
              "        vertical-align: middle;\n",
              "    }\n",
              "\n",
              "    .dataframe tbody tr th {\n",
              "        vertical-align: top;\n",
              "    }\n",
              "\n",
              "    .dataframe thead th {\n",
              "        text-align: right;\n",
              "    }\n",
              "</style>\n",
              "<table border=\"1\" class=\"dataframe\">\n",
              "  <thead>\n",
              "    <tr style=\"text-align: right;\">\n",
              "      <th></th>\n",
              "      <th>NaiveBayes</th>\n",
              "      <th>logistic regression</th>\n",
              "      <th>KNN</th>\n",
              "      <th>Perceptron</th>\n",
              "      <th>SVM</th>\n",
              "    </tr>\n",
              "  </thead>\n",
              "  <tbody>\n",
              "    <tr>\n",
              "      <th>Accuracy</th>\n",
              "      <td>0.575</td>\n",
              "      <td>0.925</td>\n",
              "      <td>0.875</td>\n",
              "      <td>0.925</td>\n",
              "      <td>NaN</td>\n",
              "    </tr>\n",
              "    <tr>\n",
              "      <th>Cross_Validation</th>\n",
              "      <td>[0.875, 1.0, 0.9375, 0.8125, 0.625]</td>\n",
              "      <td>[0.75, 1.0, 1.0, 1.0, 1.0]</td>\n",
              "      <td>[0.625, 0.625, 0.875, 0.625, 0.875]</td>\n",
              "      <td>[-0.25, 1.0, 0.75, 1.0, 0.75]</td>\n",
              "      <td>NaN</td>\n",
              "    </tr>\n",
              "    <tr>\n",
              "      <th>Confusion_Matrix</th>\n",
              "      <td>[[5, 15], [2, 18]]</td>\n",
              "      <td>[[20, 0], [3, 17]]</td>\n",
              "      <td>[[15, 5], [0, 20]]</td>\n",
              "      <td>[[20, 0], [3, 17]]</td>\n",
              "      <td>NaN</td>\n",
              "    </tr>\n",
              "    <tr>\n",
              "      <th>Sensitivity</th>\n",
              "      <td>71.4286</td>\n",
              "      <td>86.9565</td>\n",
              "      <td>100</td>\n",
              "      <td>86.9565</td>\n",
              "      <td>NaN</td>\n",
              "    </tr>\n",
              "    <tr>\n",
              "      <th>Specificity</th>\n",
              "      <td>54.5455</td>\n",
              "      <td>100</td>\n",
              "      <td>80</td>\n",
              "      <td>100</td>\n",
              "      <td>NaN</td>\n",
              "    </tr>\n",
              "  </tbody>\n",
              "</table>\n",
              "</div>"
            ],
            "text/plain": [
              "                                           NaiveBayes  ...  SVM\n",
              "Accuracy                                        0.575  ...  NaN\n",
              "Cross_Validation  [0.875, 1.0, 0.9375, 0.8125, 0.625]  ...  NaN\n",
              "Confusion_Matrix                   [[5, 15], [2, 18]]  ...  NaN\n",
              "Sensitivity                                   71.4286  ...  NaN\n",
              "Specificity                                   54.5455  ...  NaN\n",
              "\n",
              "[5 rows x 5 columns]"
            ]
          },
          "metadata": {
            "tags": []
          },
          "execution_count": 66
        }
      ]
    },
    {
      "cell_type": "code",
      "metadata": {
        "id": "a1TC1Zu0ovrX",
        "colab_type": "code",
        "colab": {}
      },
      "source": [
        "# 5- Support Vector Machine(SVM)"
      ],
      "execution_count": null,
      "outputs": []
    },
    {
      "cell_type": "code",
      "metadata": {
        "id": "LzGg0u153GwC",
        "colab_type": "code",
        "colab": {}
      },
      "source": [
        "np.random.shuffle(train_coding_noncoding1)\n",
        "np.random.shuffle(test_coding_noncoding1)"
      ],
      "execution_count": 67,
      "outputs": []
    },
    {
      "cell_type": "code",
      "metadata": {
        "id": "RE9o2Ln6tkdH",
        "colab_type": "code",
        "colab": {}
      },
      "source": [
        "X_train=train_coding_noncoding1.iloc[:,:-1]\n",
        "X_test=test_coding_noncoding1.iloc[:,:-1]\n",
        "y_train=train_coding_noncoding1.iloc[:,-1]\n",
        "y_test=test_coding_noncoding1.iloc[:,-1]"
      ],
      "execution_count": 68,
      "outputs": []
    },
    {
      "cell_type": "code",
      "metadata": {
        "id": "nvsHO3_qowBx",
        "colab_type": "code",
        "colab": {}
      },
      "source": [
        "# Create Linear SVM object\n",
        "from sklearn import svm\n",
        "support = svm.LinearSVC(random_state=20)"
      ],
      "execution_count": 69,
      "outputs": []
    },
    {
      "cell_type": "code",
      "metadata": {
        "id": "qdLL71lQowRx",
        "colab_type": "code",
        "colab": {
          "base_uri": "https://localhost:8080/",
          "height": 141
        },
        "outputId": "beed7328-2125-4c80-8424-1c75d336e3e2"
      },
      "source": [
        "# Train the model using the training sets and check score on test dataset\n",
        "from sklearn.metrics import accuracy_score\n",
        "support.fit(X_train, y_train)\n",
        "predicted= support.predict(X_test)"
      ],
      "execution_count": 70,
      "outputs": [
        {
          "output_type": "stream",
          "text": [
            "/usr/local/lib/python3.6/dist-packages/sklearn/svm/_base.py:947: ConvergenceWarning: Liblinear failed to converge, increase the number of iterations.\n",
            "  \"the number of iterations.\", ConvergenceWarning)\n"
          ],
          "name": "stderr"
        },
        {
          "output_type": "execute_result",
          "data": {
            "text/plain": [
              "LinearSVC(C=1.0, class_weight=None, dual=True, fit_intercept=True,\n",
              "          intercept_scaling=1, loss='squared_hinge', max_iter=1000,\n",
              "          multi_class='ovr', penalty='l2', random_state=20, tol=0.0001,\n",
              "          verbose=0)"
            ]
          },
          "metadata": {
            "tags": []
          },
          "execution_count": 70
        }
      ]
    },
    {
      "cell_type": "code",
      "metadata": {
        "id": "VxF2p0AXpAbg",
        "colab_type": "code",
        "colab": {
          "base_uri": "https://localhost:8080/",
          "height": 34
        },
        "outputId": "8b62a9fd-2cd0-444a-c66f-fdf7d0461a7a"
      },
      "source": [
        "score_svm1=support.score(X_test, y_test) # method 1 to calculate accuracy of svm model\n",
        "score_svm2=accuracy_score(y_test,predicted)  # method 2 to calculate accuracy of svm model\n",
        "#Calculate Accuracy and Print it by method3\n",
        "accu_svm=sum([1 for i, j in zip(predicted, y_test) if i == j])/len(y_test)\n",
        "print(\"Your Model Accuracy is\", score_svm1,score_svm2,accu_svm)"
      ],
      "execution_count": 71,
      "outputs": [
        {
          "output_type": "stream",
          "text": [
            "Your Model Accuracy is 0.95 0.95 0.95\n"
          ],
          "name": "stdout"
        }
      ]
    },
    {
      "cell_type": "code",
      "metadata": {
        "id": "621Bi85yx8zh",
        "colab_type": "code",
        "colab": {
          "base_uri": "https://localhost:8080/",
          "height": 52
        },
        "outputId": "17ef2fad-1ea6-4270-ef36-7469a9bec0fe"
      },
      "source": [
        "# confusion matrix\n",
        "os.chdir(home_path)\n",
        "from sklearn.metrics import confusion_matrix\n",
        "cm_svm=confusion_matrix(y_test,predicted)\n",
        "cm_svm"
      ],
      "execution_count": 72,
      "outputs": [
        {
          "output_type": "execute_result",
          "data": {
            "text/plain": [
              "array([[20,  0],\n",
              "       [ 2, 18]])"
            ]
          },
          "metadata": {
            "tags": []
          },
          "execution_count": 72
        }
      ]
    },
    {
      "cell_type": "code",
      "metadata": {
        "id": "erkf24QPyRig",
        "colab_type": "code",
        "colab": {
          "base_uri": "https://localhost:8080/",
          "height": 34
        },
        "outputId": "20fd546b-ff41-492a-ad07-4780d1944b3d"
      },
      "source": [
        "#Sensitivity_(True positive rate TPR) \n",
        "TP_svm= cm_svm[0][0]\n",
        "FN_svm= cm_svm[1][0]\n",
        "TPR_svm= TP_svm/(TP_svm+FN_svm) * 100\n",
        "print(\"Sensitivity \"+str(TPR_svm)+'%')"
      ],
      "execution_count": 73,
      "outputs": [
        {
          "output_type": "stream",
          "text": [
            "Sensitivity 90.9090909090909%\n"
          ],
          "name": "stdout"
        }
      ]
    },
    {
      "cell_type": "code",
      "metadata": {
        "id": "gQ-RIsJ8yRfD",
        "colab_type": "code",
        "colab": {
          "base_uri": "https://localhost:8080/",
          "height": 34
        },
        "outputId": "4167554c-057c-4117-9957-a0c85af161f5"
      },
      "source": [
        "#Specificity(Total Negative Result TNR)\n",
        "TN_svm= cm_svm[1][1]\n",
        "FP_svm= cm_svm[0][1] \n",
        "TNR_svm = TN_svm/(TN_svm+FP_svm) * 100\n",
        "print(\"Specificity \"+str(TNR_svm)+'%')"
      ],
      "execution_count": 74,
      "outputs": [
        {
          "output_type": "stream",
          "text": [
            "Specificity 100.0%\n"
          ],
          "name": "stdout"
        }
      ]
    },
    {
      "cell_type": "code",
      "metadata": {
        "id": "Wa6WfvM8yRbn",
        "colab_type": "code",
        "colab": {
          "base_uri": "https://localhost:8080/",
          "height": 298
        },
        "outputId": "bbc97ca9-516b-4f09-999a-e1643262209b"
      },
      "source": [
        "os.chdir(home_path)\n",
        "cm_picture5=sn.heatmap(pd.DataFrame(cm_svm),cmap=\"Blues\", annot=True)\n",
        "figure5 = cm_picture5.get_figure()   \n",
        "plt.title(\"Confusion Matrix SVM\")\n",
        "figure5.savefig('/content/drive/My Drive/project/ML_cgr_data/Confusion_SVM_4kmers.jpg', dpi=400)"
      ],
      "execution_count": 75,
      "outputs": [
        {
          "output_type": "execute_result",
          "data": {
            "text/plain": [
              "Text(0.5, 1.0, 'Confusion Matrix SVM')"
            ]
          },
          "metadata": {
            "tags": []
          },
          "execution_count": 75
        },
        {
          "output_type": "display_data",
          "data": {
            "image/png": "[encoded data removed]",
            "text/plain": [
              "<Figure size 432x288 with 2 Axes>"
            ]
          },
          "metadata": {
            "tags": [],
            "needs_background": "light"
          }
        }
      ]
    },
    {
      "cell_type": "code",
      "metadata": {
        "id": "2opSoiX1yie8",
        "colab_type": "code",
        "colab": {
          "base_uri": "https://localhost:8080/",
          "height": 228
        },
        "outputId": "e51ff741-24c0-4d6c-bfe5-51e6e83dbfed"
      },
      "source": [
        "# calculating the mean R^2 for a set of predictions:\n",
        "results_svm = model_selection.cross_val_score(support, X_train, y_train,cv=5, scoring='r2')\n",
        "results_svm"
      ],
      "execution_count": 76,
      "outputs": [
        {
          "output_type": "stream",
          "text": [
            "/usr/local/lib/python3.6/dist-packages/sklearn/svm/_base.py:947: ConvergenceWarning: Liblinear failed to converge, increase the number of iterations.\n",
            "  \"the number of iterations.\", ConvergenceWarning)\n",
            "/usr/local/lib/python3.6/dist-packages/sklearn/svm/_base.py:947: ConvergenceWarning: Liblinear failed to converge, increase the number of iterations.\n",
            "  \"the number of iterations.\", ConvergenceWarning)\n",
            "/usr/local/lib/python3.6/dist-packages/sklearn/svm/_base.py:947: ConvergenceWarning: Liblinear failed to converge, increase the number of iterations.\n",
            "  \"the number of iterations.\", ConvergenceWarning)\n",
            "/usr/local/lib/python3.6/dist-packages/sklearn/svm/_base.py:947: ConvergenceWarning: Liblinear failed to converge, increase the number of iterations.\n",
            "  \"the number of iterations.\", ConvergenceWarning)\n",
            "/usr/local/lib/python3.6/dist-packages/sklearn/svm/_base.py:947: ConvergenceWarning: Liblinear failed to converge, increase the number of iterations.\n",
            "  \"the number of iterations.\", ConvergenceWarning)\n"
          ],
          "name": "stderr"
        },
        {
          "output_type": "execute_result",
          "data": {
            "text/plain": [
              "array([0.75, 1.  , 1.  , 1.  , 1.  ])"
            ]
          },
          "metadata": {
            "tags": []
          },
          "execution_count": 76
        }
      ]
    },
    {
      "cell_type": "code",
      "metadata": {
        "id": "SnzrKsbXzD-S",
        "colab_type": "code",
        "colab": {
          "base_uri": "https://localhost:8080/",
          "height": 241
        },
        "outputId": "4888525f-f809-40af-ce7e-ed7ee3d3e98b"
      },
      "source": [
        "df_result['SVM']=pd.Series({'Accuracy':accu_svm,'Cross_Validation':results_svm,'Confusion_Matrix':cm_svm,'Sensitivity':TPR_svm,'Specificity':TNR_svm})\n",
        "df_result"
      ],
      "execution_count": 77,
      "outputs": [
        {
          "output_type": "execute_result",
          "data": {
            "text/html": [
              "<div>\n",
              "<style scoped>\n",
              "    .dataframe tbody tr th:only-of-type {\n",
              "        vertical-align: middle;\n",
              "    }\n",
              "\n",
              "    .dataframe tbody tr th {\n",
              "        vertical-align: top;\n",
              "    }\n",
              "\n",
              "    .dataframe thead th {\n",
              "        text-align: right;\n",
              "    }\n",
              "</style>\n",
              "<table border=\"1\" class=\"dataframe\">\n",
              "  <thead>\n",
              "    <tr style=\"text-align: right;\">\n",
              "      <th></th>\n",
              "      <th>NaiveBayes</th>\n",
              "      <th>logistic regression</th>\n",
              "      <th>KNN</th>\n",
              "      <th>Perceptron</th>\n",
              "      <th>SVM</th>\n",
              "    </tr>\n",
              "  </thead>\n",
              "  <tbody>\n",
              "    <tr>\n",
              "      <th>Accuracy</th>\n",
              "      <td>0.575</td>\n",
              "      <td>0.925</td>\n",
              "      <td>0.875</td>\n",
              "      <td>0.925</td>\n",
              "      <td>0.95</td>\n",
              "    </tr>\n",
              "    <tr>\n",
              "      <th>Cross_Validation</th>\n",
              "      <td>[0.875, 1.0, 0.9375, 0.8125, 0.625]</td>\n",
              "      <td>[0.75, 1.0, 1.0, 1.0, 1.0]</td>\n",
              "      <td>[0.625, 0.625, 0.875, 0.625, 0.875]</td>\n",
              "      <td>[-0.25, 1.0, 0.75, 1.0, 0.75]</td>\n",
              "      <td>[0.75, 1.0, 1.0, 1.0, 1.0]</td>\n",
              "    </tr>\n",
              "    <tr>\n",
              "      <th>Confusion_Matrix</th>\n",
              "      <td>[[5, 15], [2, 18]]</td>\n",
              "      <td>[[20, 0], [3, 17]]</td>\n",
              "      <td>[[15, 5], [0, 20]]</td>\n",
              "      <td>[[20, 0], [3, 17]]</td>\n",
              "      <td>[[20, 0], [2, 18]]</td>\n",
              "    </tr>\n",
              "    <tr>\n",
              "      <th>Sensitivity</th>\n",
              "      <td>71.4286</td>\n",
              "      <td>86.9565</td>\n",
              "      <td>100</td>\n",
              "      <td>86.9565</td>\n",
              "      <td>90.9091</td>\n",
              "    </tr>\n",
              "    <tr>\n",
              "      <th>Specificity</th>\n",
              "      <td>54.5455</td>\n",
              "      <td>100</td>\n",
              "      <td>80</td>\n",
              "      <td>100</td>\n",
              "      <td>100</td>\n",
              "    </tr>\n",
              "  </tbody>\n",
              "</table>\n",
              "</div>"
            ],
            "text/plain": [
              "                                           NaiveBayes  ...                         SVM\n",
              "Accuracy                                        0.575  ...                        0.95\n",
              "Cross_Validation  [0.875, 1.0, 0.9375, 0.8125, 0.625]  ...  [0.75, 1.0, 1.0, 1.0, 1.0]\n",
              "Confusion_Matrix                   [[5, 15], [2, 18]]  ...          [[20, 0], [2, 18]]\n",
              "Sensitivity                                   71.4286  ...                     90.9091\n",
              "Specificity                                   54.5455  ...                         100\n",
              "\n",
              "[5 rows x 5 columns]"
            ]
          },
          "metadata": {
            "tags": []
          },
          "execution_count": 77
        }
      ]
    },
    {
      "cell_type": "code",
      "metadata": {
        "id": "InDbgcjczD6I",
        "colab_type": "code",
        "colab": {}
      },
      "source": [
        ""
      ],
      "execution_count": null,
      "outputs": []
    },
    {
      "cell_type": "markdown",
      "metadata": {
        "colab_type": "text",
        "id": "Et-fcch72wZX"
      },
      "source": [
        "# Fifth: Model Selection"
      ]
    },
    {
      "cell_type": "markdown",
      "metadata": {
        "colab_type": "text",
        "id": "dRqa1LH_7jHf"
      },
      "source": [
        "In This project we try to select best model for coding/noncoding DNA detection by two methods:\n",
        "1. from built in outsource function from (https://scipy-lectures.org/packages/scikit-learn/index.html)\n",
        "2. aggergate above result from each model in new data frame called **df_result**"
      ]
    },
    {
      "cell_type": "code",
      "metadata": {
        "colab_type": "code",
        "id": "Ky_aecXZ7iOx",
        "colab": {}
      },
      "source": [
        "# 1. outsourcing code"
      ],
      "execution_count": 78,
      "outputs": []
    },
    {
      "cell_type": "code",
      "metadata": {
        "colab_type": "code",
        "id": "HsEG_dpF2vEd",
        "colab": {
          "base_uri": "https://localhost:8080/",
          "height": 159
        },
        "outputId": "f03074b1-1111-474e-ff6e-cfe7b04cfe56"
      },
      "source": [
        "from sklearn import model_selection\n",
        "from sklearn import metrics\n",
        "for Model in [GaussianNB, LogisticRegression,KNeighborsClassifier,Perceptron,svm.LinearSVC]:\n",
        "    clfsa = Model().fit(X_train, y_train)\n",
        "    y_pred_model = clfsa.predict(X_test)\n",
        "    print('%s: %s' % \n",
        "          (Model.__name__, metrics.f1_score(y_pred_model, y_test, average=\"macro\"))) "
      ],
      "execution_count": 79,
      "outputs": [
        {
          "output_type": "stream",
          "text": [
            "GaussianNB: 0.5248078266946192\n",
            "LogisticRegression: 0.9245757385292268\n",
            "KNeighborsClassifier: 0.37321937321937326\n",
            "Perceptron: 0.9245757385292268\n"
          ],
          "name": "stdout"
        },
        {
          "output_type": "stream",
          "text": [
            "/usr/local/lib/python3.6/dist-packages/sklearn/svm/_base.py:947: ConvergenceWarning: Liblinear failed to converge, increase the number of iterations.\n",
            "  \"the number of iterations.\", ConvergenceWarning)\n"
          ],
          "name": "stderr"
        },
        {
          "output_type": "stream",
          "text": [
            "LinearSVC: 0.9749843652282677\n"
          ],
          "name": "stdout"
        }
      ]
    },
    {
      "cell_type": "code",
      "metadata": {
        "colab_type": "code",
        "id": "SLGIwNwK5Kjj",
        "colab": {}
      },
      "source": [
        "# 2. Create df_result to collect result on it:"
      ],
      "execution_count": null,
      "outputs": []
    },
    {
      "cell_type": "code",
      "metadata": {
        "colab_type": "code",
        "id": "WCY1pWBU9Dn8",
        "colab": {
          "base_uri": "https://localhost:8080/",
          "height": 241
        },
        "outputId": "b95d9cc4-c43e-4246-84ea-9f3e2a745772"
      },
      "source": [
        "df_result"
      ],
      "execution_count": 80,
      "outputs": [
        {
          "output_type": "execute_result",
          "data": {
            "text/html": [
              "<div>\n",
              "<style scoped>\n",
              "    .dataframe tbody tr th:only-of-type {\n",
              "        vertical-align: middle;\n",
              "    }\n",
              "\n",
              "    .dataframe tbody tr th {\n",
              "        vertical-align: top;\n",
              "    }\n",
              "\n",
              "    .dataframe thead th {\n",
              "        text-align: right;\n",
              "    }\n",
              "</style>\n",
              "<table border=\"1\" class=\"dataframe\">\n",
              "  <thead>\n",
              "    <tr style=\"text-align: right;\">\n",
              "      <th></th>\n",
              "      <th>NaiveBayes</th>\n",
              "      <th>logistic regression</th>\n",
              "      <th>KNN</th>\n",
              "      <th>Perceptron</th>\n",
              "      <th>SVM</th>\n",
              "    </tr>\n",
              "  </thead>\n",
              "  <tbody>\n",
              "    <tr>\n",
              "      <th>Accuracy</th>\n",
              "      <td>0.575</td>\n",
              "      <td>0.925</td>\n",
              "      <td>0.875</td>\n",
              "      <td>0.925</td>\n",
              "      <td>0.95</td>\n",
              "    </tr>\n",
              "    <tr>\n",
              "      <th>Cross_Validation</th>\n",
              "      <td>[0.875, 1.0, 0.9375, 0.8125, 0.625]</td>\n",
              "      <td>[0.75, 1.0, 1.0, 1.0, 1.0]</td>\n",
              "      <td>[0.625, 0.625, 0.875, 0.625, 0.875]</td>\n",
              "      <td>[-0.25, 1.0, 0.75, 1.0, 0.75]</td>\n",
              "      <td>[0.75, 1.0, 1.0, 1.0, 1.0]</td>\n",
              "    </tr>\n",
              "    <tr>\n",
              "      <th>Confusion_Matrix</th>\n",
              "      <td>[[5, 15], [2, 18]]</td>\n",
              "      <td>[[20, 0], [3, 17]]</td>\n",
              "      <td>[[15, 5], [0, 20]]</td>\n",
              "      <td>[[20, 0], [3, 17]]</td>\n",
              "      <td>[[20, 0], [2, 18]]</td>\n",
              "    </tr>\n",
              "    <tr>\n",
              "      <th>Sensitivity</th>\n",
              "      <td>71.4286</td>\n",
              "      <td>86.9565</td>\n",
              "      <td>100</td>\n",
              "      <td>86.9565</td>\n",
              "      <td>90.9091</td>\n",
              "    </tr>\n",
              "    <tr>\n",
              "      <th>Specificity</th>\n",
              "      <td>54.5455</td>\n",
              "      <td>100</td>\n",
              "      <td>80</td>\n",
              "      <td>100</td>\n",
              "      <td>100</td>\n",
              "    </tr>\n",
              "  </tbody>\n",
              "</table>\n",
              "</div>"
            ],
            "text/plain": [
              "                                           NaiveBayes  ...                         SVM\n",
              "Accuracy                                        0.575  ...                        0.95\n",
              "Cross_Validation  [0.875, 1.0, 0.9375, 0.8125, 0.625]  ...  [0.75, 1.0, 1.0, 1.0, 1.0]\n",
              "Confusion_Matrix                   [[5, 15], [2, 18]]  ...          [[20, 0], [2, 18]]\n",
              "Sensitivity                                   71.4286  ...                     90.9091\n",
              "Specificity                                   54.5455  ...                         100\n",
              "\n",
              "[5 rows x 5 columns]"
            ]
          },
          "metadata": {
            "tags": []
          },
          "execution_count": 80
        }
      ]
    },
    {
      "cell_type": "code",
      "metadata": {
        "id": "1wTTHjGjj4IA",
        "colab_type": "code",
        "colab": {}
      },
      "source": [
        ""
      ],
      "execution_count": null,
      "outputs": []
    },
    {
      "cell_type": "markdown",
      "metadata": {
        "colab_type": "text",
        "id": "gZoey-u2C-JH"
      },
      "source": [
        "# **Conclusion**:"
      ]
    },
    {
      "cell_type": "markdown",
      "metadata": {
        "colab_type": "text",
        "id": "LrHj5vISDJ4E"
      },
      "source": [
        "In conclusion, from point 1 and 2 , from Sensitivity, cross validation and Accuracy the Perceptron and SVM and Logistic regression are the best.\n",
        "\n",
        "So, In this project we conclude **Perceptron** and **logistic regression** and **SVM** ( supervised learning, linear clasifier ) are the suitable models for detecting coding DNA sequences from noncoding DNA sequences using chaos game represntation approach. may be because the logistic regression & perceptron is an algorithms for learning a binary classifier, and gradient descent to reach best decision boundary. SVM is good for image analysis tasks, such as image classification"
      ]
    }
  ]
}