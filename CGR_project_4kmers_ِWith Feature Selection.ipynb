{
  "nbformat": 4,
  "nbformat_minor": 0,
  "metadata": {
    "colab": {
      "name": "CGR_project_4kmers_FS.ipynb",
      "provenance": []
    },
    "kernelspec": {
      "display_name": "Python 3",
      "language": "python",
      "name": "python3"
    },
    "language_info": {
      "codemirror_mode": {
        "name": "ipython",
        "version": 3
      },
      "file_extension": ".py",
      "mimetype": "text/x-python",
      "name": "python",
      "nbconvert_exporter": "python",
      "pygments_lexer": "ipython3",
      "version": "3.7.3"
    }
  },
  "cells": [
    {
      "cell_type": "markdown",
      "metadata": {
        "colab_type": "text",
        "id": "4RwUrCdZrFNp"
      },
      "source": [
        "# ***C/NC DNA Detecting Code***\n",
        "\n",
        "---\n",
        "\n",
        "\n",
        "\n",
        "> This code to detect the coding and noncoding sequances (4-kmers) using chaos game representation, Chaos game representation (CGR) is an iterative mapping technique that assigns each nucleotide in a DNA sequence to a respective position on the plane in a one-to-one manner. "
      ]
    },
    {
      "cell_type": "code",
      "metadata": {
        "colab_type": "code",
        "id": "WC6O1E3MmPCK",
        "colab": {}
      },
      "source": [
        "%matplotlib inline\n",
        "import numpy as np\n",
        "import os\n",
        "import imageio\n",
        "import matplotlib.pylab as plt\n",
        "import math\n",
        "import pandas as pd\n",
        "from pathlib import Path\n",
        "import matplotlib.cm as cm\n",
        "import seaborn as sn\n",
        "from sklearn.model_selection import train_test_split\n",
        "from IPython.core.interactiveshell import InteractiveShell\n",
        "InteractiveShell.ast_node_interactivity = \"all\"\n"
      ],
      "execution_count": 228,
      "outputs": []
    },
    {
      "cell_type": "code",
      "metadata": {
        "colab_type": "code",
        "id": "Tppjl72LktYk",
        "colab": {
          "base_uri": "https://localhost:8080/",
          "height": 57
        },
        "outputId": "d92be03c-be72-4751-c16a-4dbe946df168"
      },
      "source": [
        "#Retrieve_the_data\n",
        "from google.colab import drive\n",
        "drive.mount('/content/drive')"
      ],
      "execution_count": 229,
      "outputs": [
        {
          "output_type": "stream",
          "text": [
            "Drive already mounted at /content/drive; to attempt to forcibly remount, call drive.mount(\"/content/drive\", force_remount=True).\n"
          ],
          "name": "stdout"
        }
      ]
    },
    {
      "cell_type": "code",
      "metadata": {
        "id": "lo7KJ-z9hUbl",
        "colab_type": "code",
        "colab": {}
      },
      "source": [
        "import time\n",
        "start = time.time()"
      ],
      "execution_count": 230,
      "outputs": []
    },
    {
      "cell_type": "markdown",
      "metadata": {
        "colab_type": "text",
        "id": "wDMGbb8LRgz7"
      },
      "source": [
        "after start anything, AND and after get data from NCBI we must create two lists : \n",
        "\n",
        "---\n",
        "\n",
        "\n",
        "\n",
        "1. inp_out_needed list : contains all data frame that, we will create in the next step that contain coding & noncoding of train & test cgr images.\n",
        "\n",
        "2. paths list : that contain path of each data (coding & noncoding of train & test cgr images) on your google drive.\n",
        "\n",
        "\n",
        " "
      ]
    },
    {
      "cell_type": "code",
      "metadata": {
        "colab_type": "code",
        "id": "49rzQUhlB7Nu",
        "colab": {}
      },
      "source": [
        "inp_out_needed=['data_coding_df1','data_noncoding_df1','data_coding_df1','data_noncoding_df1']\n",
        "paths={'data_coding_df1':'/content/drive/My Drive/project/new_CGR_data/coding_seq','data_noncoding_df1':'/content/drive/My Drive/project/new_CGR_data/non_codingseq'}"
      ],
      "execution_count": 231,
      "outputs": []
    },
    {
      "cell_type": "code",
      "metadata": {
        "colab_type": "code",
        "id": "mnvVW912B7jE",
        "colab": {}
      },
      "source": [
        "# df_image is a subfunction to create data frame from read each CGR image where each row is one image"
      ],
      "execution_count": null,
      "outputs": []
    },
    {
      "cell_type": "code",
      "metadata": {
        "colab_type": "code",
        "id": "s5_ts-YkB7yJ",
        "colab": {}
      },
      "source": [
        "def df_image(Images):\n",
        "  Images1=sorted(Images) # sort them ascendingly \n",
        "  ImagF=np.zeros((len(Images),497664))  # All Images\n",
        "  for i in range(len(Images1)):\n",
        "      ImagF_1=imageio.imread(Images1[i])\n",
        "      ImagF[i,:]=ImagF_1.reshape((1,497664))\n",
        "  return pd.DataFrame(ImagF)"
      ],
      "execution_count": 232,
      "outputs": []
    },
    {
      "cell_type": "markdown",
      "metadata": {
        "colab_type": "text",
        "id": "u3ihN3LcJpXF"
      },
      "source": [
        "***Second*** : Assgin class to coding and noncoding images to can make classification"
      ]
    },
    {
      "cell_type": "code",
      "metadata": {
        "colab_type": "code",
        "id": "y0OGITH1B8DX",
        "colab": {}
      },
      "source": [
        "# clas_assign is a subfunction to assign class 1 (one) to each coding cgr images data frame and class 0 (zero) to  noncoding cgr images data frame"
      ],
      "execution_count": null,
      "outputs": []
    },
    {
      "cell_type": "code",
      "metadata": {
        "colab_type": "code",
        "id": "iKXOjexjB8Sa",
        "colab": {}
      },
      "source": [
        "def clas_assign(Images,c,b):\n",
        "  c= df_image(Images)\n",
        "  if b.split('_')[1] =='coding':\n",
        "    c['y']=np.ones((len(c)))\n",
        "  elif b.split('_')[1] =='noncoding':\n",
        "    c['y']=np.zeros((len(c)))\n",
        "  return c"
      ],
      "execution_count": 233,
      "outputs": []
    },
    {
      "cell_type": "code",
      "metadata": {
        "colab_type": "code",
        "id": "0-TyPYc8B8fy",
        "colab": {}
      },
      "source": [
        "#A- For loop to make data frame from taking different types of images (coding & noncoding) from different folder (tain & test)  "
      ],
      "execution_count": null,
      "outputs": []
    },
    {
      "cell_type": "code",
      "metadata": {
        "colab_type": "code",
        "id": "wfolnJN_B8uZ",
        "colab": {}
      },
      "source": [
        "for c in inp_out_needed:\n",
        "  b=c\n",
        "  home_path = os.getcwd()\n",
        "  path=paths[c]\n",
        "  os.chdir(path)\n",
        "  Images=os.listdir()\n",
        "  exec('{} = clas_assign(Images,c,b)'.format(c))"
      ],
      "execution_count": 234,
      "outputs": []
    },
    {
      "cell_type": "code",
      "metadata": {
        "colab_type": "code",
        "id": "CsBeSmTlG01L",
        "colab": {}
      },
      "source": [
        "# B- Merge codind & noncoding traing data (after assign class to each one ) in one train data frame and\n",
        "# codind & noncoding testing data (after assign class to each one ) in one test data frame "
      ],
      "execution_count": null,
      "outputs": []
    },
    {
      "cell_type": "code",
      "metadata": {
        "colab_type": "code",
        "id": "P5rK3ebmG1Bv",
        "colab": {}
      },
      "source": [
        "# merge coding sequence of train data to noncoding sequence of train data to obtain training sequence data frame\n",
        "data_coding_noncoding1=pd.concat([data_coding_df1,data_noncoding_df1])"
      ],
      "execution_count": 235,
      "outputs": []
    },
    {
      "cell_type": "code",
      "metadata": {
        "id": "GK4pIkLe2F0k",
        "colab_type": "code",
        "colab": {}
      },
      "source": [
        "# C - split train dataframe (from step B ) to X_train (data) & y_train (labeles) variables to can start machine learning classification"
      ],
      "execution_count": null,
      "outputs": []
    },
    {
      "cell_type": "code",
      "metadata": {
        "id": "gUQnB8wVBlLm",
        "colab_type": "code",
        "colab": {}
      },
      "source": [
        "X=data_coding_noncoding1.iloc[:,:-1]\n",
        "y=data_coding_noncoding1.iloc[:,-1]\n",
        "X_train_after_pca, X_test_after_pca, y_train, y_test = train_test_split(X, y, test_size=0.20, random_state=42)"
      ],
      "execution_count": 236,
      "outputs": []
    },
    {
      "cell_type": "code",
      "metadata": {
        "id": "HmCcvqk4-Ghj",
        "colab_type": "code",
        "colab": {
          "base_uri": "https://localhost:8080/",
          "height": 57
        },
        "outputId": "96b0214d-98af-4826-93cf-953cbe02f3d0"
      },
      "source": [
        "# Reduce Dimension\n",
        "from sklearn import decomposition\n",
        "pca = decomposition.PCA(n_components=100, whiten=True)\n",
        "pca.fit(X_train_after_pca)"
      ],
      "execution_count": 237,
      "outputs": [
        {
          "output_type": "execute_result",
          "data": {
            "text/plain": [
              "PCA(copy=True, iterated_power='auto', n_components=100, random_state=None,\n",
              "    svd_solver='auto', tol=0.0, whiten=True)"
            ]
          },
          "metadata": {
            "tags": []
          },
          "execution_count": 237
        }
      ]
    },
    {
      "cell_type": "code",
      "metadata": {
        "id": "OVcLeLNQ_kg4",
        "colab_type": "code",
        "colab": {}
      },
      "source": [
        "X_train = pca.transform(X_train_after_pca)\n",
        "X_test = pca.transform(X_test_after_pca)"
      ],
      "execution_count": 238,
      "outputs": []
    },
    {
      "cell_type": "code",
      "metadata": {
        "colab_type": "code",
        "id": "GrBIKC2cz-do",
        "colab": {}
      },
      "source": [
        "df_resultcol=['NaiveBayes','logistic regression','KNN','Perceptron','SVM','Combination']\n",
        "df_resultrow=['Accuracy','Specificity','Precision','Sensitivity']"
      ],
      "execution_count": 239,
      "outputs": []
    },
    {
      "cell_type": "code",
      "metadata": {
        "colab_type": "code",
        "id": "8sYsgkq24xXq",
        "colab": {
          "base_uri": "https://localhost:8080/",
          "height": 175
        },
        "outputId": "41c61ff3-1ec7-4ad3-891c-f25f19d1946d"
      },
      "source": [
        "df_result=pd.DataFrame(columns=df_resultcol,index=df_resultrow)\n",
        "df_result"
      ],
      "execution_count": 240,
      "outputs": [
        {
          "output_type": "execute_result",
          "data": {
            "text/html": [
              "<div>\n",
              "<style scoped>\n",
              "    .dataframe tbody tr th:only-of-type {\n",
              "        vertical-align: middle;\n",
              "    }\n",
              "\n",
              "    .dataframe tbody tr th {\n",
              "        vertical-align: top;\n",
              "    }\n",
              "\n",
              "    .dataframe thead th {\n",
              "        text-align: right;\n",
              "    }\n",
              "</style>\n",
              "<table border=\"1\" class=\"dataframe\">\n",
              "  <thead>\n",
              "    <tr style=\"text-align: right;\">\n",
              "      <th></th>\n",
              "      <th>NaiveBayes</th>\n",
              "      <th>logistic regression</th>\n",
              "      <th>KNN</th>\n",
              "      <th>Perceptron</th>\n",
              "      <th>SVM</th>\n",
              "      <th>Combination</th>\n",
              "    </tr>\n",
              "  </thead>\n",
              "  <tbody>\n",
              "    <tr>\n",
              "      <th>Accuracy</th>\n",
              "      <td>NaN</td>\n",
              "      <td>NaN</td>\n",
              "      <td>NaN</td>\n",
              "      <td>NaN</td>\n",
              "      <td>NaN</td>\n",
              "      <td>NaN</td>\n",
              "    </tr>\n",
              "    <tr>\n",
              "      <th>Specificity</th>\n",
              "      <td>NaN</td>\n",
              "      <td>NaN</td>\n",
              "      <td>NaN</td>\n",
              "      <td>NaN</td>\n",
              "      <td>NaN</td>\n",
              "      <td>NaN</td>\n",
              "    </tr>\n",
              "    <tr>\n",
              "      <th>Precision</th>\n",
              "      <td>NaN</td>\n",
              "      <td>NaN</td>\n",
              "      <td>NaN</td>\n",
              "      <td>NaN</td>\n",
              "      <td>NaN</td>\n",
              "      <td>NaN</td>\n",
              "    </tr>\n",
              "    <tr>\n",
              "      <th>Sensitivity</th>\n",
              "      <td>NaN</td>\n",
              "      <td>NaN</td>\n",
              "      <td>NaN</td>\n",
              "      <td>NaN</td>\n",
              "      <td>NaN</td>\n",
              "      <td>NaN</td>\n",
              "    </tr>\n",
              "  </tbody>\n",
              "</table>\n",
              "</div>"
            ],
            "text/plain": [
              "            NaiveBayes logistic regression  KNN Perceptron  SVM Combination\n",
              "Accuracy           NaN                 NaN  NaN        NaN  NaN         NaN\n",
              "Specificity        NaN                 NaN  NaN        NaN  NaN         NaN\n",
              "Precision          NaN                 NaN  NaN        NaN  NaN         NaN\n",
              "Sensitivity        NaN                 NaN  NaN        NaN  NaN         NaN"
            ]
          },
          "metadata": {
            "tags": []
          },
          "execution_count": 240
        }
      ]
    },
    {
      "cell_type": "code",
      "metadata": {
        "colab_type": "code",
        "id": "V2uFGFtf-F98",
        "colab": {}
      },
      "source": [
        "# F- Statistical Data Analysis after Scalling:"
      ],
      "execution_count": null,
      "outputs": []
    },
    {
      "cell_type": "markdown",
      "metadata": {
        "colab_type": "text",
        "id": "RraTMda3PGXl"
      },
      "source": [
        "Apply different type of classification :\n",
        "\n",
        "1- Naive Bayes Classifier (supervised linear classifier)\n",
        "\n",
        "2- Logistic regression (supervised linear classifier)\n",
        "\n",
        "3- k-nearst neighbor classifier ( supervised nonlinear classifier)\n",
        "\n",
        "4- perceptron (supervised linear classifier)\n",
        "\n",
        "5- SVM (Support Vector Machine ) (supervised classifier)\n",
        "\n"
      ]
    },
    {
      "cell_type": "code",
      "metadata": {
        "colab_type": "code",
        "id": "CjLik5cxLXBo",
        "colab": {}
      },
      "source": [
        "#1- Naive Bayes Classifier"
      ],
      "execution_count": null,
      "outputs": []
    },
    {
      "cell_type": "code",
      "metadata": {
        "id": "0U5wv0HcwVYI",
        "colab_type": "code",
        "colab": {}
      },
      "source": [
        "# E- feature scaling\n",
        "from sklearn.preprocessing import StandardScaler\n",
        "sc= StandardScaler()\n",
        "X_train=sc.fit_transform(X_train)\n",
        "X_test=sc.transform(X_test)"
      ],
      "execution_count": 241,
      "outputs": []
    },
    {
      "cell_type": "code",
      "metadata": {
        "colab_type": "code",
        "id": "4r69jARAl2lK",
        "colab": {
          "base_uri": "https://localhost:8080/",
          "height": 37
        },
        "outputId": "f525cf2c-46cf-49d6-b02a-f8938261862f"
      },
      "source": [
        "#Import Gaussian Naive Bayes model\n",
        "from sklearn.naive_bayes import GaussianNB\n",
        "\n",
        "#Create a Gaussian Classifier\n",
        "model_n = GaussianNB()\n",
        "\n",
        "# Train the model using the training sets\n",
        "model_n.fit(X_train, y_train)\n",
        "\n",
        "#Predict Output\n",
        "y_pred_nai = model_n.predict(X_test) "
      ],
      "execution_count": 242,
      "outputs": [
        {
          "output_type": "execute_result",
          "data": {
            "text/plain": [
              "GaussianNB(priors=None, var_smoothing=1e-09)"
            ]
          },
          "metadata": {
            "tags": []
          },
          "execution_count": 242
        }
      ]
    },
    {
      "cell_type": "code",
      "metadata": {
        "colab_type": "code",
        "id": "uuBkSeuIl26R",
        "colab": {
          "base_uri": "https://localhost:8080/",
          "height": 57
        },
        "outputId": "7ff2c2a0-1f71-459e-aa56-99b300fb7105"
      },
      "source": [
        "# confusion matrix\n",
        "os.chdir(home_path)\n",
        "from sklearn.metrics import confusion_matrix\n",
        "cm_naiv=confusion_matrix(y_test,y_pred_nai)\n",
        "cm_naiv"
      ],
      "execution_count": 243,
      "outputs": [
        {
          "output_type": "execute_result",
          "data": {
            "text/plain": [
              "array([[31,  2],\n",
              "       [ 1, 44]])"
            ]
          },
          "metadata": {
            "tags": []
          },
          "execution_count": 243
        }
      ]
    },
    {
      "cell_type": "code",
      "metadata": {
        "id": "Aq0gJdTcJVUT",
        "colab_type": "code",
        "colab": {
          "base_uri": "https://localhost:8080/",
          "height": 37
        },
        "outputId": "89f94757-95b1-48e1-fd8e-8ded9f2cc510"
      },
      "source": [
        "#Sensitivity_(True positive rate TPR) \n",
        "TP_nav= cm_naiv[0][0]\n",
        "FN_nav= cm_naiv[1][0]\n",
        "TPR_nav= TP_nav/(TP_nav+FN_nav) * 100\n",
        "print(\"Sensitivity \"+str(TPR_nav)+'%')"
      ],
      "execution_count": 244,
      "outputs": [
        {
          "output_type": "stream",
          "text": [
            "Sensitivity 96.875%\n"
          ],
          "name": "stdout"
        }
      ]
    },
    {
      "cell_type": "code",
      "metadata": {
        "id": "D4m-RHeUJVgq",
        "colab_type": "code",
        "colab": {
          "base_uri": "https://localhost:8080/",
          "height": 37
        },
        "outputId": "4e37a9e2-272c-4fba-d9fa-c521343d0ced"
      },
      "source": [
        "#Specificity(Total Negative Result TNR)\n",
        "TN_nav= cm_naiv[1][1]\n",
        "FP_nav= cm_naiv[0][1] \n",
        "TNR_nav = TN_nav/(TN_nav+FP_nav) * 100\n",
        "print(\"Specificity \"+str(TNR_nav)+'%')"
      ],
      "execution_count": 245,
      "outputs": [
        {
          "output_type": "stream",
          "text": [
            "Specificity 95.65217391304348%\n"
          ],
          "name": "stdout"
        }
      ]
    },
    {
      "cell_type": "code",
      "metadata": {
        "id": "5i7btoTGfW62",
        "colab_type": "code",
        "colab": {
          "base_uri": "https://localhost:8080/",
          "height": 37
        },
        "outputId": "8247b59c-6fc7-466e-de20-7b93f26434ed"
      },
      "source": [
        "percision_nav=(TP_nav/(TP_nav+FP_nav))*100\n",
        "percision_nav"
      ],
      "execution_count": 246,
      "outputs": [
        {
          "output_type": "execute_result",
          "data": {
            "text/plain": [
              "93.93939393939394"
            ]
          },
          "metadata": {
            "tags": []
          },
          "execution_count": 246
        }
      ]
    },
    {
      "cell_type": "code",
      "metadata": {
        "colab_type": "code",
        "id": "UUB413aiqXMY",
        "colab": {
          "base_uri": "https://localhost:8080/",
          "height": 301
        },
        "outputId": "b1c06217-d6b9-4dce-ed1e-f5a5dce719c0"
      },
      "source": [
        "os.chdir(home_path)\n",
        "cm_picture_nav=sn.heatmap(pd.DataFrame(cm_naiv),cmap=\"Blues\", annot=True)\n",
        "figure1 = cm_picture_nav.get_figure()   \n",
        "plt.title(\"Confusion Matrix Naive Bayes\")\n",
        "figure1.savefig('/content/drive/My Drive/project/CGR_data/Confusion_NaiveBayes_4kmers.jpg', dpi=400)"
      ],
      "execution_count": 247,
      "outputs": [
        {
          "output_type": "execute_result",
          "data": {
            "text/plain": [
              "Text(0.5, 1.0, 'Confusion Matrix Naive Bayes')"
            ]
          },
          "metadata": {
            "tags": []
          },
          "execution_count": 247
        },
        {
          "output_type": "display_data",
          "data": {
            "image/png": "[encoded data removed]",
            "text/plain": [
              "<Figure size 432x288 with 2 Axes>"
            ]
          },
          "metadata": {
            "tags": [],
            "needs_background": "light"
          }
        }
      ]
    },
    {
      "cell_type": "code",
      "metadata": {
        "colab_type": "code",
        "id": "PsIoZRO6snrY",
        "colab": {
          "base_uri": "https://localhost:8080/",
          "height": 37
        },
        "outputId": "0486c86c-588e-4633-ec64-702628ec3dbe"
      },
      "source": [
        "#Calculate Accuracy and Print it\n",
        "accu_navie=(sum([1 for i, j in zip(y_pred_nai, y_test) if i == j])/len(y_test))*100\n",
        "print(\"Accuracy = \" ,accu_navie, \"%\")"
      ],
      "execution_count": 248,
      "outputs": [
        {
          "output_type": "stream",
          "text": [
            "Accuracy =  96.15384615384616 %\n"
          ],
          "name": "stdout"
        }
      ]
    },
    {
      "cell_type": "code",
      "metadata": {
        "colab_type": "code",
        "id": "mL_Kf-HmDx-9",
        "colab": {
          "base_uri": "https://localhost:8080/",
          "height": 37
        },
        "outputId": "0bb592c7-620f-4dc8-8829-11afbc014b79"
      },
      "source": [
        "# calculating the cross validation for a set of predictions:\n",
        "results_naiv = model_selection.cross_val_score(model_n, X_train, y_train,cv=None)*100\n",
        "results_naiv"
      ],
      "execution_count": 249,
      "outputs": [
        {
          "output_type": "execute_result",
          "data": {
            "text/plain": [
              "array([95.23809524, 93.65079365, 82.25806452, 90.32258065, 83.87096774])"
            ]
          },
          "metadata": {
            "tags": []
          },
          "execution_count": 249
        }
      ]
    },
    {
      "cell_type": "code",
      "metadata": {
        "id": "WcFjJVfvz3AD",
        "colab_type": "code",
        "colab": {}
      },
      "source": [
        "acc_cross_validation=pd.DataFrame()\n",
        "acc_cross_validation['NaiveBayes']=results_naiv"
      ],
      "execution_count": 250,
      "outputs": []
    },
    {
      "cell_type": "code",
      "metadata": {
        "colab_type": "code",
        "id": "vgOMOspg1xV4",
        "colab": {
          "base_uri": "https://localhost:8080/",
          "height": 175
        },
        "outputId": "989ac5ac-af6c-439f-afb6-a372bcc10572"
      },
      "source": [
        "df_result['NaiveBayes']=pd.Series({'Accuracy':accu_navie,'Cross_Validation':results_naiv,'Confusion_Matrix':cm_naiv,'Sensitivity':TPR_nav,'Specificity':TNR_nav,'Precision':percision_nav})\n",
        "df_result"
      ],
      "execution_count": 251,
      "outputs": [
        {
          "output_type": "execute_result",
          "data": {
            "text/html": [
              "<div>\n",
              "<style scoped>\n",
              "    .dataframe tbody tr th:only-of-type {\n",
              "        vertical-align: middle;\n",
              "    }\n",
              "\n",
              "    .dataframe tbody tr th {\n",
              "        vertical-align: top;\n",
              "    }\n",
              "\n",
              "    .dataframe thead th {\n",
              "        text-align: right;\n",
              "    }\n",
              "</style>\n",
              "<table border=\"1\" class=\"dataframe\">\n",
              "  <thead>\n",
              "    <tr style=\"text-align: right;\">\n",
              "      <th></th>\n",
              "      <th>NaiveBayes</th>\n",
              "      <th>logistic regression</th>\n",
              "      <th>KNN</th>\n",
              "      <th>Perceptron</th>\n",
              "      <th>SVM</th>\n",
              "      <th>Combination</th>\n",
              "    </tr>\n",
              "  </thead>\n",
              "  <tbody>\n",
              "    <tr>\n",
              "      <th>Accuracy</th>\n",
              "      <td>96.1538</td>\n",
              "      <td>NaN</td>\n",
              "      <td>NaN</td>\n",
              "      <td>NaN</td>\n",
              "      <td>NaN</td>\n",
              "      <td>NaN</td>\n",
              "    </tr>\n",
              "    <tr>\n",
              "      <th>Specificity</th>\n",
              "      <td>95.6522</td>\n",
              "      <td>NaN</td>\n",
              "      <td>NaN</td>\n",
              "      <td>NaN</td>\n",
              "      <td>NaN</td>\n",
              "      <td>NaN</td>\n",
              "    </tr>\n",
              "    <tr>\n",
              "      <th>Precision</th>\n",
              "      <td>93.9394</td>\n",
              "      <td>NaN</td>\n",
              "      <td>NaN</td>\n",
              "      <td>NaN</td>\n",
              "      <td>NaN</td>\n",
              "      <td>NaN</td>\n",
              "    </tr>\n",
              "    <tr>\n",
              "      <th>Sensitivity</th>\n",
              "      <td>96.875</td>\n",
              "      <td>NaN</td>\n",
              "      <td>NaN</td>\n",
              "      <td>NaN</td>\n",
              "      <td>NaN</td>\n",
              "      <td>NaN</td>\n",
              "    </tr>\n",
              "  </tbody>\n",
              "</table>\n",
              "</div>"
            ],
            "text/plain": [
              "            NaiveBayes logistic regression  KNN Perceptron  SVM Combination\n",
              "Accuracy       96.1538                 NaN  NaN        NaN  NaN         NaN\n",
              "Specificity    95.6522                 NaN  NaN        NaN  NaN         NaN\n",
              "Precision      93.9394                 NaN  NaN        NaN  NaN         NaN\n",
              "Sensitivity     96.875                 NaN  NaN        NaN  NaN         NaN"
            ]
          },
          "metadata": {
            "tags": []
          },
          "execution_count": 251
        }
      ]
    },
    {
      "cell_type": "code",
      "metadata": {
        "colab_type": "code",
        "id": "fe1RlAJn8HYx",
        "colab": {}
      },
      "source": [
        "#2- logistic regression"
      ],
      "execution_count": null,
      "outputs": []
    },
    {
      "cell_type": "code",
      "metadata": {
        "colab_type": "code",
        "id": "WfVnmtZYFlDX",
        "colab": {}
      },
      "source": [
        "from sklearn.linear_model import LogisticRegression\n",
        "from sklearn import linear_model"
      ],
      "execution_count": 252,
      "outputs": []
    },
    {
      "cell_type": "code",
      "metadata": {
        "colab_type": "code",
        "id": "QlCUHpETFoKq",
        "colab": {}
      },
      "source": [
        "clf =linear_model.LogisticRegression().fit(X_train, y_train)"
      ],
      "execution_count": 253,
      "outputs": []
    },
    {
      "cell_type": "code",
      "metadata": {
        "colab_type": "code",
        "id": "z1CU1Bl5Fo1K",
        "colab": {}
      },
      "source": [
        "y_pred_log1=clf.predict(X_test)"
      ],
      "execution_count": 254,
      "outputs": []
    },
    {
      "cell_type": "code",
      "metadata": {
        "colab_type": "code",
        "id": "cbLHoghiUlH0",
        "colab": {
          "base_uri": "https://localhost:8080/",
          "height": 57
        },
        "outputId": "32aab4db-cb9f-4f63-f196-f62e6091333b"
      },
      "source": [
        "# confusion matrix\n",
        "os.chdir(home_path)\n",
        "from sklearn.metrics import confusion_matrix\n",
        "cm_logistic=confusion_matrix(y_test,y_pred_log1)\n",
        "cm_logistic"
      ],
      "execution_count": 255,
      "outputs": [
        {
          "output_type": "execute_result",
          "data": {
            "text/plain": [
              "array([[32,  1],\n",
              "       [ 2, 43]])"
            ]
          },
          "metadata": {
            "tags": []
          },
          "execution_count": 255
        }
      ]
    },
    {
      "cell_type": "code",
      "metadata": {
        "id": "wOdEl8TbJrLb",
        "colab_type": "code",
        "colab": {
          "base_uri": "https://localhost:8080/",
          "height": 37
        },
        "outputId": "7286355c-3ee2-48b0-a5b9-f29a634e327e"
      },
      "source": [
        "#Sensitivity_(True positive rate TPR) \n",
        "TP_log= cm_logistic[0][0]\n",
        "FN_log= cm_logistic[1][0]\n",
        "TPR_log= TP_log/(TP_log+FN_log) * 100\n",
        "print(\"Sensitivity \"+str(TPR_log)+'%')"
      ],
      "execution_count": 256,
      "outputs": [
        {
          "output_type": "stream",
          "text": [
            "Sensitivity 94.11764705882352%\n"
          ],
          "name": "stdout"
        }
      ]
    },
    {
      "cell_type": "code",
      "metadata": {
        "id": "3uJ8dMB1JrYG",
        "colab_type": "code",
        "colab": {
          "base_uri": "https://localhost:8080/",
          "height": 37
        },
        "outputId": "0fe0fe36-5ec0-428a-9284-b15c1fbf62cb"
      },
      "source": [
        "#Specificity(Total Negative Result TNR)\n",
        "TN_log= cm_logistic[1][1]\n",
        "FP_log= cm_logistic[0][1] \n",
        "TNR_log = TN_log/(TN_log+FP_log) * 100\n",
        "print(\"Specificity \"+str(TNR_log)+'%')"
      ],
      "execution_count": 257,
      "outputs": [
        {
          "output_type": "stream",
          "text": [
            "Specificity 97.72727272727273%\n"
          ],
          "name": "stdout"
        }
      ]
    },
    {
      "cell_type": "code",
      "metadata": {
        "id": "wJYPN4WdgC5f",
        "colab_type": "code",
        "colab": {
          "base_uri": "https://localhost:8080/",
          "height": 37
        },
        "outputId": "2823a597-019b-48e6-8582-7ebb3cd40b2f"
      },
      "source": [
        "percision_log=(TP_log/(TP_log+FP_log))*100\n",
        "percision_log"
      ],
      "execution_count": 258,
      "outputs": [
        {
          "output_type": "execute_result",
          "data": {
            "text/plain": [
              "96.96969696969697"
            ]
          },
          "metadata": {
            "tags": []
          },
          "execution_count": 258
        }
      ]
    },
    {
      "cell_type": "code",
      "metadata": {
        "colab_type": "code",
        "id": "U_7iZgxdU839",
        "colab": {
          "base_uri": "https://localhost:8080/",
          "height": 301
        },
        "outputId": "2b2c47d8-26ff-418a-91da-c673d823bffa"
      },
      "source": [
        "os.chdir(home_path)\n",
        "cm_picture_logistic=sn.heatmap(pd.DataFrame(cm_logistic),cmap=\"Blues\", annot=True)\n",
        "figure2 = cm_picture_logistic.get_figure()   \n",
        "plt.title(\"Confusion Matrix Logistic Regression\")\n",
        "figure2.savefig('/content/drive/My Drive/project/CGR_data/Confusion_Logistic_4kmers.jpg', dpi=400)"
      ],
      "execution_count": 259,
      "outputs": [
        {
          "output_type": "execute_result",
          "data": {
            "text/plain": [
              "Text(0.5, 1.0, 'Confusion Matrix Logistic Regression')"
            ]
          },
          "metadata": {
            "tags": []
          },
          "execution_count": 259
        },
        {
          "output_type": "display_data",
          "data": {
            "image/png": "[encoded data removed]",
            "text/plain": [
              "<Figure size 432x288 with 2 Axes>"
            ]
          },
          "metadata": {
            "tags": [],
            "needs_background": "light"
          }
        }
      ]
    },
    {
      "cell_type": "code",
      "metadata": {
        "colab_type": "code",
        "id": "UVSc0_eSVzgf",
        "colab": {
          "base_uri": "https://localhost:8080/",
          "height": 37
        },
        "outputId": "7a8f8015-a1cf-4558-950f-698666ad852e"
      },
      "source": [
        "#Calculate Accuracy and Print it\n",
        "accu_log=(sum([1 for i, j in zip(y_pred_log1, y_test) if i == j])/len(y_test))*100\n",
        "print(\"Accuracy = \" ,accu_log, \"%\")"
      ],
      "execution_count": 260,
      "outputs": [
        {
          "output_type": "stream",
          "text": [
            "Accuracy =  96.15384615384616 %\n"
          ],
          "name": "stdout"
        }
      ]
    },
    {
      "cell_type": "code",
      "metadata": {
        "colab_type": "code",
        "id": "6mK8nioeLBh1",
        "colab": {
          "base_uri": "https://localhost:8080/",
          "height": 57
        },
        "outputId": "f58cb112-b159-40fb-8b30-f3ebce266cdf"
      },
      "source": [
        "# calculating the cross validation for a set of predictions:\n",
        "results_log = model_selection.cross_val_score(clf, X_train, y_train,cv=None )*100\n",
        "results_log"
      ],
      "execution_count": 261,
      "outputs": [
        {
          "output_type": "execute_result",
          "data": {
            "text/plain": [
              "array([100.        ,  98.41269841, 100.        ,  96.77419355,\n",
              "       100.        ])"
            ]
          },
          "metadata": {
            "tags": []
          },
          "execution_count": 261
        }
      ]
    },
    {
      "cell_type": "code",
      "metadata": {
        "id": "kTmaxq8s1xmf",
        "colab_type": "code",
        "colab": {
          "base_uri": "https://localhost:8080/",
          "height": 206
        },
        "outputId": "984cd1d0-287a-47e1-ca71-c60e64885f63"
      },
      "source": [
        "acc_cross_validation['logistic regression']=results_log\n",
        "acc_cross_validation"
      ],
      "execution_count": 262,
      "outputs": [
        {
          "output_type": "execute_result",
          "data": {
            "text/html": [
              "<div>\n",
              "<style scoped>\n",
              "    .dataframe tbody tr th:only-of-type {\n",
              "        vertical-align: middle;\n",
              "    }\n",
              "\n",
              "    .dataframe tbody tr th {\n",
              "        vertical-align: top;\n",
              "    }\n",
              "\n",
              "    .dataframe thead th {\n",
              "        text-align: right;\n",
              "    }\n",
              "</style>\n",
              "<table border=\"1\" class=\"dataframe\">\n",
              "  <thead>\n",
              "    <tr style=\"text-align: right;\">\n",
              "      <th></th>\n",
              "      <th>NaiveBayes</th>\n",
              "      <th>logistic regression</th>\n",
              "    </tr>\n",
              "  </thead>\n",
              "  <tbody>\n",
              "    <tr>\n",
              "      <th>0</th>\n",
              "      <td>95.238095</td>\n",
              "      <td>100.000000</td>\n",
              "    </tr>\n",
              "    <tr>\n",
              "      <th>1</th>\n",
              "      <td>93.650794</td>\n",
              "      <td>98.412698</td>\n",
              "    </tr>\n",
              "    <tr>\n",
              "      <th>2</th>\n",
              "      <td>82.258065</td>\n",
              "      <td>100.000000</td>\n",
              "    </tr>\n",
              "    <tr>\n",
              "      <th>3</th>\n",
              "      <td>90.322581</td>\n",
              "      <td>96.774194</td>\n",
              "    </tr>\n",
              "    <tr>\n",
              "      <th>4</th>\n",
              "      <td>83.870968</td>\n",
              "      <td>100.000000</td>\n",
              "    </tr>\n",
              "  </tbody>\n",
              "</table>\n",
              "</div>"
            ],
            "text/plain": [
              "   NaiveBayes  logistic regression\n",
              "0   95.238095           100.000000\n",
              "1   93.650794            98.412698\n",
              "2   82.258065           100.000000\n",
              "3   90.322581            96.774194\n",
              "4   83.870968           100.000000"
            ]
          },
          "metadata": {
            "tags": []
          },
          "execution_count": 262
        }
      ]
    },
    {
      "cell_type": "code",
      "metadata": {
        "colab_type": "code",
        "id": "OymQu9hT2T1C",
        "colab": {
          "base_uri": "https://localhost:8080/",
          "height": 175
        },
        "outputId": "bfe8e404-96e1-409c-f253-33e9f9323877"
      },
      "source": [
        "df_result['logistic regression']=pd.Series({'Accuracy': accu_log,'Cross_Validation':results_log,'Confusion_Matrix':cm_logistic,'Sensitivity':TPR_log,'Specificity':TNR_log,'Precision':percision_log})\n",
        "df_result"
      ],
      "execution_count": 263,
      "outputs": [
        {
          "output_type": "execute_result",
          "data": {
            "text/html": [
              "<div>\n",
              "<style scoped>\n",
              "    .dataframe tbody tr th:only-of-type {\n",
              "        vertical-align: middle;\n",
              "    }\n",
              "\n",
              "    .dataframe tbody tr th {\n",
              "        vertical-align: top;\n",
              "    }\n",
              "\n",
              "    .dataframe thead th {\n",
              "        text-align: right;\n",
              "    }\n",
              "</style>\n",
              "<table border=\"1\" class=\"dataframe\">\n",
              "  <thead>\n",
              "    <tr style=\"text-align: right;\">\n",
              "      <th></th>\n",
              "      <th>NaiveBayes</th>\n",
              "      <th>logistic regression</th>\n",
              "      <th>KNN</th>\n",
              "      <th>Perceptron</th>\n",
              "      <th>SVM</th>\n",
              "      <th>Combination</th>\n",
              "    </tr>\n",
              "  </thead>\n",
              "  <tbody>\n",
              "    <tr>\n",
              "      <th>Accuracy</th>\n",
              "      <td>96.1538</td>\n",
              "      <td>96.1538</td>\n",
              "      <td>NaN</td>\n",
              "      <td>NaN</td>\n",
              "      <td>NaN</td>\n",
              "      <td>NaN</td>\n",
              "    </tr>\n",
              "    <tr>\n",
              "      <th>Specificity</th>\n",
              "      <td>95.6522</td>\n",
              "      <td>97.7273</td>\n",
              "      <td>NaN</td>\n",
              "      <td>NaN</td>\n",
              "      <td>NaN</td>\n",
              "      <td>NaN</td>\n",
              "    </tr>\n",
              "    <tr>\n",
              "      <th>Precision</th>\n",
              "      <td>93.9394</td>\n",
              "      <td>96.9697</td>\n",
              "      <td>NaN</td>\n",
              "      <td>NaN</td>\n",
              "      <td>NaN</td>\n",
              "      <td>NaN</td>\n",
              "    </tr>\n",
              "    <tr>\n",
              "      <th>Sensitivity</th>\n",
              "      <td>96.875</td>\n",
              "      <td>94.1176</td>\n",
              "      <td>NaN</td>\n",
              "      <td>NaN</td>\n",
              "      <td>NaN</td>\n",
              "      <td>NaN</td>\n",
              "    </tr>\n",
              "  </tbody>\n",
              "</table>\n",
              "</div>"
            ],
            "text/plain": [
              "            NaiveBayes logistic regression  KNN Perceptron  SVM Combination\n",
              "Accuracy       96.1538             96.1538  NaN        NaN  NaN         NaN\n",
              "Specificity    95.6522             97.7273  NaN        NaN  NaN         NaN\n",
              "Precision      93.9394             96.9697  NaN        NaN  NaN         NaN\n",
              "Sensitivity     96.875             94.1176  NaN        NaN  NaN         NaN"
            ]
          },
          "metadata": {
            "tags": []
          },
          "execution_count": 263
        }
      ]
    },
    {
      "cell_type": "code",
      "metadata": {
        "colab_type": "code",
        "id": "xSFeTpuuLZYS",
        "colab": {}
      },
      "source": [
        "# 3- KNN:"
      ],
      "execution_count": null,
      "outputs": []
    },
    {
      "cell_type": "code",
      "metadata": {
        "colab_type": "code",
        "id": "kHwQE46PLfQo",
        "colab": {
          "base_uri": "https://localhost:8080/",
          "height": 78
        },
        "outputId": "f8c78147-bc87-49f7-be22-48cf92f39673"
      },
      "source": [
        "from sklearn.neighbors import KNeighborsClassifier\n",
        "from sklearn.model_selection import cross_val_score\n",
        "neigh = KNeighborsClassifier(n_neighbors=25, metric= 'euclidean')\n",
        "neigh.fit(X_train, y_train)\n",
        "\n",
        "preds1 = neigh.predict(X_test)\n",
        "preds1.shape\n"
      ],
      "execution_count": 264,
      "outputs": [
        {
          "output_type": "execute_result",
          "data": {
            "text/plain": [
              "KNeighborsClassifier(algorithm='auto', leaf_size=30, metric='euclidean',\n",
              "                     metric_params=None, n_jobs=None, n_neighbors=25, p=2,\n",
              "                     weights='uniform')"
            ]
          },
          "metadata": {
            "tags": []
          },
          "execution_count": 264
        },
        {
          "output_type": "execute_result",
          "data": {
            "text/plain": [
              "(78,)"
            ]
          },
          "metadata": {
            "tags": []
          },
          "execution_count": 264
        }
      ]
    },
    {
      "cell_type": "code",
      "metadata": {
        "colab_type": "code",
        "id": "vlcsrAjIMIZV",
        "colab": {
          "base_uri": "https://localhost:8080/",
          "height": 57
        },
        "outputId": "2268ac30-8f13-4e79-87e1-fb0aaa62eff4"
      },
      "source": [
        "# confusion matrix\n",
        "os.chdir(home_path)\n",
        "from sklearn.metrics import confusion_matrix\n",
        "cm_knn=confusion_matrix(y_test,preds1)\n",
        "cm_knn"
      ],
      "execution_count": 265,
      "outputs": [
        {
          "output_type": "execute_result",
          "data": {
            "text/plain": [
              "array([[33,  0],\n",
              "       [44,  1]])"
            ]
          },
          "metadata": {
            "tags": []
          },
          "execution_count": 265
        }
      ]
    },
    {
      "cell_type": "code",
      "metadata": {
        "id": "jYOAB1rlJ6vr",
        "colab_type": "code",
        "colab": {
          "base_uri": "https://localhost:8080/",
          "height": 37
        },
        "outputId": "a39e84d6-82e5-42a4-9cdb-a4cf68c21573"
      },
      "source": [
        "#Sensitivity_(True positive rate TPR) \n",
        "TP_knn= cm_knn[0][0]\n",
        "FN_knn= cm_knn[1][0]\n",
        "TPR_knn= TP_knn/(TP_knn+FN_knn) * 100\n",
        "print(\"Sensitivity \"+str(TPR_knn)+'%')"
      ],
      "execution_count": 266,
      "outputs": [
        {
          "output_type": "stream",
          "text": [
            "Sensitivity 42.857142857142854%\n"
          ],
          "name": "stdout"
        }
      ]
    },
    {
      "cell_type": "code",
      "metadata": {
        "id": "ozvuOhJ_J69z",
        "colab_type": "code",
        "colab": {
          "base_uri": "https://localhost:8080/",
          "height": 37
        },
        "outputId": "44976614-ef3b-495c-86c5-577f620ac8a4"
      },
      "source": [
        "#Specificity(Total Negative Result TNR)\n",
        "TN_knn= cm_knn[1][1]\n",
        "FP_knn= cm_knn[0][1] \n",
        "TNR_knn = TN_knn/(TN_knn+FP_knn) * 100\n",
        "print(\"Specificity \"+str(TNR_knn)+'%')"
      ],
      "execution_count": 267,
      "outputs": [
        {
          "output_type": "stream",
          "text": [
            "Specificity 100.0%\n"
          ],
          "name": "stdout"
        }
      ]
    },
    {
      "cell_type": "code",
      "metadata": {
        "id": "qFKEdXFjgbwU",
        "colab_type": "code",
        "colab": {
          "base_uri": "https://localhost:8080/",
          "height": 37
        },
        "outputId": "a8736413-b7d0-4df6-cd4a-368f26e6eba4"
      },
      "source": [
        "percision_knn=(TP_knn/(TP_knn+FP_knn))*100\n",
        "percision_knn"
      ],
      "execution_count": 268,
      "outputs": [
        {
          "output_type": "execute_result",
          "data": {
            "text/plain": [
              "100.0"
            ]
          },
          "metadata": {
            "tags": []
          },
          "execution_count": 268
        }
      ]
    },
    {
      "cell_type": "code",
      "metadata": {
        "colab_type": "code",
        "id": "k78ClrVxOx-w",
        "colab": {
          "base_uri": "https://localhost:8080/",
          "height": 301
        },
        "outputId": "41cb121d-cea3-44ee-b59c-5a2f25ee39bb"
      },
      "source": [
        "os.chdir(home_path)\n",
        "cm_picture2=sn.heatmap(pd.DataFrame(cm_knn),cmap=\"Blues\", annot=True)\n",
        "figure3 = cm_picture2.get_figure()   \n",
        "plt.title(\"Confusion Matrix KNN\")\n",
        "figure3.savefig('/content/drive/My Drive/project/CGR_data/Confusion_KNN_4kmers.jpg', dpi=400)"
      ],
      "execution_count": 269,
      "outputs": [
        {
          "output_type": "execute_result",
          "data": {
            "text/plain": [
              "Text(0.5, 1.0, 'Confusion Matrix KNN')"
            ]
          },
          "metadata": {
            "tags": []
          },
          "execution_count": 269
        },
        {
          "output_type": "display_data",
          "data": {
            "image/png": "[encoded data removed]",
            "text/plain": [
              "<Figure size 432x288 with 2 Axes>"
            ]
          },
          "metadata": {
            "tags": [],
            "needs_background": "light"
          }
        }
      ]
    },
    {
      "cell_type": "code",
      "metadata": {
        "colab_type": "code",
        "id": "KZVoxk6OMfNW",
        "colab": {
          "base_uri": "https://localhost:8080/",
          "height": 37
        },
        "outputId": "3a309e44-0d1f-48a3-868f-ec60ebdbce17"
      },
      "source": [
        "#Calculate Accuracy and Print it\n",
        "accu_knn=(sum([1 for i, j in zip(preds1, y_test) if i == j])/len(y_test))*100\n",
        "print(\"Accuracy = \" ,accu_knn, \"%\")"
      ],
      "execution_count": 270,
      "outputs": [
        {
          "output_type": "stream",
          "text": [
            "Accuracy =  43.58974358974359 %\n"
          ],
          "name": "stdout"
        }
      ]
    },
    {
      "cell_type": "code",
      "metadata": {
        "id": "HrJQWGXgbOHe",
        "colab_type": "code",
        "colab": {
          "base_uri": "https://localhost:8080/",
          "height": 37
        },
        "outputId": "eac472b6-cbff-4129-b5bf-c0d63966ce36"
      },
      "source": [
        "# calculating the cross validation for a set of predictions:\n",
        "results_knn= model_selection.cross_val_score(neigh, X_train, y_train,cv=None )*100\n",
        "results_knn"
      ],
      "execution_count": 271,
      "outputs": [
        {
          "output_type": "execute_result",
          "data": {
            "text/plain": [
              "array([53.96825397, 53.96825397, 53.22580645, 53.22580645, 53.22580645])"
            ]
          },
          "metadata": {
            "tags": []
          },
          "execution_count": 271
        }
      ]
    },
    {
      "cell_type": "code",
      "metadata": {
        "id": "hU5rbZSr2HJm",
        "colab_type": "code",
        "colab": {
          "base_uri": "https://localhost:8080/",
          "height": 206
        },
        "outputId": "f8fa6d7a-2392-4dd8-f11d-79607602c4aa"
      },
      "source": [
        "acc_cross_validation['KNN']=results_knn\n",
        "acc_cross_validation"
      ],
      "execution_count": 272,
      "outputs": [
        {
          "output_type": "execute_result",
          "data": {
            "text/html": [
              "<div>\n",
              "<style scoped>\n",
              "    .dataframe tbody tr th:only-of-type {\n",
              "        vertical-align: middle;\n",
              "    }\n",
              "\n",
              "    .dataframe tbody tr th {\n",
              "        vertical-align: top;\n",
              "    }\n",
              "\n",
              "    .dataframe thead th {\n",
              "        text-align: right;\n",
              "    }\n",
              "</style>\n",
              "<table border=\"1\" class=\"dataframe\">\n",
              "  <thead>\n",
              "    <tr style=\"text-align: right;\">\n",
              "      <th></th>\n",
              "      <th>NaiveBayes</th>\n",
              "      <th>logistic regression</th>\n",
              "      <th>KNN</th>\n",
              "    </tr>\n",
              "  </thead>\n",
              "  <tbody>\n",
              "    <tr>\n",
              "      <th>0</th>\n",
              "      <td>95.238095</td>\n",
              "      <td>100.000000</td>\n",
              "      <td>53.968254</td>\n",
              "    </tr>\n",
              "    <tr>\n",
              "      <th>1</th>\n",
              "      <td>93.650794</td>\n",
              "      <td>98.412698</td>\n",
              "      <td>53.968254</td>\n",
              "    </tr>\n",
              "    <tr>\n",
              "      <th>2</th>\n",
              "      <td>82.258065</td>\n",
              "      <td>100.000000</td>\n",
              "      <td>53.225806</td>\n",
              "    </tr>\n",
              "    <tr>\n",
              "      <th>3</th>\n",
              "      <td>90.322581</td>\n",
              "      <td>96.774194</td>\n",
              "      <td>53.225806</td>\n",
              "    </tr>\n",
              "    <tr>\n",
              "      <th>4</th>\n",
              "      <td>83.870968</td>\n",
              "      <td>100.000000</td>\n",
              "      <td>53.225806</td>\n",
              "    </tr>\n",
              "  </tbody>\n",
              "</table>\n",
              "</div>"
            ],
            "text/plain": [
              "   NaiveBayes  logistic regression        KNN\n",
              "0   95.238095           100.000000  53.968254\n",
              "1   93.650794            98.412698  53.968254\n",
              "2   82.258065           100.000000  53.225806\n",
              "3   90.322581            96.774194  53.225806\n",
              "4   83.870968           100.000000  53.225806"
            ]
          },
          "metadata": {
            "tags": []
          },
          "execution_count": 272
        }
      ]
    },
    {
      "cell_type": "code",
      "metadata": {
        "colab_type": "code",
        "id": "S_LiZSJ95nf8",
        "colab": {
          "base_uri": "https://localhost:8080/",
          "height": 175
        },
        "outputId": "66df6aac-5a61-43fe-dc10-a445281d6068"
      },
      "source": [
        "df_result['KNN']=pd.Series({'Accuracy':accu_knn,'Cross_Validation':results_knn,'Confusion_Matrix':cm_knn,'Sensitivity':TPR_knn,'Specificity':TNR_knn,'Precision':percision_knn})\n",
        "df_result"
      ],
      "execution_count": 273,
      "outputs": [
        {
          "output_type": "execute_result",
          "data": {
            "text/html": [
              "<div>\n",
              "<style scoped>\n",
              "    .dataframe tbody tr th:only-of-type {\n",
              "        vertical-align: middle;\n",
              "    }\n",
              "\n",
              "    .dataframe tbody tr th {\n",
              "        vertical-align: top;\n",
              "    }\n",
              "\n",
              "    .dataframe thead th {\n",
              "        text-align: right;\n",
              "    }\n",
              "</style>\n",
              "<table border=\"1\" class=\"dataframe\">\n",
              "  <thead>\n",
              "    <tr style=\"text-align: right;\">\n",
              "      <th></th>\n",
              "      <th>NaiveBayes</th>\n",
              "      <th>logistic regression</th>\n",
              "      <th>KNN</th>\n",
              "      <th>Perceptron</th>\n",
              "      <th>SVM</th>\n",
              "      <th>Combination</th>\n",
              "    </tr>\n",
              "  </thead>\n",
              "  <tbody>\n",
              "    <tr>\n",
              "      <th>Accuracy</th>\n",
              "      <td>96.1538</td>\n",
              "      <td>96.1538</td>\n",
              "      <td>43.5897</td>\n",
              "      <td>NaN</td>\n",
              "      <td>NaN</td>\n",
              "      <td>NaN</td>\n",
              "    </tr>\n",
              "    <tr>\n",
              "      <th>Specificity</th>\n",
              "      <td>95.6522</td>\n",
              "      <td>97.7273</td>\n",
              "      <td>100</td>\n",
              "      <td>NaN</td>\n",
              "      <td>NaN</td>\n",
              "      <td>NaN</td>\n",
              "    </tr>\n",
              "    <tr>\n",
              "      <th>Precision</th>\n",
              "      <td>93.9394</td>\n",
              "      <td>96.9697</td>\n",
              "      <td>100</td>\n",
              "      <td>NaN</td>\n",
              "      <td>NaN</td>\n",
              "      <td>NaN</td>\n",
              "    </tr>\n",
              "    <tr>\n",
              "      <th>Sensitivity</th>\n",
              "      <td>96.875</td>\n",
              "      <td>94.1176</td>\n",
              "      <td>42.8571</td>\n",
              "      <td>NaN</td>\n",
              "      <td>NaN</td>\n",
              "      <td>NaN</td>\n",
              "    </tr>\n",
              "  </tbody>\n",
              "</table>\n",
              "</div>"
            ],
            "text/plain": [
              "            NaiveBayes logistic regression      KNN Perceptron  SVM Combination\n",
              "Accuracy       96.1538             96.1538  43.5897        NaN  NaN         NaN\n",
              "Specificity    95.6522             97.7273      100        NaN  NaN         NaN\n",
              "Precision      93.9394             96.9697      100        NaN  NaN         NaN\n",
              "Sensitivity     96.875             94.1176  42.8571        NaN  NaN         NaN"
            ]
          },
          "metadata": {
            "tags": []
          },
          "execution_count": 273
        }
      ]
    },
    {
      "cell_type": "code",
      "metadata": {
        "colab_type": "code",
        "id": "tQTgc_bsRNa0",
        "colab": {}
      },
      "source": [
        "# 4- Perceptron"
      ],
      "execution_count": null,
      "outputs": []
    },
    {
      "cell_type": "code",
      "metadata": {
        "colab_type": "code",
        "id": "R7zfY1s4_R4e",
        "colab": {
          "base_uri": "https://localhost:8080/",
          "height": 98
        },
        "outputId": "18045fde-4d09-42aa-e2fb-0624fa6280d9"
      },
      "source": [
        "from sklearn.linear_model import Perceptron\n",
        "perp=Perceptron(max_iter=100, eta0=0.01,shuffle=True)\n",
        "perp.fit(X_train, y_train)\n",
        "Test_y=pd.Series(perp.predict(X_test), name='y')"
      ],
      "execution_count": 274,
      "outputs": [
        {
          "output_type": "execute_result",
          "data": {
            "text/plain": [
              "Perceptron(alpha=0.0001, class_weight=None, early_stopping=False, eta0=0.01,\n",
              "           fit_intercept=True, max_iter=100, n_iter_no_change=5, n_jobs=None,\n",
              "           penalty=None, random_state=0, shuffle=True, tol=0.001,\n",
              "           validation_fraction=0.1, verbose=0, warm_start=False)"
            ]
          },
          "metadata": {
            "tags": []
          },
          "execution_count": 274
        }
      ]
    },
    {
      "cell_type": "code",
      "metadata": {
        "colab_type": "code",
        "id": "MSjJVaaoXwJa",
        "colab": {
          "base_uri": "https://localhost:8080/",
          "height": 57
        },
        "outputId": "46d172f4-9dd2-4cb9-a2f5-e2f20bbd13ab"
      },
      "source": [
        "# confusion matrix\n",
        "os.chdir(home_path)\n",
        "from sklearn.metrics import confusion_matrix\n",
        "cm_per=confusion_matrix(y_test,Test_y)\n",
        "cm_per"
      ],
      "execution_count": 275,
      "outputs": [
        {
          "output_type": "execute_result",
          "data": {
            "text/plain": [
              "array([[30,  3],\n",
              "       [ 1, 44]])"
            ]
          },
          "metadata": {
            "tags": []
          },
          "execution_count": 275
        }
      ]
    },
    {
      "cell_type": "code",
      "metadata": {
        "id": "LDGJw2TCKSba",
        "colab_type": "code",
        "colab": {
          "base_uri": "https://localhost:8080/",
          "height": 37
        },
        "outputId": "2fc5a591-5bc9-44f0-d3f5-a96ce8a95a73"
      },
      "source": [
        "#Sensitivity_(True positive rate TPR) \n",
        "TP_per= cm_per[0][0]\n",
        "FN_per= cm_per[1][0]\n",
        "TPR_per= TP_per/(TP_per+FN_per) * 100\n",
        "print(\"Sensitivity \"+str(TPR_per)+'%')"
      ],
      "execution_count": 276,
      "outputs": [
        {
          "output_type": "stream",
          "text": [
            "Sensitivity 96.7741935483871%\n"
          ],
          "name": "stdout"
        }
      ]
    },
    {
      "cell_type": "code",
      "metadata": {
        "id": "BKeCvymBKSob",
        "colab_type": "code",
        "colab": {
          "base_uri": "https://localhost:8080/",
          "height": 37
        },
        "outputId": "dd9df54b-f6c0-4556-8d1f-263c8bd73115"
      },
      "source": [
        "#Specificity(Total Negative Result TNR)\n",
        "TN_per= cm_per[1][1]\n",
        "FP_per= cm_per[0][1] \n",
        "TNR_per = TN_per/(TN_per+FP_per) * 100\n",
        "print(\"Specificity \"+str(TNR_per)+'%')"
      ],
      "execution_count": 277,
      "outputs": [
        {
          "output_type": "stream",
          "text": [
            "Specificity 93.61702127659575%\n"
          ],
          "name": "stdout"
        }
      ]
    },
    {
      "cell_type": "code",
      "metadata": {
        "id": "FCHg3w1ngvj5",
        "colab_type": "code",
        "colab": {
          "base_uri": "https://localhost:8080/",
          "height": 37
        },
        "outputId": "d34ea722-a523-4da9-c129-e4354b17ee4c"
      },
      "source": [
        "percision_per=(TP_per/(TP_per+FP_per))*100\n",
        "percision_per"
      ],
      "execution_count": 278,
      "outputs": [
        {
          "output_type": "execute_result",
          "data": {
            "text/plain": [
              "90.9090909090909"
            ]
          },
          "metadata": {
            "tags": []
          },
          "execution_count": 278
        }
      ]
    },
    {
      "cell_type": "code",
      "metadata": {
        "colab_type": "code",
        "id": "HY3q7HLOXwfX",
        "colab": {
          "base_uri": "https://localhost:8080/",
          "height": 301
        },
        "outputId": "28f58b4c-2401-46fe-c7f6-cc152fd0e1e7"
      },
      "source": [
        "os.chdir(home_path)\n",
        "cm_picture4=sn.heatmap(pd.DataFrame(cm_per),cmap=\"Blues\", annot=True)\n",
        "figure4 = cm_picture4.get_figure()   \n",
        "plt.title(\"Confusion Matrix Perceptron\")\n",
        "figure4.savefig('/content/drive/My Drive/project/CGR_data/Confusion_Perceptron_4kmers.jpg', dpi=400)"
      ],
      "execution_count": 279,
      "outputs": [
        {
          "output_type": "execute_result",
          "data": {
            "text/plain": [
              "Text(0.5, 1.0, 'Confusion Matrix Perceptron')"
            ]
          },
          "metadata": {
            "tags": []
          },
          "execution_count": 279
        },
        {
          "output_type": "display_data",
          "data": {
            "image/png": "[encoded data removed]",
            "text/plain": [
              "<Figure size 432x288 with 2 Axes>"
            ]
          },
          "metadata": {
            "tags": [],
            "needs_background": "light"
          }
        }
      ]
    },
    {
      "cell_type": "code",
      "metadata": {
        "colab_type": "code",
        "id": "qF5rDQ8dBiHc",
        "colab": {
          "base_uri": "https://localhost:8080/",
          "height": 57
        },
        "outputId": "ab5af7df-d423-487f-9dff-2f1105b7a0ab"
      },
      "source": [
        "#Calculate Accuracy and Print it\n",
        "accu_per=(sum([1 for i, j in zip(Test_y, y_test) if i == j])/len(y_test))*100\n",
        "print(\"Accuracy = \" ,accu_per, \"%\")\n",
        "acc_per2=((TP_per+TN_per)/(TP_per+FP_per+FN_per+TN_per))*100 # another way\n",
        "acc_per2"
      ],
      "execution_count": 280,
      "outputs": [
        {
          "output_type": "stream",
          "text": [
            "Accuracy =  94.87179487179486 %\n"
          ],
          "name": "stdout"
        },
        {
          "output_type": "execute_result",
          "data": {
            "text/plain": [
              "94.87179487179486"
            ]
          },
          "metadata": {
            "tags": []
          },
          "execution_count": 280
        }
      ]
    },
    {
      "cell_type": "code",
      "metadata": {
        "colab_type": "code",
        "id": "XR_e6qziHvFR",
        "colab": {
          "base_uri": "https://localhost:8080/",
          "height": 37
        },
        "outputId": "b7ebc36e-5a1e-4366-c21d-b8e047697e11"
      },
      "source": [
        "# calculating the cross validation for a set of predictions:\n",
        "results_per = model_selection.cross_val_score(perp, X_train, y_train,cv=None)*100\n",
        "results_per"
      ],
      "execution_count": 281,
      "outputs": [
        {
          "output_type": "execute_result",
          "data": {
            "text/plain": [
              "array([93.65079365, 95.23809524, 95.16129032, 95.16129032, 93.5483871 ])"
            ]
          },
          "metadata": {
            "tags": []
          },
          "execution_count": 281
        }
      ]
    },
    {
      "cell_type": "code",
      "metadata": {
        "id": "y5fjPIEN2TWJ",
        "colab_type": "code",
        "colab": {
          "base_uri": "https://localhost:8080/",
          "height": 206
        },
        "outputId": "1699dd8c-b0a8-48d2-8b5b-a114bd756019"
      },
      "source": [
        "acc_cross_validation['Perceptron']=results_per\n",
        "acc_cross_validation"
      ],
      "execution_count": 282,
      "outputs": [
        {
          "output_type": "execute_result",
          "data": {
            "text/html": [
              "<div>\n",
              "<style scoped>\n",
              "    .dataframe tbody tr th:only-of-type {\n",
              "        vertical-align: middle;\n",
              "    }\n",
              "\n",
              "    .dataframe tbody tr th {\n",
              "        vertical-align: top;\n",
              "    }\n",
              "\n",
              "    .dataframe thead th {\n",
              "        text-align: right;\n",
              "    }\n",
              "</style>\n",
              "<table border=\"1\" class=\"dataframe\">\n",
              "  <thead>\n",
              "    <tr style=\"text-align: right;\">\n",
              "      <th></th>\n",
              "      <th>NaiveBayes</th>\n",
              "      <th>logistic regression</th>\n",
              "      <th>KNN</th>\n",
              "      <th>Perceptron</th>\n",
              "    </tr>\n",
              "  </thead>\n",
              "  <tbody>\n",
              "    <tr>\n",
              "      <th>0</th>\n",
              "      <td>95.238095</td>\n",
              "      <td>100.000000</td>\n",
              "      <td>53.968254</td>\n",
              "      <td>93.650794</td>\n",
              "    </tr>\n",
              "    <tr>\n",
              "      <th>1</th>\n",
              "      <td>93.650794</td>\n",
              "      <td>98.412698</td>\n",
              "      <td>53.968254</td>\n",
              "      <td>95.238095</td>\n",
              "    </tr>\n",
              "    <tr>\n",
              "      <th>2</th>\n",
              "      <td>82.258065</td>\n",
              "      <td>100.000000</td>\n",
              "      <td>53.225806</td>\n",
              "      <td>95.161290</td>\n",
              "    </tr>\n",
              "    <tr>\n",
              "      <th>3</th>\n",
              "      <td>90.322581</td>\n",
              "      <td>96.774194</td>\n",
              "      <td>53.225806</td>\n",
              "      <td>95.161290</td>\n",
              "    </tr>\n",
              "    <tr>\n",
              "      <th>4</th>\n",
              "      <td>83.870968</td>\n",
              "      <td>100.000000</td>\n",
              "      <td>53.225806</td>\n",
              "      <td>93.548387</td>\n",
              "    </tr>\n",
              "  </tbody>\n",
              "</table>\n",
              "</div>"
            ],
            "text/plain": [
              "   NaiveBayes  logistic regression        KNN  Perceptron\n",
              "0   95.238095           100.000000  53.968254   93.650794\n",
              "1   93.650794            98.412698  53.968254   95.238095\n",
              "2   82.258065           100.000000  53.225806   95.161290\n",
              "3   90.322581            96.774194  53.225806   95.161290\n",
              "4   83.870968           100.000000  53.225806   93.548387"
            ]
          },
          "metadata": {
            "tags": []
          },
          "execution_count": 282
        }
      ]
    },
    {
      "cell_type": "code",
      "metadata": {
        "colab_type": "code",
        "id": "9tWp80la6P5U",
        "colab": {
          "base_uri": "https://localhost:8080/",
          "height": 175
        },
        "outputId": "4771dedf-be81-4c0c-a3d9-2f9f260e35ed"
      },
      "source": [
        "df_result['Perceptron']=pd.Series({'Accuracy':accu_per,'Cross_Validation':results_per,'Confusion_Matrix':cm_per,'Sensitivity':TPR_per,'Specificity':TNR_per,'Precision':percision_per})\n",
        "df_result"
      ],
      "execution_count": 283,
      "outputs": [
        {
          "output_type": "execute_result",
          "data": {
            "text/html": [
              "<div>\n",
              "<style scoped>\n",
              "    .dataframe tbody tr th:only-of-type {\n",
              "        vertical-align: middle;\n",
              "    }\n",
              "\n",
              "    .dataframe tbody tr th {\n",
              "        vertical-align: top;\n",
              "    }\n",
              "\n",
              "    .dataframe thead th {\n",
              "        text-align: right;\n",
              "    }\n",
              "</style>\n",
              "<table border=\"1\" class=\"dataframe\">\n",
              "  <thead>\n",
              "    <tr style=\"text-align: right;\">\n",
              "      <th></th>\n",
              "      <th>NaiveBayes</th>\n",
              "      <th>logistic regression</th>\n",
              "      <th>KNN</th>\n",
              "      <th>Perceptron</th>\n",
              "      <th>SVM</th>\n",
              "      <th>Combination</th>\n",
              "    </tr>\n",
              "  </thead>\n",
              "  <tbody>\n",
              "    <tr>\n",
              "      <th>Accuracy</th>\n",
              "      <td>96.1538</td>\n",
              "      <td>96.1538</td>\n",
              "      <td>43.5897</td>\n",
              "      <td>94.8718</td>\n",
              "      <td>NaN</td>\n",
              "      <td>NaN</td>\n",
              "    </tr>\n",
              "    <tr>\n",
              "      <th>Specificity</th>\n",
              "      <td>95.6522</td>\n",
              "      <td>97.7273</td>\n",
              "      <td>100</td>\n",
              "      <td>93.617</td>\n",
              "      <td>NaN</td>\n",
              "      <td>NaN</td>\n",
              "    </tr>\n",
              "    <tr>\n",
              "      <th>Precision</th>\n",
              "      <td>93.9394</td>\n",
              "      <td>96.9697</td>\n",
              "      <td>100</td>\n",
              "      <td>90.9091</td>\n",
              "      <td>NaN</td>\n",
              "      <td>NaN</td>\n",
              "    </tr>\n",
              "    <tr>\n",
              "      <th>Sensitivity</th>\n",
              "      <td>96.875</td>\n",
              "      <td>94.1176</td>\n",
              "      <td>42.8571</td>\n",
              "      <td>96.7742</td>\n",
              "      <td>NaN</td>\n",
              "      <td>NaN</td>\n",
              "    </tr>\n",
              "  </tbody>\n",
              "</table>\n",
              "</div>"
            ],
            "text/plain": [
              "            NaiveBayes logistic regression      KNN Perceptron  SVM Combination\n",
              "Accuracy       96.1538             96.1538  43.5897    94.8718  NaN         NaN\n",
              "Specificity    95.6522             97.7273      100     93.617  NaN         NaN\n",
              "Precision      93.9394             96.9697      100    90.9091  NaN         NaN\n",
              "Sensitivity     96.875             94.1176  42.8571    96.7742  NaN         NaN"
            ]
          },
          "metadata": {
            "tags": []
          },
          "execution_count": 283
        }
      ]
    },
    {
      "cell_type": "code",
      "metadata": {
        "id": "a1TC1Zu0ovrX",
        "colab_type": "code",
        "colab": {}
      },
      "source": [
        "# 5- Support Vector Machine(SVM)"
      ],
      "execution_count": null,
      "outputs": []
    },
    {
      "cell_type": "code",
      "metadata": {
        "id": "nvsHO3_qowBx",
        "colab_type": "code",
        "colab": {}
      },
      "source": [
        "# Create Linear SVM object\n",
        "from sklearn import svm\n",
        "support = svm.LinearSVC(random_state=20)"
      ],
      "execution_count": 284,
      "outputs": []
    },
    {
      "cell_type": "code",
      "metadata": {
        "id": "qdLL71lQowRx",
        "colab_type": "code",
        "colab": {
          "base_uri": "https://localhost:8080/",
          "height": 98
        },
        "outputId": "070e0233-d2d3-43db-d79b-2bea9842b2d5"
      },
      "source": [
        "# Train the model using the training sets and check score on test dataset\n",
        "from sklearn.metrics import accuracy_score\n",
        "support.fit(X_train, y_train)\n",
        "predicted= support.predict(X_test)"
      ],
      "execution_count": 285,
      "outputs": [
        {
          "output_type": "execute_result",
          "data": {
            "text/plain": [
              "LinearSVC(C=1.0, class_weight=None, dual=True, fit_intercept=True,\n",
              "          intercept_scaling=1, loss='squared_hinge', max_iter=1000,\n",
              "          multi_class='ovr', penalty='l2', random_state=20, tol=0.0001,\n",
              "          verbose=0)"
            ]
          },
          "metadata": {
            "tags": []
          },
          "execution_count": 285
        }
      ]
    },
    {
      "cell_type": "code",
      "metadata": {
        "id": "VxF2p0AXpAbg",
        "colab_type": "code",
        "colab": {
          "base_uri": "https://localhost:8080/",
          "height": 37
        },
        "outputId": "9987af2c-01c3-4657-e24c-fac24f656093"
      },
      "source": [
        "score_svm1=support.score(X_test, y_test) # method 1 to calculate accuracy of svm model\n",
        "score_svm2=accuracy_score(y_test,predicted)  # method 2 to calculate accuracy of svm model\n",
        "#Calculate Accuracy and Print it by method3\n",
        "accu_svm=(sum([1 for i, j in zip(predicted, y_test) if i == j])/len(y_test))*100\n",
        "print(\"Your Model Accuracy is\", score_svm1*100,score_svm2*100,accu_svm)"
      ],
      "execution_count": 286,
      "outputs": [
        {
          "output_type": "stream",
          "text": [
            "Your Model Accuracy is 96.15384615384616 96.15384615384616 96.15384615384616\n"
          ],
          "name": "stdout"
        }
      ]
    },
    {
      "cell_type": "code",
      "metadata": {
        "id": "621Bi85yx8zh",
        "colab_type": "code",
        "colab": {
          "base_uri": "https://localhost:8080/",
          "height": 57
        },
        "outputId": "20c1ebef-7204-4730-b08b-050cc8eef859"
      },
      "source": [
        "# confusion matrix\n",
        "os.chdir(home_path)\n",
        "from sklearn.metrics import confusion_matrix\n",
        "cm_svm=confusion_matrix(y_test,predicted)\n",
        "cm_svm"
      ],
      "execution_count": 287,
      "outputs": [
        {
          "output_type": "execute_result",
          "data": {
            "text/plain": [
              "array([[32,  1],\n",
              "       [ 2, 43]])"
            ]
          },
          "metadata": {
            "tags": []
          },
          "execution_count": 287
        }
      ]
    },
    {
      "cell_type": "code",
      "metadata": {
        "id": "erkf24QPyRig",
        "colab_type": "code",
        "colab": {
          "base_uri": "https://localhost:8080/",
          "height": 37
        },
        "outputId": "8e0c2c10-9328-4d66-a594-0981a34eaece"
      },
      "source": [
        "#Sensitivity_(True positive rate TPR) \n",
        "TP_svm= cm_svm[0][0]\n",
        "FN_svm= cm_svm[1][0]\n",
        "TPR_svm= TP_svm/(TP_svm+FN_svm) * 100\n",
        "print(\"Sensitivity \"+str(TPR_svm)+'%')"
      ],
      "execution_count": 288,
      "outputs": [
        {
          "output_type": "stream",
          "text": [
            "Sensitivity 94.11764705882352%\n"
          ],
          "name": "stdout"
        }
      ]
    },
    {
      "cell_type": "code",
      "metadata": {
        "id": "gQ-RIsJ8yRfD",
        "colab_type": "code",
        "colab": {
          "base_uri": "https://localhost:8080/",
          "height": 37
        },
        "outputId": "2aafaf50-e273-4797-8e27-37c93bb28d0a"
      },
      "source": [
        "#Specificity(Total Negative Result TNR)\n",
        "TN_svm= cm_svm[1][1]\n",
        "FP_svm= cm_svm[0][1] \n",
        "TNR_svm = TN_svm/(TN_svm+FP_svm) * 100\n",
        "print(\"Specificity \"+str(TNR_svm)+'%')"
      ],
      "execution_count": 289,
      "outputs": [
        {
          "output_type": "stream",
          "text": [
            "Specificity 97.72727272727273%\n"
          ],
          "name": "stdout"
        }
      ]
    },
    {
      "cell_type": "code",
      "metadata": {
        "id": "O93yuzuqegkh",
        "colab_type": "code",
        "colab": {
          "base_uri": "https://localhost:8080/",
          "height": 37
        },
        "outputId": "c9022ab6-0c7a-42b1-8f2f-89cf549fe960"
      },
      "source": [
        "float32_epsilon = np.finfo(np.float32).eps\n",
        "percision_svm_=(TP_svm/(TP_svm+FP_svm)+float32_epsilon)*100\n",
        "percision_svm_"
      ],
      "execution_count": 290,
      "outputs": [
        {
          "output_type": "execute_result",
          "data": {
            "text/plain": [
              "96.96970889062592"
            ]
          },
          "metadata": {
            "tags": []
          },
          "execution_count": 290
        }
      ]
    },
    {
      "cell_type": "code",
      "metadata": {
        "id": "Wa6WfvM8yRbn",
        "colab_type": "code",
        "colab": {
          "base_uri": "https://localhost:8080/",
          "height": 301
        },
        "outputId": "1cb34254-7a35-406c-e3ea-f48069d72cd1"
      },
      "source": [
        "os.chdir(home_path)\n",
        "cm_picture5=sn.heatmap(pd.DataFrame(cm_svm),cmap=\"Blues\", annot=True)\n",
        "figure5 = cm_picture5.get_figure()   \n",
        "plt.title(\"Confusion Matrix SVM\")\n",
        "figure5.savefig('/content/drive/My Drive/project/CGR_data/Confusion_SVM_4kmers.jpg', dpi=400)"
      ],
      "execution_count": 291,
      "outputs": [
        {
          "output_type": "execute_result",
          "data": {
            "text/plain": [
              "Text(0.5, 1.0, 'Confusion Matrix SVM')"
            ]
          },
          "metadata": {
            "tags": []
          },
          "execution_count": 291
        },
        {
          "output_type": "display_data",
          "data": {
            "image/png": "[encoded data removed]",
            "text/plain": [
              "<Figure size 432x288 with 2 Axes>"
            ]
          },
          "metadata": {
            "tags": [],
            "needs_background": "light"
          }
        }
      ]
    },
    {
      "cell_type": "code",
      "metadata": {
        "id": "2opSoiX1yie8",
        "colab_type": "code",
        "colab": {
          "base_uri": "https://localhost:8080/",
          "height": 57
        },
        "outputId": "5bebd37d-0f8c-4bde-ed05-def19c9f1c75"
      },
      "source": [
        "# calculating the mean R^2 for a set of predictions:\n",
        "results_svm = model_selection.cross_val_score(support,X_train, y_train,cv=None)*100\n",
        "results_svm"
      ],
      "execution_count": 292,
      "outputs": [
        {
          "output_type": "execute_result",
          "data": {
            "text/plain": [
              "array([ 96.82539683,  93.65079365, 100.        ,  95.16129032,\n",
              "        95.16129032])"
            ]
          },
          "metadata": {
            "tags": []
          },
          "execution_count": 292
        }
      ]
    },
    {
      "cell_type": "code",
      "metadata": {
        "id": "mlBvsSoU2759",
        "colab_type": "code",
        "colab": {
          "base_uri": "https://localhost:8080/",
          "height": 206
        },
        "outputId": "425350c9-b0ae-4b85-b329-18e0f2b55ec9"
      },
      "source": [
        "acc_cross_validation['SVM']=results_svm\n",
        "acc_cross_validation"
      ],
      "execution_count": 293,
      "outputs": [
        {
          "output_type": "execute_result",
          "data": {
            "text/html": [
              "<div>\n",
              "<style scoped>\n",
              "    .dataframe tbody tr th:only-of-type {\n",
              "        vertical-align: middle;\n",
              "    }\n",
              "\n",
              "    .dataframe tbody tr th {\n",
              "        vertical-align: top;\n",
              "    }\n",
              "\n",
              "    .dataframe thead th {\n",
              "        text-align: right;\n",
              "    }\n",
              "</style>\n",
              "<table border=\"1\" class=\"dataframe\">\n",
              "  <thead>\n",
              "    <tr style=\"text-align: right;\">\n",
              "      <th></th>\n",
              "      <th>NaiveBayes</th>\n",
              "      <th>logistic regression</th>\n",
              "      <th>KNN</th>\n",
              "      <th>Perceptron</th>\n",
              "      <th>SVM</th>\n",
              "    </tr>\n",
              "  </thead>\n",
              "  <tbody>\n",
              "    <tr>\n",
              "      <th>0</th>\n",
              "      <td>95.238095</td>\n",
              "      <td>100.000000</td>\n",
              "      <td>53.968254</td>\n",
              "      <td>93.650794</td>\n",
              "      <td>96.825397</td>\n",
              "    </tr>\n",
              "    <tr>\n",
              "      <th>1</th>\n",
              "      <td>93.650794</td>\n",
              "      <td>98.412698</td>\n",
              "      <td>53.968254</td>\n",
              "      <td>95.238095</td>\n",
              "      <td>93.650794</td>\n",
              "    </tr>\n",
              "    <tr>\n",
              "      <th>2</th>\n",
              "      <td>82.258065</td>\n",
              "      <td>100.000000</td>\n",
              "      <td>53.225806</td>\n",
              "      <td>95.161290</td>\n",
              "      <td>100.000000</td>\n",
              "    </tr>\n",
              "    <tr>\n",
              "      <th>3</th>\n",
              "      <td>90.322581</td>\n",
              "      <td>96.774194</td>\n",
              "      <td>53.225806</td>\n",
              "      <td>95.161290</td>\n",
              "      <td>95.161290</td>\n",
              "    </tr>\n",
              "    <tr>\n",
              "      <th>4</th>\n",
              "      <td>83.870968</td>\n",
              "      <td>100.000000</td>\n",
              "      <td>53.225806</td>\n",
              "      <td>93.548387</td>\n",
              "      <td>95.161290</td>\n",
              "    </tr>\n",
              "  </tbody>\n",
              "</table>\n",
              "</div>"
            ],
            "text/plain": [
              "   NaiveBayes  logistic regression        KNN  Perceptron         SVM\n",
              "0   95.238095           100.000000  53.968254   93.650794   96.825397\n",
              "1   93.650794            98.412698  53.968254   95.238095   93.650794\n",
              "2   82.258065           100.000000  53.225806   95.161290  100.000000\n",
              "3   90.322581            96.774194  53.225806   95.161290   95.161290\n",
              "4   83.870968           100.000000  53.225806   93.548387   95.161290"
            ]
          },
          "metadata": {
            "tags": []
          },
          "execution_count": 293
        }
      ]
    },
    {
      "cell_type": "code",
      "metadata": {
        "id": "SnzrKsbXzD-S",
        "colab_type": "code",
        "colab": {
          "base_uri": "https://localhost:8080/",
          "height": 175
        },
        "outputId": "90145281-0158-47a2-ccd2-a27874132e70"
      },
      "source": [
        "df_result['SVM']=pd.Series({'Accuracy':accu_svm,'Cross_Validation':results_svm,'Confusion_Matrix':cm_svm,'Sensitivity':TPR_svm,'Specificity':TNR_svm,'Precision':percision_svm_})\n",
        "df_result"
      ],
      "execution_count": 294,
      "outputs": [
        {
          "output_type": "execute_result",
          "data": {
            "text/html": [
              "<div>\n",
              "<style scoped>\n",
              "    .dataframe tbody tr th:only-of-type {\n",
              "        vertical-align: middle;\n",
              "    }\n",
              "\n",
              "    .dataframe tbody tr th {\n",
              "        vertical-align: top;\n",
              "    }\n",
              "\n",
              "    .dataframe thead th {\n",
              "        text-align: right;\n",
              "    }\n",
              "</style>\n",
              "<table border=\"1\" class=\"dataframe\">\n",
              "  <thead>\n",
              "    <tr style=\"text-align: right;\">\n",
              "      <th></th>\n",
              "      <th>NaiveBayes</th>\n",
              "      <th>logistic regression</th>\n",
              "      <th>KNN</th>\n",
              "      <th>Perceptron</th>\n",
              "      <th>SVM</th>\n",
              "      <th>Combination</th>\n",
              "    </tr>\n",
              "  </thead>\n",
              "  <tbody>\n",
              "    <tr>\n",
              "      <th>Accuracy</th>\n",
              "      <td>96.1538</td>\n",
              "      <td>96.1538</td>\n",
              "      <td>43.5897</td>\n",
              "      <td>94.8718</td>\n",
              "      <td>96.1538</td>\n",
              "      <td>NaN</td>\n",
              "    </tr>\n",
              "    <tr>\n",
              "      <th>Specificity</th>\n",
              "      <td>95.6522</td>\n",
              "      <td>97.7273</td>\n",
              "      <td>100</td>\n",
              "      <td>93.617</td>\n",
              "      <td>97.7273</td>\n",
              "      <td>NaN</td>\n",
              "    </tr>\n",
              "    <tr>\n",
              "      <th>Precision</th>\n",
              "      <td>93.9394</td>\n",
              "      <td>96.9697</td>\n",
              "      <td>100</td>\n",
              "      <td>90.9091</td>\n",
              "      <td>96.9697</td>\n",
              "      <td>NaN</td>\n",
              "    </tr>\n",
              "    <tr>\n",
              "      <th>Sensitivity</th>\n",
              "      <td>96.875</td>\n",
              "      <td>94.1176</td>\n",
              "      <td>42.8571</td>\n",
              "      <td>96.7742</td>\n",
              "      <td>94.1176</td>\n",
              "      <td>NaN</td>\n",
              "    </tr>\n",
              "  </tbody>\n",
              "</table>\n",
              "</div>"
            ],
            "text/plain": [
              "            NaiveBayes logistic regression  ...      SVM Combination\n",
              "Accuracy       96.1538             96.1538  ...  96.1538         NaN\n",
              "Specificity    95.6522             97.7273  ...  97.7273         NaN\n",
              "Precision      93.9394             96.9697  ...  96.9697         NaN\n",
              "Sensitivity     96.875             94.1176  ...  94.1176         NaN\n",
              "\n",
              "[4 rows x 6 columns]"
            ]
          },
          "metadata": {
            "tags": []
          },
          "execution_count": 294
        }
      ]
    },
    {
      "cell_type": "markdown",
      "metadata": {
        "colab_type": "text",
        "id": "Et-fcch72wZX"
      },
      "source": [
        "# Model Selection"
      ]
    },
    {
      "cell_type": "markdown",
      "metadata": {
        "colab_type": "text",
        "id": "dRqa1LH_7jHf"
      },
      "source": [
        "In This study we try to select best model for coding/noncoding DNA detection by two methods:\n",
        "1. from built in outsource function from (https://scipy-lectures.org/packages/scikit-learn/index.html)\n",
        "2. aggergate above result from each model in new data frame called **df_result**"
      ]
    },
    {
      "cell_type": "code",
      "metadata": {
        "colab_type": "code",
        "id": "Ky_aecXZ7iOx",
        "colab": {}
      },
      "source": [
        "# 1. outsourcing code"
      ],
      "execution_count": null,
      "outputs": []
    },
    {
      "cell_type": "code",
      "metadata": {
        "colab_type": "code",
        "id": "HsEG_dpF2vEd",
        "colab": {
          "base_uri": "https://localhost:8080/",
          "height": 118
        },
        "outputId": "96f3807c-c248-449a-e842-b212d07095db"
      },
      "source": [
        "from sklearn import model_selection\n",
        "from sklearn import metrics\n",
        "for Model in [GaussianNB, LogisticRegression,KNeighborsClassifier,Perceptron,svm.LinearSVC]:\n",
        "    clfsa = Model().fit(X_train, y_train)\n",
        "    y_pred_model = clfsa.predict(X_test)\n",
        "    print('%s: %s' % \n",
        "          (Model.__name__, metrics.f1_score(y_pred_model, y_test, average=\"macro\"))) "
      ],
      "execution_count": 295,
      "outputs": [
        {
          "output_type": "stream",
          "text": [
            "GaussianNB: 0.9604395604395605\n",
            "LogisticRegression: 0.9607580077142379\n",
            "KNeighborsClassifier: 0.8205128205128205\n",
            "Perceptron: 0.9470108695652173\n",
            "LinearSVC: 0.9607580077142379\n"
          ],
          "name": "stdout"
        }
      ]
    },
    {
      "cell_type": "code",
      "metadata": {
        "colab_type": "code",
        "id": "SLGIwNwK5Kjj",
        "colab": {}
      },
      "source": [
        "# 2. Create df_result to collect result on it:"
      ],
      "execution_count": null,
      "outputs": []
    },
    {
      "cell_type": "code",
      "metadata": {
        "colab_type": "code",
        "id": "WCY1pWBU9Dn8",
        "colab": {
          "base_uri": "https://localhost:8080/",
          "height": 175
        },
        "outputId": "9cc3d491-2b48-4890-e4bf-23fcf5da4036"
      },
      "source": [
        "df_result"
      ],
      "execution_count": 296,
      "outputs": [
        {
          "output_type": "execute_result",
          "data": {
            "text/html": [
              "<div>\n",
              "<style scoped>\n",
              "    .dataframe tbody tr th:only-of-type {\n",
              "        vertical-align: middle;\n",
              "    }\n",
              "\n",
              "    .dataframe tbody tr th {\n",
              "        vertical-align: top;\n",
              "    }\n",
              "\n",
              "    .dataframe thead th {\n",
              "        text-align: right;\n",
              "    }\n",
              "</style>\n",
              "<table border=\"1\" class=\"dataframe\">\n",
              "  <thead>\n",
              "    <tr style=\"text-align: right;\">\n",
              "      <th></th>\n",
              "      <th>NaiveBayes</th>\n",
              "      <th>logistic regression</th>\n",
              "      <th>KNN</th>\n",
              "      <th>Perceptron</th>\n",
              "      <th>SVM</th>\n",
              "      <th>Combination</th>\n",
              "    </tr>\n",
              "  </thead>\n",
              "  <tbody>\n",
              "    <tr>\n",
              "      <th>Accuracy</th>\n",
              "      <td>96.1538</td>\n",
              "      <td>96.1538</td>\n",
              "      <td>43.5897</td>\n",
              "      <td>94.8718</td>\n",
              "      <td>96.1538</td>\n",
              "      <td>NaN</td>\n",
              "    </tr>\n",
              "    <tr>\n",
              "      <th>Specificity</th>\n",
              "      <td>95.6522</td>\n",
              "      <td>97.7273</td>\n",
              "      <td>100</td>\n",
              "      <td>93.617</td>\n",
              "      <td>97.7273</td>\n",
              "      <td>NaN</td>\n",
              "    </tr>\n",
              "    <tr>\n",
              "      <th>Precision</th>\n",
              "      <td>93.9394</td>\n",
              "      <td>96.9697</td>\n",
              "      <td>100</td>\n",
              "      <td>90.9091</td>\n",
              "      <td>96.9697</td>\n",
              "      <td>NaN</td>\n",
              "    </tr>\n",
              "    <tr>\n",
              "      <th>Sensitivity</th>\n",
              "      <td>96.875</td>\n",
              "      <td>94.1176</td>\n",
              "      <td>42.8571</td>\n",
              "      <td>96.7742</td>\n",
              "      <td>94.1176</td>\n",
              "      <td>NaN</td>\n",
              "    </tr>\n",
              "  </tbody>\n",
              "</table>\n",
              "</div>"
            ],
            "text/plain": [
              "            NaiveBayes logistic regression  ...      SVM Combination\n",
              "Accuracy       96.1538             96.1538  ...  96.1538         NaN\n",
              "Specificity    95.6522             97.7273  ...  97.7273         NaN\n",
              "Precision      93.9394             96.9697  ...  96.9697         NaN\n",
              "Sensitivity     96.875             94.1176  ...  94.1176         NaN\n",
              "\n",
              "[4 rows x 6 columns]"
            ]
          },
          "metadata": {
            "tags": []
          },
          "execution_count": 296
        }
      ]
    },
    {
      "cell_type": "markdown",
      "metadata": {
        "id": "izPFG5od9Tk7",
        "colab_type": "text"
      },
      "source": [
        "## Merging the three best together(SVM,Logistic regression and Perceptron):"
      ]
    },
    {
      "cell_type": "code",
      "metadata": {
        "id": "MCcLjAwu9Sxu",
        "colab_type": "code",
        "colab": {}
      },
      "source": [
        "from sklearn.ensemble import VotingClassifier\n",
        "combo = VotingClassifier([('lsvc', svm.LinearSVC()),\n",
        "                            ('lr', linear_model.LogisticRegression()),\n",
        "                            ('per', Perceptron())])"
      ],
      "execution_count": 297,
      "outputs": []
    },
    {
      "cell_type": "code",
      "metadata": {
        "id": "ZztljCjv_wJO",
        "colab_type": "code",
        "colab": {
          "base_uri": "https://localhost:8080/",
          "height": 521
        },
        "outputId": "fb3a395a-5c2b-492b-eee2-08c610475701"
      },
      "source": [
        "combo.fit(X_train, y_train)\n",
        "y_pre_combo= combo.predict(X_test)"
      ],
      "execution_count": 298,
      "outputs": [
        {
          "output_type": "execute_result",
          "data": {
            "text/plain": [
              "VotingClassifier(estimators=[('lsvc',\n",
              "                              LinearSVC(C=1.0, class_weight=None, dual=True,\n",
              "                                        fit_intercept=True, intercept_scaling=1,\n",
              "                                        loss='squared_hinge', max_iter=1000,\n",
              "                                        multi_class='ovr', penalty='l2',\n",
              "                                        random_state=None, tol=0.0001,\n",
              "                                        verbose=0)),\n",
              "                             ('lr',\n",
              "                              LogisticRegression(C=1.0, class_weight=None,\n",
              "                                                 dual=False, fit_intercept=True,\n",
              "                                                 intercept_scaling=1,\n",
              "                                                 l1_ratio=None, max_iter=1...\n",
              "                                                 solver='lbfgs', tol=0.0001,\n",
              "                                                 verbose=0, warm_start=False)),\n",
              "                             ('per',\n",
              "                              Perceptron(alpha=0.0001, class_weight=None,\n",
              "                                         early_stopping=False, eta0=1.0,\n",
              "                                         fit_intercept=True, max_iter=1000,\n",
              "                                         n_iter_no_change=5, n_jobs=None,\n",
              "                                         penalty=None, random_state=0,\n",
              "                                         shuffle=True, tol=0.001,\n",
              "                                         validation_fraction=0.1, verbose=0,\n",
              "                                         warm_start=False))],\n",
              "                 flatten_transform=True, n_jobs=None, voting='hard',\n",
              "                 weights=None)"
            ]
          },
          "metadata": {
            "tags": []
          },
          "execution_count": 298
        }
      ]
    },
    {
      "cell_type": "code",
      "metadata": {
        "id": "RRUXWs1_A4az",
        "colab_type": "code",
        "colab": {
          "base_uri": "https://localhost:8080/",
          "height": 37
        },
        "outputId": "95c2906b-2251-4eef-abfe-b597aec6ec5a"
      },
      "source": [
        "#Calculate Accuracy and Print it by method3\n",
        "accu_combo=(sum([1 for i, j in zip(y_pre_combo, y_test) if i == j])/len(y_test))*100\n",
        "print(\"Your Model Accuracy is\", accu_combo)"
      ],
      "execution_count": 299,
      "outputs": [
        {
          "output_type": "stream",
          "text": [
            "Your Model Accuracy is 97.43589743589743\n"
          ],
          "name": "stdout"
        }
      ]
    },
    {
      "cell_type": "code",
      "metadata": {
        "id": "wl2qoHV9A5Es",
        "colab_type": "code",
        "colab": {
          "base_uri": "https://localhost:8080/",
          "height": 57
        },
        "outputId": "8d6988c7-913a-415d-8be9-303cb2668175"
      },
      "source": [
        "# confusion matrix\n",
        "os.chdir(home_path)\n",
        "from sklearn.metrics import confusion_matrix\n",
        "cm_combo=confusion_matrix(y_test,y_pre_combo)\n",
        "cm_combo"
      ],
      "execution_count": 300,
      "outputs": [
        {
          "output_type": "execute_result",
          "data": {
            "text/plain": [
              "array([[32,  1],\n",
              "       [ 1, 44]])"
            ]
          },
          "metadata": {
            "tags": []
          },
          "execution_count": 300
        }
      ]
    },
    {
      "cell_type": "code",
      "metadata": {
        "id": "eTa-s76wA5Ap",
        "colab_type": "code",
        "colab": {
          "base_uri": "https://localhost:8080/",
          "height": 37
        },
        "outputId": "76e77956-a189-4b79-f1ef-17a127184f0e"
      },
      "source": [
        "#Sensitivity_(True positive rate TPR) \n",
        "TP_combo= cm_combo[0][0]\n",
        "FN_combo= cm_combo[1][0]\n",
        "TPR_combo= TP_combo/(TP_combo+FN_combo) * 100\n",
        "print(\"Sensitivity \"+str(TPR_combo)+'%')"
      ],
      "execution_count": 301,
      "outputs": [
        {
          "output_type": "stream",
          "text": [
            "Sensitivity 96.96969696969697%\n"
          ],
          "name": "stdout"
        }
      ]
    },
    {
      "cell_type": "code",
      "metadata": {
        "id": "Pe3KSPr8BNR1",
        "colab_type": "code",
        "colab": {
          "base_uri": "https://localhost:8080/",
          "height": 37
        },
        "outputId": "90236978-4e88-4cf4-f2e6-8a0cf6f14bfe"
      },
      "source": [
        "#Specificity(Total Negative Result TNR)\n",
        "TN_combo= cm_combo[1][1]\n",
        "FP_combo= cm_combo[0][1] \n",
        "TNR_combo = TN_combo/(TN_combo+FP_combo) * 100\n",
        "print(\"Specificity \"+str(TNR_combo)+'%')"
      ],
      "execution_count": 302,
      "outputs": [
        {
          "output_type": "stream",
          "text": [
            "Specificity 97.77777777777777%\n"
          ],
          "name": "stdout"
        }
      ]
    },
    {
      "cell_type": "code",
      "metadata": {
        "id": "kBD5fg00A48o",
        "colab_type": "code",
        "colab": {
          "base_uri": "https://localhost:8080/",
          "height": 37
        },
        "outputId": "8c363dcd-ec4a-4971-be46-a1929bc3d388"
      },
      "source": [
        "percision_combo=(TP_combo/(TP_combo+FP_svm))*100\n",
        "percision_combo"
      ],
      "execution_count": 303,
      "outputs": [
        {
          "output_type": "execute_result",
          "data": {
            "text/plain": [
              "96.96969696969697"
            ]
          },
          "metadata": {
            "tags": []
          },
          "execution_count": 303
        }
      ]
    },
    {
      "cell_type": "code",
      "metadata": {
        "id": "Uzx8qWqQBaM5",
        "colab_type": "code",
        "colab": {
          "base_uri": "https://localhost:8080/",
          "height": 301
        },
        "outputId": "86c70d33-0b9f-44e1-cf63-538438a5ac2d"
      },
      "source": [
        "os.chdir(home_path)\n",
        "cm_picture6=sn.heatmap(pd.DataFrame(cm_combo),cmap=\"Blues\", annot=True)\n",
        "figure6 = cm_picture6.get_figure()   \n",
        "plt.title(\"Confusion Matrix COMBO (SVM+Logistic+Perceptron)\")\n",
        "figure6.savefig('/content/drive/My Drive/project/CGR_data/Confusion_combo.jpg', dpi=400)"
      ],
      "execution_count": 304,
      "outputs": [
        {
          "output_type": "execute_result",
          "data": {
            "text/plain": [
              "Text(0.5, 1.0, 'Confusion Matrix COMBO (SVM+Logistic+Perceptron)')"
            ]
          },
          "metadata": {
            "tags": []
          },
          "execution_count": 304
        },
        {
          "output_type": "display_data",
          "data": {
            "image/png": "[encoded data removed]",
            "text/plain": [
              "<Figure size 432x288 with 2 Axes>"
            ]
          },
          "metadata": {
            "tags": [],
            "needs_background": "light"
          }
        }
      ]
    },
    {
      "cell_type": "code",
      "metadata": {
        "id": "CPJtBAnbBlRB",
        "colab_type": "code",
        "colab": {
          "base_uri": "https://localhost:8080/",
          "height": 118
        },
        "outputId": "51374ee6-9e37-49b2-ec52-b51d1c996433"
      },
      "source": [
        "# calculating the mean R^2 for a set of predictions:\n",
        "results_combo = model_selection.cross_val_score(combo, X_train, y_train,cv=None)*100\n",
        "results_combo"
      ],
      "execution_count": 305,
      "outputs": [
        {
          "output_type": "stream",
          "text": [
            "/usr/local/lib/python3.6/dist-packages/sklearn/svm/_base.py:947: ConvergenceWarning: Liblinear failed to converge, increase the number of iterations.\n",
            "  \"the number of iterations.\", ConvergenceWarning)\n"
          ],
          "name": "stderr"
        },
        {
          "output_type": "execute_result",
          "data": {
            "text/plain": [
              "array([100.        ,  96.82539683, 100.        ,  95.16129032,\n",
              "        96.77419355])"
            ]
          },
          "metadata": {
            "tags": []
          },
          "execution_count": 305
        }
      ]
    },
    {
      "cell_type": "code",
      "metadata": {
        "id": "2offpAx23OJm",
        "colab_type": "code",
        "colab": {
          "base_uri": "https://localhost:8080/",
          "height": 206
        },
        "outputId": "e8e86f8b-1f21-475c-98e7-115cdb5cb10e"
      },
      "source": [
        "acc_cross_validation['Combination']=results_svm\n",
        "acc_cross_validation"
      ],
      "execution_count": 306,
      "outputs": [
        {
          "output_type": "execute_result",
          "data": {
            "text/html": [
              "<div>\n",
              "<style scoped>\n",
              "    .dataframe tbody tr th:only-of-type {\n",
              "        vertical-align: middle;\n",
              "    }\n",
              "\n",
              "    .dataframe tbody tr th {\n",
              "        vertical-align: top;\n",
              "    }\n",
              "\n",
              "    .dataframe thead th {\n",
              "        text-align: right;\n",
              "    }\n",
              "</style>\n",
              "<table border=\"1\" class=\"dataframe\">\n",
              "  <thead>\n",
              "    <tr style=\"text-align: right;\">\n",
              "      <th></th>\n",
              "      <th>NaiveBayes</th>\n",
              "      <th>logistic regression</th>\n",
              "      <th>KNN</th>\n",
              "      <th>Perceptron</th>\n",
              "      <th>SVM</th>\n",
              "      <th>Combination</th>\n",
              "    </tr>\n",
              "  </thead>\n",
              "  <tbody>\n",
              "    <tr>\n",
              "      <th>0</th>\n",
              "      <td>95.238095</td>\n",
              "      <td>100.000000</td>\n",
              "      <td>53.968254</td>\n",
              "      <td>93.650794</td>\n",
              "      <td>96.825397</td>\n",
              "      <td>96.825397</td>\n",
              "    </tr>\n",
              "    <tr>\n",
              "      <th>1</th>\n",
              "      <td>93.650794</td>\n",
              "      <td>98.412698</td>\n",
              "      <td>53.968254</td>\n",
              "      <td>95.238095</td>\n",
              "      <td>93.650794</td>\n",
              "      <td>93.650794</td>\n",
              "    </tr>\n",
              "    <tr>\n",
              "      <th>2</th>\n",
              "      <td>82.258065</td>\n",
              "      <td>100.000000</td>\n",
              "      <td>53.225806</td>\n",
              "      <td>95.161290</td>\n",
              "      <td>100.000000</td>\n",
              "      <td>100.000000</td>\n",
              "    </tr>\n",
              "    <tr>\n",
              "      <th>3</th>\n",
              "      <td>90.322581</td>\n",
              "      <td>96.774194</td>\n",
              "      <td>53.225806</td>\n",
              "      <td>95.161290</td>\n",
              "      <td>95.161290</td>\n",
              "      <td>95.161290</td>\n",
              "    </tr>\n",
              "    <tr>\n",
              "      <th>4</th>\n",
              "      <td>83.870968</td>\n",
              "      <td>100.000000</td>\n",
              "      <td>53.225806</td>\n",
              "      <td>93.548387</td>\n",
              "      <td>95.161290</td>\n",
              "      <td>95.161290</td>\n",
              "    </tr>\n",
              "  </tbody>\n",
              "</table>\n",
              "</div>"
            ],
            "text/plain": [
              "   NaiveBayes  logistic regression  ...         SVM  Combination\n",
              "0   95.238095           100.000000  ...   96.825397    96.825397\n",
              "1   93.650794            98.412698  ...   93.650794    93.650794\n",
              "2   82.258065           100.000000  ...  100.000000   100.000000\n",
              "3   90.322581            96.774194  ...   95.161290    95.161290\n",
              "4   83.870968           100.000000  ...   95.161290    95.161290\n",
              "\n",
              "[5 rows x 6 columns]"
            ]
          },
          "metadata": {
            "tags": []
          },
          "execution_count": 306
        }
      ]
    },
    {
      "cell_type": "code",
      "metadata": {
        "id": "gWuotYkLDKXP",
        "colab_type": "code",
        "colab": {
          "base_uri": "https://localhost:8080/",
          "height": 175
        },
        "outputId": "34f1c3f4-c244-4f7c-a56a-40b8bbade58d"
      },
      "source": [
        "df_result['Combination']=pd.Series({'Accuracy':accu_combo,'Cross_Validation':results_combo,'Confusion_Matrix':cm_combo,'Sensitivity':TPR_combo,'Specificity':TNR_combo,'Precision':percision_combo})\n",
        "df_result"
      ],
      "execution_count": 307,
      "outputs": [
        {
          "output_type": "execute_result",
          "data": {
            "text/html": [
              "<div>\n",
              "<style scoped>\n",
              "    .dataframe tbody tr th:only-of-type {\n",
              "        vertical-align: middle;\n",
              "    }\n",
              "\n",
              "    .dataframe tbody tr th {\n",
              "        vertical-align: top;\n",
              "    }\n",
              "\n",
              "    .dataframe thead th {\n",
              "        text-align: right;\n",
              "    }\n",
              "</style>\n",
              "<table border=\"1\" class=\"dataframe\">\n",
              "  <thead>\n",
              "    <tr style=\"text-align: right;\">\n",
              "      <th></th>\n",
              "      <th>NaiveBayes</th>\n",
              "      <th>logistic regression</th>\n",
              "      <th>KNN</th>\n",
              "      <th>Perceptron</th>\n",
              "      <th>SVM</th>\n",
              "      <th>Combination</th>\n",
              "    </tr>\n",
              "  </thead>\n",
              "  <tbody>\n",
              "    <tr>\n",
              "      <th>Accuracy</th>\n",
              "      <td>96.1538</td>\n",
              "      <td>96.1538</td>\n",
              "      <td>43.5897</td>\n",
              "      <td>94.8718</td>\n",
              "      <td>96.1538</td>\n",
              "      <td>97.4359</td>\n",
              "    </tr>\n",
              "    <tr>\n",
              "      <th>Specificity</th>\n",
              "      <td>95.6522</td>\n",
              "      <td>97.7273</td>\n",
              "      <td>100</td>\n",
              "      <td>93.617</td>\n",
              "      <td>97.7273</td>\n",
              "      <td>97.7778</td>\n",
              "    </tr>\n",
              "    <tr>\n",
              "      <th>Precision</th>\n",
              "      <td>93.9394</td>\n",
              "      <td>96.9697</td>\n",
              "      <td>100</td>\n",
              "      <td>90.9091</td>\n",
              "      <td>96.9697</td>\n",
              "      <td>96.9697</td>\n",
              "    </tr>\n",
              "    <tr>\n",
              "      <th>Sensitivity</th>\n",
              "      <td>96.875</td>\n",
              "      <td>94.1176</td>\n",
              "      <td>42.8571</td>\n",
              "      <td>96.7742</td>\n",
              "      <td>94.1176</td>\n",
              "      <td>96.9697</td>\n",
              "    </tr>\n",
              "  </tbody>\n",
              "</table>\n",
              "</div>"
            ],
            "text/plain": [
              "            NaiveBayes logistic regression  ...      SVM Combination\n",
              "Accuracy       96.1538             96.1538  ...  96.1538     97.4359\n",
              "Specificity    95.6522             97.7273  ...  97.7273     97.7778\n",
              "Precision      93.9394             96.9697  ...  96.9697     96.9697\n",
              "Sensitivity     96.875             94.1176  ...  94.1176     96.9697\n",
              "\n",
              "[4 rows x 6 columns]"
            ]
          },
          "metadata": {
            "tags": []
          },
          "execution_count": 307
        }
      ]
    },
    {
      "cell_type": "code",
      "metadata": {
        "id": "0x-y3qm9A83n",
        "colab_type": "code",
        "colab": {
          "base_uri": "https://localhost:8080/",
          "height": 490
        },
        "outputId": "0e6148c4-3164-485b-f3f6-68416d0e58f7"
      },
      "source": [
        "# bar plot of cross validation for each Models\n",
        "index=['first fold', 'second fold', 'third fold', 'fourth fold', 'fifth fold']\n",
        "df_cross=acc_cross_validation.copy()\n",
        "df_cross.index=index\n",
        "df_cross\n",
        "#df_cross = pd.DataFrame({'NaiveBayes': Cross_Validation_nav,'logistic':Cross_Validation_log,'KNN': Cross_Validation_knn,'Perceptron':Cross_Validation_per,'SVM': Cross_Validation_svm,'Combination':Cross_Validation_combo}, index=index)\n",
        "axx = df_cross.plot.bar(rot=0)\n",
        "figure7 = axx.get_figure()   \n",
        "plt.title(\"Cross Validatio summary\")\n",
        "figure7.savefig('/content/drive/My Drive/project/CGR_data/Cross_Validatio_summary.jpg', dpi=400)"
      ],
      "execution_count": 308,
      "outputs": [
        {
          "output_type": "execute_result",
          "data": {
            "text/html": [
              "<div>\n",
              "<style scoped>\n",
              "    .dataframe tbody tr th:only-of-type {\n",
              "        vertical-align: middle;\n",
              "    }\n",
              "\n",
              "    .dataframe tbody tr th {\n",
              "        vertical-align: top;\n",
              "    }\n",
              "\n",
              "    .dataframe thead th {\n",
              "        text-align: right;\n",
              "    }\n",
              "</style>\n",
              "<table border=\"1\" class=\"dataframe\">\n",
              "  <thead>\n",
              "    <tr style=\"text-align: right;\">\n",
              "      <th></th>\n",
              "      <th>NaiveBayes</th>\n",
              "      <th>logistic regression</th>\n",
              "      <th>KNN</th>\n",
              "      <th>Perceptron</th>\n",
              "      <th>SVM</th>\n",
              "      <th>Combination</th>\n",
              "    </tr>\n",
              "  </thead>\n",
              "  <tbody>\n",
              "    <tr>\n",
              "      <th>first fold</th>\n",
              "      <td>95.238095</td>\n",
              "      <td>100.000000</td>\n",
              "      <td>53.968254</td>\n",
              "      <td>93.650794</td>\n",
              "      <td>96.825397</td>\n",
              "      <td>96.825397</td>\n",
              "    </tr>\n",
              "    <tr>\n",
              "      <th>second fold</th>\n",
              "      <td>93.650794</td>\n",
              "      <td>98.412698</td>\n",
              "      <td>53.968254</td>\n",
              "      <td>95.238095</td>\n",
              "      <td>93.650794</td>\n",
              "      <td>93.650794</td>\n",
              "    </tr>\n",
              "    <tr>\n",
              "      <th>third fold</th>\n",
              "      <td>82.258065</td>\n",
              "      <td>100.000000</td>\n",
              "      <td>53.225806</td>\n",
              "      <td>95.161290</td>\n",
              "      <td>100.000000</td>\n",
              "      <td>100.000000</td>\n",
              "    </tr>\n",
              "    <tr>\n",
              "      <th>fourth fold</th>\n",
              "      <td>90.322581</td>\n",
              "      <td>96.774194</td>\n",
              "      <td>53.225806</td>\n",
              "      <td>95.161290</td>\n",
              "      <td>95.161290</td>\n",
              "      <td>95.161290</td>\n",
              "    </tr>\n",
              "    <tr>\n",
              "      <th>fifth fold</th>\n",
              "      <td>83.870968</td>\n",
              "      <td>100.000000</td>\n",
              "      <td>53.225806</td>\n",
              "      <td>93.548387</td>\n",
              "      <td>95.161290</td>\n",
              "      <td>95.161290</td>\n",
              "    </tr>\n",
              "  </tbody>\n",
              "</table>\n",
              "</div>"
            ],
            "text/plain": [
              "             NaiveBayes  logistic regression  ...         SVM  Combination\n",
              "first fold    95.238095           100.000000  ...   96.825397    96.825397\n",
              "second fold   93.650794            98.412698  ...   93.650794    93.650794\n",
              "third fold    82.258065           100.000000  ...  100.000000   100.000000\n",
              "fourth fold   90.322581            96.774194  ...   95.161290    95.161290\n",
              "fifth fold    83.870968           100.000000  ...   95.161290    95.161290\n",
              "\n",
              "[5 rows x 6 columns]"
            ]
          },
          "metadata": {
            "tags": []
          },
          "execution_count": 308
        },
        {
          "output_type": "execute_result",
          "data": {
            "text/plain": [
              "Text(0.5, 1.0, 'Cross Validatio summary')"
            ]
          },
          "metadata": {
            "tags": []
          },
          "execution_count": 308
        },
        {
          "output_type": "display_data",
          "data": {
            "image/png": "[encoded data removed]",
            "text/plain": [
              "<Figure size 432x288 with 1 Axes>"
            ]
          },
          "metadata": {
            "tags": [],
            "needs_background": "light"
          }
        }
      ]
    },
    {
      "cell_type": "code",
      "metadata": {
        "id": "vTbvuVQZzRD9",
        "colab_type": "code",
        "colab": {
          "base_uri": "https://localhost:8080/",
          "height": 1000
        },
        "outputId": "a513a137-5e0c-4467-b38c-171a61e06461"
      },
      "source": [
        "fig = plt.figure()\n",
        "fig.suptitle('Model Comparison')\n",
        "ax = fig.add_subplot(111)\n",
        "plt.boxplot(acc_cross_validation)\n",
        "ax.set_xticklabels(df_resultcol,rotation=10)\n",
        "plt.show()\n",
        "fig.savefig('/content/drive/My Drive/project/CGR_data/Model_Comparison.jpg', dpi=400)"
      ],
      "execution_count": 309,
      "outputs": [
        {
          "output_type": "execute_result",
          "data": {
            "text/plain": [
              "Text(0.5, 0.98, 'Model Comparison')"
            ]
          },
          "metadata": {
            "tags": []
          },
          "execution_count": 309
        },
        {
          "output_type": "execute_result",
          "data": {
            "text/plain": [
              "{'boxes': [<matplotlib.lines.Line2D at 0x7f852625d898>,\n",
              "  <matplotlib.lines.Line2D at 0x7f85261f70f0>,\n",
              "  <matplotlib.lines.Line2D at 0x7f8526201860>,\n",
              "  <matplotlib.lines.Line2D at 0x7f852620df98>,\n",
              "  <matplotlib.lines.Line2D at 0x7f8526227710>],\n",
              " 'caps': [<matplotlib.lines.Line2D at 0x7f852626b2e8>,\n",
              "  <matplotlib.lines.Line2D at 0x7f852626b668>,\n",
              "  <matplotlib.lines.Line2D at 0x7f85261f7b38>,\n",
              "  <matplotlib.lines.Line2D at 0x7f85261f7e80>,\n",
              "  <matplotlib.lines.Line2D at 0x7f852620d2b0>,\n",
              "  <matplotlib.lines.Line2D at 0x7f852620d5f8>,\n",
              "  <matplotlib.lines.Line2D at 0x7f852621b9e8>,\n",
              "  <matplotlib.lines.Line2D at 0x7f852621bd30>,\n",
              "  <matplotlib.lines.Line2D at 0x7f8526232160>,\n",
              "  <matplotlib.lines.Line2D at 0x7f85262324a8>],\n",
              " 'fliers': [<matplotlib.lines.Line2D at 0x7f852626bd68>,\n",
              "  <matplotlib.lines.Line2D at 0x7f8526201550>,\n",
              "  <matplotlib.lines.Line2D at 0x7f852620dc88>,\n",
              "  <matplotlib.lines.Line2D at 0x7f8526227400>,\n",
              "  <matplotlib.lines.Line2D at 0x7f8526232b38>],\n",
              " 'means': [],\n",
              " 'medians': [<matplotlib.lines.Line2D at 0x7f852626b9e8>,\n",
              "  <matplotlib.lines.Line2D at 0x7f8526201208>,\n",
              "  <matplotlib.lines.Line2D at 0x7f852620d940>,\n",
              "  <matplotlib.lines.Line2D at 0x7f85262270b8>,\n",
              "  <matplotlib.lines.Line2D at 0x7f85262327f0>],\n",
              " 'whiskers': [<matplotlib.lines.Line2D at 0x7f852625dba8>,\n",
              "  <matplotlib.lines.Line2D at 0x7f852625df28>,\n",
              "  <matplotlib.lines.Line2D at 0x7f85261f74a8>,\n",
              "  <matplotlib.lines.Line2D at 0x7f85261f77f0>,\n",
              "  <matplotlib.lines.Line2D at 0x7f8526201be0>,\n",
              "  <matplotlib.lines.Line2D at 0x7f8526201f28>,\n",
              "  <matplotlib.lines.Line2D at 0x7f852621b358>,\n",
              "  <matplotlib.lines.Line2D at 0x7f852621b6a0>,\n",
              "  <matplotlib.lines.Line2D at 0x7f8526227a90>,\n",
              "  <matplotlib.lines.Line2D at 0x7f8526227dd8>]}"
            ]
          },
          "metadata": {
            "tags": []
          },
          "execution_count": 309
        },
        {
          "output_type": "execute_result",
          "data": {
            "text/plain": [
              "[Text(0, 0, 'NaiveBayes'),\n",
              " Text(0, 0, 'logistic regression'),\n",
              " Text(0, 0, 'KNN'),\n",
              " Text(0, 0, 'Perceptron'),\n",
              " Text(0, 0, 'SVM')]"
            ]
          },
          "metadata": {
            "tags": []
          },
          "execution_count": 309
        },
        {
          "output_type": "display_data",
          "data": {
            "image/png": "[encoded data removed]",
            "text/plain": [
              "<Figure size 432x288 with 1 Axes>"
            ]
          },
          "metadata": {
            "tags": [],
            "needs_background": "light"
          }
        }
      ]
    },
    {
      "cell_type": "code",
      "metadata": {
        "id": "X7i3Lu2ZLgbP",
        "colab_type": "code",
        "colab": {
          "base_uri": "https://localhost:8080/",
          "height": 317
        },
        "outputId": "f8ac2f04-8eba-4b04-d69a-f6b956db04de"
      },
      "source": [
        "Accuracy=df_result.loc['Accuracy']\n",
        "Sensitivity=df_result.loc['Sensitivity'] # Recall\n",
        "Specificity=df_result.loc['Specificity']\n",
        "Precision=df_result.loc['Precision']\n",
        "index2=['NaiveBayes','logistic regression', 'KNN', 'Perceptron', 'SVM','Combination']\n",
        "df2 = pd.DataFrame({'Accuracy': Accuracy,'Precision':Precision,'Specificity': Specificity,'Sensitivity': Sensitivity}, index=index2)\n",
        "ax2 = df2.plot.bar(rot=10)\n",
        "figure8 = ax2.get_figure()   \n",
        "plt.title(\"Summary\")\n",
        "figure8.savefig('/content/drive/My Drive/project/CGR_data/Summary.jpg', dpi=400)"
      ],
      "execution_count": 312,
      "outputs": [
        {
          "output_type": "execute_result",
          "data": {
            "text/plain": [
              "Text(0.5, 1.0, 'Summary')"
            ]
          },
          "metadata": {
            "tags": []
          },
          "execution_count": 312
        },
        {
          "output_type": "display_data",
          "data": {
            "image/png": "[encoded data removed]",
            "text/plain": [
              "<Figure size 432x288 with 1 Axes>"
            ]
          },
          "metadata": {
            "tags": [],
            "needs_background": "light"
          }
        }
      ]
    },
    {
      "cell_type": "code",
      "metadata": {
        "id": "jH1QT93U_cfn",
        "colab_type": "code",
        "colab": {
          "base_uri": "https://localhost:8080/",
          "height": 37
        },
        "outputId": "1c9b990e-2e10-4ace-cf73-6f3563142cdf"
      },
      "source": [
        "print('Duration: {} seconds'.format(time.time() - start))"
      ],
      "execution_count": 311,
      "outputs": [
        {
          "output_type": "stream",
          "text": [
            "Duration: 358.3866374492645 seconds\n"
          ],
          "name": "stdout"
        }
      ]
    }
  ]
}
